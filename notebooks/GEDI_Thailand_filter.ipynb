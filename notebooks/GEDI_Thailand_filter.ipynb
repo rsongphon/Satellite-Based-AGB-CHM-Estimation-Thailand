{
 "cells": [
  {
   "cell_type": "code",
   "execution_count": 1,
   "id": "3ce506d4-4141-4710-a41a-a8228af6783d",
   "metadata": {},
   "outputs": [],
   "source": [
    "import os\n",
    "import h5py\n",
    "import numpy as np\n",
    "import pandas as pd\n",
    "import geopandas as gpd\n",
    "from shapely.geometry import Point\n",
    "from tqdm import tqdm\n",
    "import glob"
   ]
  },
  {
   "cell_type": "code",
   "execution_count": 2,
   "id": "1b436af9-43b8-46e5-b6b5-014452a78df3",
   "metadata": {},
   "outputs": [
    {
     "name": "stdout",
     "output_type": "stream",
     "text": [
      "2023/02/14 16:25:23.413669 Start gcsfuse/0.41.7 (Go version go1.18.4) for app \"\" using mount point: /home/jupyter/gcs\n",
      "2023/02/14 16:25:23.428606 Opening GCS connection...\n",
      "2023/02/14 16:25:23.494663 Mounting file system \"varuna-data-nonprod-analytic\"...\n",
      "daemonize.Run: readFromProcess: sub-process: mountWithArgs: mountWithConn: Mount: mount: running /usr/bin/fusermount: exit status 1\n"
     ]
    }
   ],
   "source": [
    "!bash /home/jupyter/gcsmount.sh"
   ]
  },
  {
   "cell_type": "code",
   "execution_count": 3,
   "id": "931c9fc3-0439-49a4-8890-c1bd8cf8ab3c",
   "metadata": {},
   "outputs": [],
   "source": [
    "import os\n",
    "os.chdir('/home/jupyter')"
   ]
  },
  {
   "cell_type": "code",
   "execution_count": 4,
   "id": "0bc01b3f-bb4f-41e4-9612-da63da64462f",
   "metadata": {
    "tags": []
   },
   "outputs": [],
   "source": [
    "# get data list\n",
    "data_list = []\n",
    "for data in glob.glob('gcs/biomass-estimation-project/vm-backup/GEDI_L2/Raw_2020-2021_train/GEDI02_A.002/EDI02_A.002/**/*.h5'):\n",
    "    data_list.append(data)"
   ]
  },
  {
   "cell_type": "code",
   "execution_count": 5,
   "id": "d76fe124-bffd-45cf-a465-7fbf0291a357",
   "metadata": {
    "tags": []
   },
   "outputs": [
    {
     "data": {
      "text/plain": [
       "['gcs/biomass-estimation-project/vm-backup/GEDI_L2/Raw_2020-2021_train/GEDI02_A.002/EDI02_A.002/2020.11.02/GEDI02_A_2020307024023_O10708_03_T10158_02_003_02_V002.h5',\n",
       " 'gcs/biomass-estimation-project/vm-backup/GEDI_L2/Raw_2020-2021_train/GEDI02_A.002/EDI02_A.002/2020.11.02/GEDI02_A_2020307163618_O10717_02_T08285_02_003_02_V002.h5',\n",
       " 'gcs/biomass-estimation-project/vm-backup/GEDI_L2/Raw_2020-2021_train/GEDI02_A.002/EDI02_A.002/2020.11.03/GEDI02_A_2020308015334_O10723_03_T07985_02_003_02_V002.h5',\n",
       " 'gcs/biomass-estimation-project/vm-backup/GEDI_L2/Raw_2020-2021_train/GEDI02_A.002/EDI02_A.002/2020.11.03/GEDI02_A_2020308154929_O10732_02_T06112_02_003_02_V002.h5',\n",
       " 'gcs/biomass-estimation-project/vm-backup/GEDI_L2/Raw_2020-2021_train/GEDI02_A.002/EDI02_A.002/2020.11.04/GEDI02_A_2020309010646_O10738_03_T08658_02_003_02_V002.h5',\n",
       " 'gcs/biomass-estimation-project/vm-backup/GEDI_L2/Raw_2020-2021_train/GEDI02_A.002/EDI02_A.002/2020.11.04/GEDI02_A_2020309150240_O10747_02_T11207_02_003_02_V002.h5',\n",
       " 'gcs/biomass-estimation-project/vm-backup/GEDI_L2/Raw_2020-2021_train/GEDI02_A.002/EDI02_A.002/2020.11.06/GEDI02_A_2020311010600_O10769_03_T07312_02_003_02_V002.h5',\n",
       " 'gcs/biomass-estimation-project/vm-backup/GEDI_L2/Raw_2020-2021_train/GEDI02_A.002/EDI02_A.002/2020.11.06/GEDI02_A_2020311150155_O10778_02_T06862_02_003_02_V002.h5',\n",
       " 'gcs/biomass-estimation-project/vm-backup/GEDI_L2/Raw_2020-2021_train/GEDI02_A.002/EDI02_A.002/2020.11.07/GEDI02_A_2020312001911_O10784_03_T06562_02_003_02_V002.h5',\n",
       " 'gcs/biomass-estimation-project/vm-backup/GEDI_L2/Raw_2020-2021_train/GEDI02_A.002/EDI02_A.002/2020.11.07/GEDI02_A_2020312141505_O10793_02_T10534_02_003_02_V002.h5',\n",
       " 'gcs/biomass-estimation-project/vm-backup/GEDI_L2/Raw_2020-2021_train/GEDI02_A.002/EDI02_A.002/2020.11.07/GEDI02_A_2020312233222_O10799_03_T10234_02_003_02_V002.h5',\n",
       " 'gcs/biomass-estimation-project/vm-backup/GEDI_L2/Raw_2020-2021_train/GEDI02_A.002/EDI02_A.002/2020.11.08/GEDI02_A_2020313132816_O10808_02_T06938_02_003_02_V002.h5',\n",
       " 'gcs/biomass-estimation-project/vm-backup/GEDI_L2/Raw_2020-2021_train/GEDI02_A.002/EDI02_A.002/2020.11.09/GEDI02_A_2020314233134_O10830_03_T10311_02_003_02_V002.h5',\n",
       " 'gcs/biomass-estimation-project/vm-backup/GEDI_L2/Raw_2020-2021_train/GEDI02_A.002/EDI02_A.002/2020.11.10/GEDI02_A_2020315132729_O10839_02_T08438_02_003_02_V002.h5',\n",
       " 'gcs/biomass-estimation-project/vm-backup/GEDI_L2/Raw_2020-2021_train/GEDI02_A.002/EDI02_A.002/2020.11.10/GEDI02_A_2020315224445_O10845_03_T06715_02_003_02_V002.h5',\n",
       " 'gcs/biomass-estimation-project/vm-backup/GEDI_L2/Raw_2020-2021_train/GEDI02_A.002/EDI02_A.002/2020.11.11/GEDI02_A_2020316124038_O10854_02_T10687_02_003_02_V002.h5',\n",
       " 'gcs/biomass-estimation-project/vm-backup/GEDI_L2/Raw_2020-2021_train/GEDI02_A.002/EDI02_A.002/2020.11.11/GEDI02_A_2020316215754_O10860_03_T10387_02_003_02_V002.h5',\n",
       " 'gcs/biomass-estimation-project/vm-backup/GEDI_L2/Raw_2020-2021_train/GEDI02_A.002/EDI02_A.002/2020.11.12/GEDI02_A_2020317115348_O10869_02_T07091_02_003_02_V002.h5',\n",
       " 'gcs/biomass-estimation-project/vm-backup/GEDI_L2/Raw_2020-2021_train/GEDI02_A.002/EDI02_A.002/2020.11.13/GEDI02_A_2020318215729_O10891_03_T08888_02_003_02_V002.h5',\n",
       " 'gcs/biomass-estimation-project/vm-backup/GEDI_L2/Raw_2020-2021_train/GEDI02_A.002/EDI02_A.002/2020.11.14/GEDI02_A_2020319115335_O10900_02_T09861_02_003_02_V002.h5',\n",
       " 'gcs/biomass-estimation-project/vm-backup/GEDI_L2/Raw_2020-2021_train/GEDI02_A.002/EDI02_A.002/2020.11.14/GEDI02_A_2020319211100_O10906_03_T11137_02_003_02_V002.h5',\n",
       " 'gcs/biomass-estimation-project/vm-backup/GEDI_L2/Raw_2020-2021_train/GEDI02_A.002/EDI02_A.002/2020.11.15/GEDI02_A_2020320110705_O10915_02_T07841_02_003_02_V002.h5',\n",
       " 'gcs/biomass-estimation-project/vm-backup/GEDI_L2/Raw_2020-2021_train/GEDI02_A.002/EDI02_A.002/2020.11.17/GEDI02_A_2020322202422_O10952_03_T06042_02_003_02_V002.h5',\n",
       " 'gcs/biomass-estimation-project/vm-backup/GEDI_L2/Raw_2020-2021_train/GEDI02_A.002/EDI02_A.002/2020.11.18/GEDI02_A_2020323102027_O10961_02_T07015_02_003_02_V002.h5',\n",
       " 'gcs/biomass-estimation-project/vm-backup/GEDI_L2/Raw_2020-2021_train/GEDI02_A.002/EDI02_A.002/2020.11.18/GEDI02_A_2020323193751_O10967_03_T09561_02_003_02_V002.h5',\n",
       " 'gcs/biomass-estimation-project/vm-backup/GEDI_L2/Raw_2020-2021_train/GEDI02_A.002/EDI02_A.002/2020.11.19/GEDI02_A_2020324093356_O10976_02_T09111_02_003_02_V002.h5',\n",
       " 'gcs/biomass-estimation-project/vm-backup/GEDI_L2/Raw_2020-2021_train/GEDI02_A.002/EDI02_A.002/2020.11.19/GEDI02_A_2020324185120_O10982_03_T08811_02_003_02_V002.h5',\n",
       " 'gcs/biomass-estimation-project/vm-backup/GEDI_L2/Raw_2020-2021_train/GEDI02_A.002/EDI02_A.002/2020.11.20/GEDI02_A_2020325084728_O10991_02_T11360_02_003_02_V002.h5',\n",
       " 'gcs/biomass-estimation-project/vm-backup/GEDI_L2/Raw_2020-2021_train/GEDI02_A.002/EDI02_A.002/2020.11.21/GEDI02_A_2020326185117_O11013_03_T07465_02_003_02_V002.h5',\n",
       " 'gcs/biomass-estimation-project/vm-backup/GEDI_L2/Raw_2020-2021_train/GEDI02_A.002/EDI02_A.002/2020.11.22/GEDI02_A_2020327084723_O11022_02_T11284_02_003_02_V002.h5',\n",
       " 'gcs/biomass-estimation-project/vm-backup/GEDI_L2/Raw_2020-2021_train/GEDI02_A.002/EDI02_A.002/2020.11.22/GEDI02_A_2020327180447_O11028_03_T08138_02_003_02_V002.h5',\n",
       " 'gcs/biomass-estimation-project/vm-backup/GEDI_L2/Raw_2020-2021_train/GEDI02_A.002/EDI02_A.002/2020.11.23/GEDI02_A_2020328080053_O11037_02_T06265_02_003_02_V002.h5',\n",
       " 'gcs/biomass-estimation-project/vm-backup/GEDI_L2/Raw_2020-2021_train/GEDI02_A.002/EDI02_A.002/2020.11.23/GEDI02_A_2020328171817_O11043_03_T05965_02_003_02_V002.h5',\n",
       " 'gcs/biomass-estimation-project/vm-backup/GEDI_L2/Raw_2020-2021_train/GEDI02_A.002/EDI02_A.002/2020.11.24/GEDI02_A_2020329071422_O11052_02_T09784_02_003_02_V002.h5',\n",
       " 'gcs/biomass-estimation-project/vm-backup/GEDI_L2/Raw_2020-2021_train/GEDI02_A.002/EDI02_A.002/2020.11.25/GEDI02_A_2020330171806_O11074_03_T08735_02_003_02_V002.h5',\n",
       " 'gcs/biomass-estimation-project/vm-backup/GEDI_L2/Raw_2020-2021_train/GEDI02_A.002/EDI02_A.002/2020.11.26/GEDI02_A_2020331071411_O11083_02_T09708_02_003_02_V002.h5',\n",
       " 'gcs/biomass-estimation-project/vm-backup/GEDI_L2/Raw_2020-2021_train/GEDI02_A.002/EDI02_A.002/2020.11.27/GEDI02_A_2020332062738_O11098_02_T07688_02_003_02_V002.h5',\n",
       " 'gcs/biomass-estimation-project/vm-backup/GEDI_L2/Raw_2020-2021_train/GEDI02_A.002/EDI02_A.002/2020.11.27/GEDI02_A_2020332154501_O11104_03_T07388_02_003_02_V002.h5',\n",
       " 'gcs/biomass-estimation-project/vm-backup/GEDI_L2/Raw_2020-2021_train/GEDI02_A.002/EDI02_A.002/2020.11.28/GEDI02_A_2020333054107_O11113_02_T08361_02_003_02_V002.h5',\n",
       " 'gcs/biomass-estimation-project/vm-backup/GEDI_L2/Raw_2020-2021_train/GEDI02_A.002/EDI02_A.002/2020.11.29/GEDI02_A_2020334154451_O11135_03_T05889_02_003_02_V002.h5',\n",
       " 'gcs/biomass-estimation-project/vm-backup/GEDI_L2/Raw_2020-2021_train/GEDI02_A.002/EDI02_A.002/2020.11.30/GEDI02_A_2020335054055_O11144_02_T10014_02_003_02_V002.h5',\n",
       " 'gcs/biomass-estimation-project/vm-backup/GEDI_L2/Raw_2020-2021_train/GEDI02_A.002/EDI02_A.002/2020.11.30/GEDI02_A_2020335145818_O11150_03_T09408_02_003_02_V002.h5',\n",
       " 'gcs/biomass-estimation-project/vm-backup/GEDI_L2/Raw_2020-2021_train/GEDI02_A.002/EDI02_A.002/2020.12.01/GEDI02_A_2020336045419_O11159_02_T08958_02_003_02_V002.h5',\n",
       " 'gcs/biomass-estimation-project/vm-backup/GEDI_L2/Raw_2020-2021_train/GEDI02_A.002/EDI02_A.002/2020.12.01/GEDI02_A_2020336141141_O11165_03_T06118_02_003_02_V002.h5',\n",
       " 'gcs/biomass-estimation-project/vm-backup/GEDI_L2/Raw_2020-2021_train/GEDI02_A.002/EDI02_A.002/2020.12.02/GEDI02_A_2020337040742_O11174_02_T09937_02_003_02_V002.h5',\n",
       " 'gcs/biomass-estimation-project/vm-backup/GEDI_L2/Raw_2020-2021_train/GEDI02_A.002/EDI02_A.002/2020.12.03/GEDI02_A_2020338141122_O11196_03_T10464_02_003_02_V002.h5',\n",
       " 'gcs/biomass-estimation-project/vm-backup/GEDI_L2/Raw_2020-2021_train/GEDI02_A.002/EDI02_A.002/2020.12.04/GEDI02_A_2020339040724_O11205_02_T07168_02_003_02_V002.h5',\n",
       " 'gcs/biomass-estimation-project/vm-backup/GEDI_L2/Raw_2020-2021_train/GEDI02_A.002/EDI02_A.002/2020.12.04/GEDI02_A_2020339132445_O11211_03_T08291_02_003_02_V002.h5',\n",
       " 'gcs/biomass-estimation-project/vm-backup/GEDI_L2/Raw_2020-2021_train/GEDI02_A.002/EDI02_A.002/2020.12.05/GEDI02_A_2020340032047_O11220_02_T06418_02_003_02_V002.h5',\n",
       " 'gcs/biomass-estimation-project/vm-backup/GEDI_L2/Raw_2020-2021_train/GEDI02_A.002/EDI02_A.002/2020.12.06/GEDI02_A_2020341023411_O11235_02_T10090_02_003_02_V002.h5',\n",
       " 'gcs/biomass-estimation-project/vm-backup/GEDI_L2/Raw_2020-2021_train/GEDI02_A.002/EDI02_A.002/2020.12.06/GEDI02_A_2020341132426_O11242_03_T09638_02_003_02_V002.h5',\n",
       " 'gcs/biomass-estimation-project/vm-backup/GEDI_L2/Raw_2020-2021_train/GEDI02_A.002/EDI02_A.002/2020.12.08/GEDI02_A_2020343023351_O11266_02_T08438_02_003_02_V002.h5',\n",
       " 'gcs/biomass-estimation-project/vm-backup/GEDI_L2/Raw_2020-2021_train/GEDI02_A.002/EDI02_A.002/2020.12.08/GEDI02_A_2020343115112_O11272_03_T06868_02_003_02_V002.h5',\n",
       " 'gcs/biomass-estimation-project/vm-backup/GEDI_L2/Raw_2020-2021_train/GEDI02_A.002/EDI02_A.002/2020.12.09/GEDI02_A_2020344014713_O11281_02_T09264_02_003_02_V002.h5',\n",
       " 'gcs/biomass-estimation-project/vm-backup/GEDI_L2/Raw_2020-2021_train/GEDI02_A.002/EDI02_A.002/2020.12.09/GEDI02_A_2020344110435_O11287_03_T05965_02_003_02_V002.h5',\n",
       " 'gcs/biomass-estimation-project/vm-backup/GEDI_L2/Raw_2020-2021_train/GEDI02_A.002/EDI02_A.002/2020.12.10/GEDI02_A_2020345010036_O11296_02_T07244_02_003_02_V002.h5',\n",
       " 'gcs/biomass-estimation-project/vm-backup/GEDI_L2/Raw_2020-2021_train/GEDI02_A.002/EDI02_A.002/2020.12.10/GEDI02_A_2020345115051_O11303_03_T11214_02_003_02_V002.h5',\n",
       " 'gcs/biomass-estimation-project/vm-backup/GEDI_L2/Raw_2020-2021_train/GEDI02_A.002/EDI02_A.002/2020.12.11/GEDI02_A_2020346110412_O11318_03_T07465_02_003_02_V002.h5',\n",
       " 'gcs/biomass-estimation-project/vm-backup/GEDI_L2/Raw_2020-2021_train/GEDI02_A.002/EDI02_A.002/2020.12.12/GEDI02_A_2020347010014_O11327_02_T05745_02_003_02_V002.h5',\n",
       " 'gcs/biomass-estimation-project/vm-backup/GEDI_L2/Raw_2020-2021_train/GEDI02_A.002/EDI02_A.002/2020.12.12/GEDI02_A_2020347101735_O11333_03_T09714_02_003_02_V002.h5',\n",
       " 'gcs/biomass-estimation-project/vm-backup/GEDI_L2/Raw_2020-2021_train/GEDI02_A.002/EDI02_A.002/2020.12.13/GEDI02_A_2020348001336_O11342_02_T10840_02_003_02_V002.h5',\n",
       " 'gcs/biomass-estimation-project/vm-backup/GEDI_L2/Raw_2020-2021_train/GEDI02_A.002/EDI02_A.002/2020.12.13/GEDI02_A_2020348093056_O11348_03_T08964_02_003_02_V002.h5',\n",
       " 'gcs/biomass-estimation-project/vm-backup/GEDI_L2/Raw_2020-2021_train/GEDI02_A.002/EDI02_A.002/2020.12.13/GEDI02_A_2020348232657_O11357_02_T05821_02_003_02_V002.h5',\n",
       " 'gcs/biomass-estimation-project/vm-backup/GEDI_L2/Raw_2020-2021_train/GEDI02_A.002/EDI02_A.002/2020.12.14/GEDI02_A_2020349101711_O11364_03_T08368_02_003_02_V002.h5',\n",
       " 'gcs/biomass-estimation-project/vm-backup/GEDI_L2/Raw_2020-2021_train/GEDI02_A.002/EDI02_A.002/2020.12.15/GEDI02_A_2020350093035_O11379_03_T06195_02_003_02_V002.h5',\n",
       " 'gcs/biomass-estimation-project/vm-backup/GEDI_L2/Raw_2020-2021_train/GEDI02_A.002/EDI02_A.002/2020.12.15/GEDI02_A_2020350232636_O11388_02_T08591_02_003_02_V002.h5',\n",
       " 'gcs/biomass-estimation-project/vm-backup/GEDI_L2/Raw_2020-2021_train/GEDI02_A.002/EDI02_A.002/2020.12.16/GEDI02_A_2020351084355_O11394_03_T11290_02_003_02_V002.h5',\n",
       " 'gcs/biomass-estimation-project/vm-backup/GEDI_L2/Raw_2020-2021_train/GEDI02_A.002/EDI02_A.002/2020.12.16/GEDI02_A_2020351223956_O11403_02_T07994_02_003_02_V002.h5',\n",
       " 'gcs/biomass-estimation-project/vm-backup/GEDI_L2/Raw_2020-2021_train/GEDI02_A.002/EDI02_A.002/2020.12.17/GEDI02_A_2020352075717_O11409_03_T10540_02_003_02_V002.h5',\n",
       " 'gcs/biomass-estimation-project/vm-backup/GEDI_L2/Raw_2020-2021_train/GEDI02_A.002/EDI02_A.002/2020.12.17/GEDI02_A_2020352215317_O11418_02_T08667_02_003_02_V002.h5',\n",
       " 'gcs/biomass-estimation-project/vm-backup/GEDI_L2/Raw_2020-2021_train/GEDI02_A.002/EDI02_A.002/2020.12.18/GEDI02_A_2020353084331_O11425_03_T06945_02_003_02_V002.h5',\n",
       " 'gcs/biomass-estimation-project/vm-backup/GEDI_L2/Raw_2020-2021_train/GEDI02_A.002/EDI02_A.002/2020.12.19/GEDI02_A_2020354075652_O11440_03_T09041_02_003_02_V002.h5',\n",
       " 'gcs/biomass-estimation-project/vm-backup/GEDI_L2/Raw_2020-2021_train/GEDI02_A.002/EDI02_A.002/2020.12.19/GEDI02_A_2020354215253_O11449_02_T10167_02_003_02_V002.h5',\n",
       " 'gcs/biomass-estimation-project/vm-backup/GEDI_L2/Raw_2020-2021_train/GEDI02_A.002/EDI02_A.002/2020.12.20/GEDI02_A_2020355071013_O11455_03_T08444_02_003_02_V002.h5',\n",
       " 'gcs/biomass-estimation-project/vm-backup/GEDI_L2/Raw_2020-2021_train/GEDI02_A.002/EDI02_A.002/2020.12.20/GEDI02_A_2020355210613_O11464_02_T06571_02_003_02_V002.h5',\n",
       " 'gcs/biomass-estimation-project/vm-backup/GEDI_L2/Raw_2020-2021_train/GEDI02_A.002/EDI02_A.002/2020.12.21/GEDI02_A_2020356062334_O11470_03_T07694_02_003_02_V002.h5',\n",
       " 'gcs/biomass-estimation-project/vm-backup/GEDI_L2/Raw_2020-2021_train/GEDI02_A.002/EDI02_A.002/2020.12.21/GEDI02_A_2020356201934_O11479_02_T10243_02_003_02_V002.h5',\n",
       " 'gcs/biomass-estimation-project/vm-backup/GEDI_L2/Raw_2020-2021_train/GEDI02_A.002/EDI02_A.002/2020.12.22/GEDI02_A_2020357070948_O11486_03_T09791_02_003_02_V002.h5',\n",
       " 'gcs/biomass-estimation-project/vm-backup/GEDI_L2/Raw_2020-2021_train/GEDI02_A.002/EDI02_A.002/2020.12.23/GEDI02_A_2020358062307_O11501_03_T10617_02_003_02_V002.h5',\n",
       " 'gcs/biomass-estimation-project/vm-backup/GEDI_L2/Raw_2020-2021_train/GEDI02_A.002/EDI02_A.002/2020.12.23/GEDI02_A_2020358201907_O11510_02_T07321_02_003_02_V002.h5',\n",
       " 'gcs/biomass-estimation-project/vm-backup/GEDI_L2/Raw_2020-2021_train/GEDI02_A.002/EDI02_A.002/2020.12.24/GEDI02_A_2020359053627_O11516_03_T07021_02_003_02_V002.h5',\n",
       " 'gcs/biomass-estimation-project/vm-backup/GEDI_L2/Raw_2020-2021_train/GEDI02_A.002/EDI02_A.002/2020.12.24/GEDI02_A_2020359193227_O11525_02_T09417_02_003_02_V002.h5',\n",
       " 'gcs/biomass-estimation-project/vm-backup/GEDI_L2/Raw_2020-2021_train/GEDI02_A.002/EDI02_A.002/2020.12.25/GEDI02_A_2020360044947_O11531_03_T06271_02_003_02_V002.h5',\n",
       " 'gcs/biomass-estimation-project/vm-backup/GEDI_L2/Raw_2020-2021_train/GEDI02_A.002/EDI02_A.002/2020.12.25/GEDI02_A_2020360184546_O11540_02_T07397_02_003_02_V002.h5',\n",
       " 'gcs/biomass-estimation-project/vm-backup/GEDI_L2/Raw_2020-2021_train/GEDI02_A.002/EDI02_A.002/2020.12.26/GEDI02_A_2020361053559_O11547_03_T11367_02_003_02_V002.h5',\n",
       " 'gcs/biomass-estimation-project/vm-backup/GEDI_L2/Raw_2020-2021_train/GEDI02_A.002/EDI02_A.002/2020.12.27/GEDI02_A_2020362044918_O11562_03_T07771_02_003_02_V002.h5',\n",
       " 'gcs/biomass-estimation-project/vm-backup/GEDI_L2/Raw_2020-2021_train/GEDI02_A.002/EDI02_A.002/2020.12.27/GEDI02_A_2020362184517_O11571_02_T05898_02_003_02_V002.h5',\n",
       " 'gcs/biomass-estimation-project/vm-backup/GEDI_L2/Raw_2020-2021_train/GEDI02_A.002/EDI02_A.002/2020.12.28/GEDI02_A_2020363040237_O11577_03_T09867_02_003_02_V002.h5',\n",
       " 'gcs/biomass-estimation-project/vm-backup/GEDI_L2/Raw_2020-2021_train/GEDI02_A.002/EDI02_A.002/2020.12.28/GEDI02_A_2020363175836_O11586_02_T10993_02_003_02_V002.h5',\n",
       " 'gcs/biomass-estimation-project/vm-backup/GEDI_L2/Raw_2020-2021_train/GEDI02_A.002/EDI02_A.002/2020.12.29/GEDI02_A_2020364031557_O11592_03_T09117_02_003_02_V002.h5',\n",
       " 'gcs/biomass-estimation-project/vm-backup/GEDI_L2/Raw_2020-2021_train/GEDI02_A.002/EDI02_A.002/2020.12.29/GEDI02_A_2020364171157_O11601_02_T05974_02_003_02_V002.h5',\n",
       " 'gcs/biomass-estimation-project/vm-backup/GEDI_L2/Raw_2020-2021_train/GEDI02_A.002/EDI02_A.002/2020.12.30/GEDI02_A_2020365040210_O11608_03_T08521_02_003_04_V002.h5',\n",
       " 'gcs/biomass-estimation-project/vm-backup/GEDI_L2/Raw_2020-2021_train/GEDI02_A.002/EDI02_A.002/2020.12.31/GEDI02_A_2020366031529_O11623_03_T06348_02_003_02_V002.h5',\n",
       " 'gcs/biomass-estimation-project/vm-backup/GEDI_L2/Raw_2020-2021_train/GEDI02_A.002/EDI02_A.002/2020.12.31/GEDI02_A_2020366171128_O11632_02_T08744_02_003_02_V002.h5',\n",
       " 'gcs/biomass-estimation-project/vm-backup/GEDI_L2/Raw_2020-2021_train/GEDI02_A.002/EDI02_A.002/2021.01.01/GEDI02_A_2021001022847_O11638_03_T10020_02_003_02_V002.h5',\n",
       " 'gcs/biomass-estimation-project/vm-backup/GEDI_L2/Raw_2020-2021_train/GEDI02_A.002/EDI02_A.002/2021.01.01/GEDI02_A_2021001162446_O11647_02_T08147_02_003_02_V002.h5',\n",
       " 'gcs/biomass-estimation-project/vm-backup/GEDI_L2/Raw_2020-2021_train/GEDI02_A.002/EDI02_A.002/2021.01.02/GEDI02_A_2021002014205_O11653_03_T10693_02_003_02_V002.h5',\n",
       " 'gcs/biomass-estimation-project/vm-backup/GEDI_L2/Raw_2020-2021_train/GEDI02_A.002/EDI02_A.002/2021.01.02/GEDI02_A_2021002153804_O11662_02_T08820_02_003_02_V002.h5',\n",
       " 'gcs/biomass-estimation-project/vm-backup/GEDI_L2/Raw_2020-2021_train/GEDI02_A.002/EDI02_A.002/2021.01.03/GEDI02_A_2021003022816_O11669_03_T07098_02_003_02_V002.h5',\n",
       " 'gcs/biomass-estimation-project/vm-backup/GEDI_L2/Raw_2020-2021_train/GEDI02_A.002/EDI02_A.002/2021.01.04/GEDI02_A_2021004014133_O11684_03_T09194_02_003_02_V002.h5',\n",
       " 'gcs/biomass-estimation-project/vm-backup/GEDI_L2/Raw_2020-2021_train/GEDI02_A.002/EDI02_A.002/2021.01.04/GEDI02_A_2021004153731_O11693_02_T10320_02_003_02_V002.h5',\n",
       " 'gcs/biomass-estimation-project/vm-backup/GEDI_L2/Raw_2020-2021_train/GEDI02_A.002/EDI02_A.002/2021.01.05/GEDI02_A_2021005005453_O11699_03_T07174_02_003_02_V002.h5',\n",
       " 'gcs/biomass-estimation-project/vm-backup/GEDI_L2/Raw_2020-2021_train/GEDI02_A.002/EDI02_A.002/2021.01.05/GEDI02_A_2021005145051_O11708_02_T06724_02_003_02_V002.h5',\n",
       " 'gcs/biomass-estimation-project/vm-backup/GEDI_L2/Raw_2020-2021_train/GEDI02_A.002/EDI02_A.002/2021.01.07/GEDI02_A_2021007005422_O11730_03_T09944_02_003_02_V002.h5',\n",
       " 'gcs/biomass-estimation-project/vm-backup/GEDI_L2/Raw_2020-2021_train/GEDI02_A.002/EDI02_A.002/2021.01.08/GEDI02_A_2021008000740_O11745_03_T10770_02_003_02_V002.h5',\n",
       " 'gcs/biomass-estimation-project/vm-backup/GEDI_L2/Raw_2020-2021_train/GEDI02_A.002/EDI02_A.002/2021.01.08/GEDI02_A_2021008140338_O11754_02_T07474_02_003_02_V002.h5',\n",
       " 'gcs/biomass-estimation-project/vm-backup/GEDI_L2/Raw_2020-2021_train/GEDI02_A.002/EDI02_A.002/2021.01.08/GEDI02_A_2021008232057_O11760_03_T05751_02_003_02_V002.h5',\n",
       " 'gcs/biomass-estimation-project/vm-backup/GEDI_L2/Raw_2020-2021_train/GEDI02_A.002/EDI02_A.002/2021.01.09/GEDI02_A_2021009131656_O11769_02_T04031_02_003_02_V002.h5',\n",
       " 'gcs/biomass-estimation-project/vm-backup/GEDI_L2/Raw_2020-2021_train/GEDI02_A.002/EDI02_A.002/2021.01.09/GEDI02_A_2021009223415_O11775_03_T02461_02_003_02_V002.h5',\n",
       " 'gcs/biomass-estimation-project/vm-backup/GEDI_L2/Raw_2020-2021_train/GEDI02_A.002/EDI02_A.002/2021.01.10/GEDI02_A_2021010123013_O11784_02_T07550_02_003_02_V002.h5',\n",
       " 'gcs/biomass-estimation-project/vm-backup/GEDI_L2/Raw_2020-2021_train/GEDI02_A.002/EDI02_A.002/2021.01.10/GEDI02_A_2021010232025_O11791_03_T07251_02_003_02_V002.h5',\n",
       " 'gcs/biomass-estimation-project/vm-backup/GEDI_L2/Raw_2020-2021_train/GEDI02_A.002/EDI02_A.002/2021.01.11/GEDI02_A_2021011223342_O11806_03_T09347_02_003_02_V002.h5',\n",
       " 'gcs/biomass-estimation-project/vm-backup/GEDI_L2/Raw_2020-2021_train/GEDI02_A.002/EDI02_A.002/2021.01.12/GEDI02_A_2021012214657_O11821_03_T07327_02_003_02_V002.h5',\n",
       " 'gcs/biomass-estimation-project/vm-backup/GEDI_L2/Raw_2020-2021_train/GEDI02_A.002/EDI02_A.002/2021.01.13/GEDI02_A_2021013114255_O11830_02_T02761_02_003_02_V002.h5',\n",
       " 'gcs/biomass-estimation-project/vm-backup/GEDI_L2/Raw_2020-2021_train/GEDI02_A.002/EDI02_A.002/2021.01.13/GEDI02_A_2021013210014_O11836_03_T03884_02_003_02_V002.h5',\n",
       " 'gcs/biomass-estimation-project/vm-backup/GEDI_L2/Raw_2020-2021_train/GEDI02_A.002/EDI02_A.002/2021.01.14/GEDI02_A_2021014105611_O11845_02_T10549_02_003_02_V002.h5',\n",
       " 'gcs/biomass-estimation-project/vm-backup/GEDI_L2/Raw_2020-2021_train/GEDI02_A.002/EDI02_A.002/2021.01.14/GEDI02_A_2021014214623_O11852_03_T08674_02_003_02_V002.h5',\n",
       " 'gcs/biomass-estimation-project/vm-backup/GEDI_L2/Raw_2020-2021_train/GEDI02_A.002/EDI02_A.002/2021.01.15/GEDI02_A_2021015205938_O11867_03_T08077_02_003_02_V002.h5',\n",
       " 'gcs/biomass-estimation-project/vm-backup/GEDI_L2/Raw_2020-2021_train/GEDI02_A.002/EDI02_A.002/2021.01.16/GEDI02_A_2021016105535_O11876_02_T06204_02_003_02_V002.h5',\n",
       " 'gcs/biomass-estimation-project/vm-backup/GEDI_L2/Raw_2020-2021_train/GEDI02_A.002/EDI02_A.002/2021.01.16/GEDI02_A_2021016201253_O11882_03_T08750_02_003_02_V002.h5',\n",
       " 'gcs/biomass-estimation-project/vm-backup/GEDI_L2/Raw_2020-2021_train/GEDI02_A.002/EDI02_A.002/2021.01.17/GEDI02_A_2021017100850_O11891_02_T11299_02_003_02_V002.h5',\n",
       " 'gcs/biomass-estimation-project/vm-backup/GEDI_L2/Raw_2020-2021_train/GEDI02_A.002/EDI02_A.002/2021.01.17/GEDI02_A_2021017192608_O11897_03_T02614_02_003_02_V002.h5',\n",
       " 'gcs/biomass-estimation-project/vm-backup/GEDI_L2/Raw_2020-2021_train/GEDI02_A.002/EDI02_A.002/2021.01.18/GEDI02_A_2021018092205_O11906_02_T00741_02_003_02_V002.h5',\n",
       " 'gcs/biomass-estimation-project/vm-backup/GEDI_L2/Raw_2020-2021_train/GEDI02_A.002/EDI02_A.002/2021.01.18/GEDI02_A_2021018201216_O11913_03_T05981_02_003_02_V002.h5',\n",
       " 'gcs/biomass-estimation-project/vm-backup/GEDI_L2/Raw_2020-2021_train/GEDI02_A.002/EDI02_A.002/2021.01.19/GEDI02_A_2021019192533_O11928_03_T11076_02_003_02_V002.h5',\n",
       " 'gcs/biomass-estimation-project/vm-backup/GEDI_L2/Raw_2020-2021_train/GEDI02_A.002/EDI02_A.002/2021.01.20/GEDI02_A_2021020183849_O11943_03_T06057_02_003_02_V002.h5',\n",
       " 'gcs/biomass-estimation-project/vm-backup/GEDI_L2/Raw_2020-2021_train/GEDI02_A.002/EDI02_A.002/2021.01.21/GEDI02_A_2021021083446_O11952_02_T09876_02_003_02_V002.h5',\n",
       " 'gcs/biomass-estimation-project/vm-backup/GEDI_L2/Raw_2020-2021_train/GEDI02_A.002/EDI02_A.002/2021.01.21/GEDI02_A_2021021175206_O11958_03_T11152_02_003_02_V002.h5',\n",
       " 'gcs/biomass-estimation-project/vm-backup/GEDI_L2/Raw_2020-2021_train/GEDI02_A.002/EDI02_A.002/2021.01.22/GEDI02_A_2021022074817_O11967_02_T05010_02_003_02_V002.h5',\n",
       " 'gcs/biomass-estimation-project/vm-backup/GEDI_L2/Raw_2020-2021_train/GEDI02_A.002/EDI02_A.002/2021.01.22/GEDI02_A_2021022183838_O11974_03_T00442_02_003_02_V002.h5',\n",
       " 'gcs/biomass-estimation-project/vm-backup/GEDI_L2/Raw_2020-2021_train/GEDI02_A.002/EDI02_A.002/2021.01.23/GEDI02_A_2021023175216_O11989_03_T09500_02_003_02_V002.h5',\n",
       " 'gcs/biomass-estimation-project/vm-backup/GEDI_L2/Raw_2020-2021_train/GEDI02_A.002/EDI02_A.002/2021.01.24/GEDI02_A_2021024074827_O11998_02_T10626_02_003_02_V002.h5',\n",
       " 'gcs/biomass-estimation-project/vm-backup/GEDI_L2/Raw_2020-2021_train/GEDI02_A.002/EDI02_A.002/2021.01.24/GEDI02_A_2021024170554_O12004_03_T10326_02_003_02_V002.h5',\n",
       " 'gcs/biomass-estimation-project/vm-backup/GEDI_L2/Raw_2020-2021_train/GEDI02_A.002/EDI02_A.002/2021.01.25/GEDI02_A_2021025070205_O12013_02_T08453_02_003_02_V002.h5',\n",
       " 'gcs/biomass-estimation-project/vm-backup/GEDI_L2/Raw_2020-2021_train/GEDI02_A.002/EDI02_A.002/2021.01.25/GEDI02_A_2021025161932_O12019_03_T10999_02_003_02_V002.h5',\n",
       " 'gcs/biomass-estimation-project/vm-backup/GEDI_L2/Raw_2020-2021_train/GEDI02_A.002/EDI02_A.002/2021.01.26/GEDI02_A_2021026061544_O12028_02_T07703_02_003_02_V002.h5',\n",
       " 'gcs/biomass-estimation-project/vm-backup/GEDI_L2/Raw_2020-2021_train/GEDI02_A.002/EDI02_A.002/2021.01.26/GEDI02_A_2021026170605_O12035_03_T10250_02_003_02_V002.h5',\n",
       " 'gcs/biomass-estimation-project/vm-backup/GEDI_L2/Raw_2020-2021_train/GEDI02_A.002/EDI02_A.002/2021.01.27/GEDI02_A_2021027161943_O12050_03_T10923_02_003_02_V002.h5',\n",
       " 'gcs/biomass-estimation-project/vm-backup/GEDI_L2/Raw_2020-2021_train/GEDI02_A.002/EDI02_A.002/2021.01.28/GEDI02_A_2021028061553_O12059_02_T07627_02_003_02_V002.h5',\n",
       " 'gcs/biomass-estimation-project/vm-backup/GEDI_L2/Raw_2020-2021_train/GEDI02_A.002/EDI02_A.002/2021.01.28/GEDI02_A_2021028153320_O12065_03_T10173_02_003_02_V002.h5',\n",
       " 'gcs/biomass-estimation-project/vm-backup/GEDI_L2/Raw_2020-2021_train/GEDI02_A.002/EDI02_A.002/2021.01.29/GEDI02_A_2021029052928_O12074_02_T08300_02_003_02_V002.h5',\n",
       " 'gcs/biomass-estimation-project/vm-backup/GEDI_L2/Raw_2020-2021_train/GEDI02_A.002/EDI02_A.002/2021.01.29/GEDI02_A_2021029144655_O12080_03_T06577_02_003_02_V002.h5',\n",
       " 'gcs/biomass-estimation-project/vm-backup/GEDI_L2/Raw_2020-2021_train/GEDI02_A.002/EDI02_A.002/2021.02.02/GEDI02_A_2021033035644_O12135_02_T09570_02_003_02_V002.h5',\n",
       " 'gcs/biomass-estimation-project/vm-backup/GEDI_L2/Raw_2020-2021_train/GEDI02_A.002/EDI02_A.002/2021.02.02/GEDI02_A_2021033131410_O12141_03_T09270_02_003_02_V002.h5',\n",
       " 'gcs/biomass-estimation-project/vm-backup/GEDI_L2/Raw_2020-2021_train/GEDI02_A.002/EDI02_A.002/2021.02.03/GEDI02_A_2021034031020_O12150_02_T08973_02_003_02_V002.h5',\n",
       " 'gcs/biomass-estimation-project/vm-backup/GEDI_L2/Raw_2020-2021_train/GEDI02_A.002/EDI02_A.002/2021.02.03/GEDI02_A_2021034140041_O12157_03_T05828_02_003_02_V002.h5',\n",
       " 'gcs/biomass-estimation-project/vm-backup/GEDI_L2/Raw_2020-2021_train/GEDI02_A.002/EDI02_A.002/2021.02.04/GEDI02_A_2021035131416_O12172_03_T07924_02_003_02_V002.h5',\n",
       " 'gcs/biomass-estimation-project/vm-backup/GEDI_L2/Raw_2020-2021_train/GEDI02_A.002/EDI02_A.002/2021.02.05/GEDI02_A_2021036031025_O12181_02_T08897_02_003_02_V002.h5',\n",
       " 'gcs/biomass-estimation-project/vm-backup/GEDI_L2/Raw_2020-2021_train/GEDI02_A.002/EDI02_A.002/2021.02.05/GEDI02_A_2021036122751_O12187_03_T10020_02_003_02_V002.h5',\n",
       " 'gcs/biomass-estimation-project/vm-backup/GEDI_L2/Raw_2020-2021_train/GEDI02_A.002/EDI02_A.002/2021.02.06/GEDI02_A_2021037022359_O12196_02_T11146_02_003_02_V002.h5',\n",
       " 'gcs/biomass-estimation-project/vm-backup/GEDI_L2/Raw_2020-2021_train/GEDI02_A.002/EDI02_A.002/2021.02.07/GEDI02_A_2021038013734_O12211_02_T07397_02_003_02_V002.h5',\n",
       " 'gcs/biomass-estimation-project/vm-backup/GEDI_L2/Raw_2020-2021_train/GEDI02_A.002/EDI02_A.002/2021.02.07/GEDI02_A_2021038122754_O12218_03_T11367_02_003_02_V002.h5',\n",
       " 'gcs/biomass-estimation-project/vm-backup/GEDI_L2/Raw_2020-2021_train/GEDI02_A.002/EDI02_A.002/2021.02.08/GEDI02_A_2021039114129_O12233_03_T07771_02_003_02_V002.h5',\n",
       " 'gcs/biomass-estimation-project/vm-backup/GEDI_L2/Raw_2020-2021_train/GEDI02_A.002/EDI02_A.002/2021.02.10/GEDI02_A_2021041005115_O12257_02_T06571_02_003_02_V002.h5',\n",
       " 'gcs/biomass-estimation-project/vm-backup/GEDI_L2/Raw_2020-2021_train/GEDI02_A.002/EDI02_A.002/2021.02.10/GEDI02_A_2021041100841_O12263_03_T07694_02_003_02_V002.h5',\n",
       " 'gcs/biomass-estimation-project/vm-backup/GEDI_L2/Raw_2020-2021_train/GEDI02_A.002/EDI02_A.002/2021.02.11/GEDI02_A_2021042000449_O12272_02_T05821_02_003_02_V002.h5',\n",
       " 'gcs/biomass-estimation-project/vm-backup/GEDI_L2/Raw_2020-2021_train/GEDI02_A.002/EDI02_A.002/2021.02.11/GEDI02_A_2021042105510_O12279_03_T01253_02_003_02_V002.h5',\n",
       " 'gcs/biomass-estimation-project/vm-backup/GEDI_L2/Raw_2020-2021_train/GEDI02_A.002/EDI02_A.002/2021.02.12/GEDI02_A_2021043100842_O12294_03_T06195_02_003_02_V002.h5',\n",
       " 'gcs/biomass-estimation-project/vm-backup/GEDI_L2/Raw_2020-2021_train/GEDI02_A.002/EDI02_A.002/2021.02.13/GEDI02_A_2021044000450_O12303_02_T08591_02_003_02_V002.h5',\n",
       " 'gcs/biomass-estimation-project/vm-backup/GEDI_L2/Raw_2020-2021_train/GEDI02_A.002/EDI02_A.002/2021.02.13/GEDI02_A_2021044092216_O12309_03_T09714_02_003_02_V002.h5',\n",
       " 'gcs/biomass-estimation-project/vm-backup/GEDI_L2/Raw_2020-2021_train/GEDI02_A.002/EDI02_A.002/2021.02.13/GEDI02_A_2021044231824_O12318_02_T10840_02_003_02_V002.h5',\n",
       " 'gcs/biomass-estimation-project/vm-backup/GEDI_L2/Raw_2020-2021_train/GEDI02_A.002/EDI02_A.002/2021.02.14/GEDI02_A_2021045083550_O12324_03_T10540_02_003_02_V002.h5',\n",
       " 'gcs/biomass-estimation-project/vm-backup/GEDI_L2/Raw_2020-2021_train/GEDI02_A.002/EDI02_A.002/2021.02.14/GEDI02_A_2021045223158_O12333_02_T10090_02_003_02_V002.h5',\n",
       " 'gcs/biomass-estimation-project/vm-backup/GEDI_L2/Raw_2020-2021_train/GEDI02_A.002/EDI02_A.002/2021.02.17/GEDI02_A_2021048214533_O12379_02_T06418_02_003_02_V002.h5',\n",
       " 'gcs/biomass-estimation-project/vm-backup/GEDI_L2/Raw_2020-2021_train/GEDI02_A.002/EDI02_A.002/2021.02.18/GEDI02_A_2021049070259_O12385_03_T06118_02_003_02_V002.h5',\n",
       " 'gcs/biomass-estimation-project/vm-backup/GEDI_L2/Raw_2020-2021_train/GEDI02_A.002/EDI02_A.002/2021.02.20/GEDI02_A_2021051070258_O12416_03_T06042_02_003_02_V002.h5',\n",
       " 'gcs/biomass-estimation-project/vm-backup/GEDI_L2/Raw_2020-2021_train/GEDI02_A.002/EDI02_A.002/2021.02.20/GEDI02_A_2021051205906_O12425_02_T09861_02_003_02_V002.h5',\n",
       " 'gcs/biomass-estimation-project/vm-backup/GEDI_L2/Raw_2020-2021_train/GEDI02_A.002/EDI02_A.002/2021.02.21/GEDI02_A_2021052061631_O12431_03_T03716_02_003_02_V002.h5',\n",
       " 'gcs/biomass-estimation-project/vm-backup/GEDI_L2/Raw_2020-2021_train/GEDI02_A.002/EDI02_A.002/2021.02.21/GEDI02_A_2021052201238_O12440_02_T10687_02_003_02_V002.h5',\n",
       " 'gcs/biomass-estimation-project/vm-backup/GEDI_L2/Raw_2020-2021_train/GEDI02_A.002/EDI02_A.002/2021.02.22/GEDI02_A_2021053192611_O12455_02_T08514_02_003_02_V002.h5',\n",
       " 'gcs/biomass-estimation-project/vm-backup/GEDI_L2/Raw_2020-2021_train/GEDI02_A.002/EDI02_A.002/2021.02.24/GEDI02_A_2021055053002_O12477_03_T10311_02_003_02_V002.h5',\n",
       " 'gcs/biomass-estimation-project/vm-backup/GEDI_L2/Raw_2020-2021_train/GEDI02_A.002/EDI02_A.002/2021.02.24/GEDI02_A_2021055192609_O12486_02_T07015_02_003_02_V002.h5',\n",
       " 'gcs/biomass-estimation-project/vm-backup/GEDI_L2/Raw_2020-2021_train/GEDI02_A.002/EDI02_A.002/2021.02.25/GEDI02_A_2021056044334_O12492_03_T08138_02_003_02_V002.h5',\n",
       " 'gcs/biomass-estimation-project/vm-backup/GEDI_L2/Raw_2020-2021_train/GEDI02_A.002/EDI02_A.002/2021.02.25/GEDI02_A_2021056183941_O12501_02_T06265_02_003_02_V002.h5',\n",
       " 'gcs/biomass-estimation-project/vm-backup/GEDI_L2/Raw_2020-2021_train/GEDI02_A.002/EDI02_A.002/2021.02.26/GEDI02_A_2021057035704_O12507_03_T08811_02_003_02_V002.h5',\n",
       " 'gcs/biomass-estimation-project/vm-backup/GEDI_L2/Raw_2020-2021_train/GEDI02_A.002/EDI02_A.002/2021.02.26/GEDI02_A_2021057175310_O12516_02_T09784_02_003_02_V002.h5',\n",
       " 'gcs/biomass-estimation-project/vm-backup/GEDI_L2/Raw_2020-2021_train/GEDI02_A.002/EDI02_A.002/2021.02.28/GEDI02_A_2021059035659_O12538_03_T08735_02_003_02_V002.h5',\n",
       " 'gcs/biomass-estimation-project/vm-backup/GEDI_L2/Raw_2020-2021_train/GEDI02_A.002/EDI02_A.002/2021.02.28/GEDI02_A_2021059175305_O12547_02_T11284_02_003_02_V002.h5',\n",
       " 'gcs/biomass-estimation-project/vm-backup/GEDI_L2/Raw_2020-2021_train/GEDI02_A.002/EDI02_A.002/2021.03.01/GEDI02_A_2021060031029_O12553_03_T10984_02_003_02_V002.h5',\n",
       " 'gcs/biomass-estimation-project/vm-backup/GEDI_L2/Raw_2020-2021_train/GEDI02_A.002/EDI02_A.002/2021.03.01/GEDI02_A_2021060170634_O12562_02_T07688_02_003_02_V002.h5',\n",
       " 'gcs/biomass-estimation-project/vm-backup/GEDI_L2/Raw_2020-2021_train/GEDI02_A.002/EDI02_A.002/2021.03.02/GEDI02_A_2021061162006_O12577_02_T06938_02_003_02_V002.h5',\n",
       " 'gcs/biomass-estimation-project/vm-backup/GEDI_L2/Raw_2020-2021_train/GEDI02_A.002/EDI02_A.002/2021.03.04/GEDI02_A_2021063022356_O12599_03_T05889_02_003_02_V002.h5',\n",
       " 'gcs/biomass-estimation-project/vm-backup/GEDI_L2/Raw_2020-2021_train/GEDI02_A.002/EDI02_A.002/2021.03.04/GEDI02_A_2021063162002_O12608_02_T09708_02_003_02_V002.h5',\n",
       " 'gcs/biomass-estimation-project/vm-backup/GEDI_L2/Raw_2020-2021_train/GEDI02_A.002/EDI02_A.002/2021.03.05/GEDI02_A_2021064013724_O12614_03_T09408_02_003_02_V002.h5',\n",
       " 'gcs/biomass-estimation-project/vm-backup/GEDI_L2/Raw_2020-2021_train/GEDI02_A.002/EDI02_A.002/2021.03.05/GEDI02_A_2021064153330_O12623_02_T10534_02_003_02_V002.h5',\n",
       " 'gcs/biomass-estimation-project/vm-backup/GEDI_L2/Raw_2020-2021_train/GEDI02_A.002/EDI02_A.002/2021.03.06/GEDI02_A_2021065005054_O12629_03_T08658_02_003_02_V002.h5',\n",
       " 'gcs/biomass-estimation-project/vm-backup/GEDI_L2/Raw_2020-2021_train/GEDI02_A.002/EDI02_A.002/2021.03.06/GEDI02_A_2021065144659_O12638_02_T08361_02_003_02_V002.h5',\n",
       " 'gcs/biomass-estimation-project/vm-backup/GEDI_L2/Raw_2020-2021_train/GEDI02_A.002/EDI02_A.002/2021.03.08/GEDI02_A_2021067005045_O12660_03_T07312_02_003_02_V002.h5',\n",
       " 'gcs/biomass-estimation-project/vm-backup/GEDI_L2/Raw_2020-2021_train/GEDI02_A.002/EDI02_A.002/2021.03.08/GEDI02_A_2021067144650_O12669_02_T06862_02_003_02_V002.h5',\n",
       " 'gcs/biomass-estimation-project/vm-backup/GEDI_L2/Raw_2020-2021_train/GEDI02_A.002/EDI02_A.002/2021.03.09/GEDI02_A_2021068000415_O12675_03_T06562_02_003_02_V002.h5',\n",
       " 'gcs/biomass-estimation-project/vm-backup/GEDI_L2/Raw_2020-2021_train/GEDI02_A.002/EDI02_A.002/2021.03.09/GEDI02_A_2021068231744_O12690_03_T05812_02_003_02_V002.h5',\n",
       " 'gcs/biomass-estimation-project/vm-backup/GEDI_L2/Raw_2020-2021_train/GEDI02_A.002/EDI02_A.002/2021.03.10/GEDI02_A_2021069131350_O12699_02_T11207_02_003_02_V002.h5',\n",
       " 'gcs/biomass-estimation-project/vm-backup/GEDI_L2/Raw_2020-2021_train/GEDI02_A.002/EDI02_A.002/2021.03.11/GEDI02_A_2021070231737_O12721_03_T10158_02_003_02_V002.h5',\n",
       " 'gcs/biomass-estimation-project/vm-backup/GEDI_L2/Raw_2020-2021_train/GEDI02_A.002/EDI02_A.002/2021.03.12/GEDI02_A_2021071131343_O12730_02_T08285_02_003_02_V002.h5',\n",
       " 'gcs/biomass-estimation-project/vm-backup/GEDI_L2/Raw_2020-2021_train/GEDI02_A.002/EDI02_A.002/2021.03.12/GEDI02_A_2021071223107_O12736_03_T07985_02_003_02_V002.h5',\n",
       " 'gcs/biomass-estimation-project/vm-backup/GEDI_L2/Raw_2020-2021_train/GEDI02_A.002/EDI02_A.002/2021.03.13/GEDI02_A_2021072122718_O12745_02_T07535_02_003_02_V002.h5',\n",
       " 'gcs/biomass-estimation-project/vm-backup/GEDI_L2/Raw_2020-2021_train/GEDI02_A.002/EDI02_A.002/2021.03.13/GEDI02_A_2021072214445_O12751_03_T07235_02_003_02_V002.h5',\n",
       " 'gcs/biomass-estimation-project/vm-backup/GEDI_L2/Raw_2020-2021_train/GEDI02_A.002/EDI02_A.002/2021.03.14/GEDI02_A_2021073114055_O12760_02_T06785_02_003_02_V002.h5',\n",
       " 'gcs/biomass-estimation-project/vm-backup/GEDI_L2/Raw_2020-2021_train/GEDI02_A.002/EDI02_A.002/2021.03.15/GEDI02_A_2021074214453_O12782_03_T05736_02_003_02_V002.h5',\n",
       " 'gcs/biomass-estimation-project/vm-backup/GEDI_L2/Raw_2020-2021_train/GEDI02_A.002/EDI02_A.002/2021.03.16/GEDI02_A_2021075114103_O12791_02_T06709_02_003_02_V002.h5',\n",
       " 'gcs/biomass-estimation-project/vm-backup/GEDI_L2/Raw_2020-2021_train/GEDI02_A.002/EDI02_A.002/2021.03.16/GEDI02_A_2021075205830_O12797_03_T06409_02_003_02_V002.h5',\n",
       " 'gcs/biomass-estimation-project/vm-backup/GEDI_L2/Raw_2020-2021_train/GEDI02_A.002/EDI02_A.002/2021.03.17/GEDI02_A_2021076105438_O12806_02_T08805_02_003_02_V002.h5',\n",
       " 'gcs/biomass-estimation-project/vm-backup/GEDI_L2/Raw_2020-2021_train/GEDI02_A.002/EDI02_A.002/2021.03.17/GEDI02_A_2021076201205_O12812_03_T09928_02_003_02_V002.h5',\n",
       " 'gcs/biomass-estimation-project/vm-backup/GEDI_L2/Raw_2020-2021_train/GEDI02_A.002/EDI02_A.002/2021.03.18/GEDI02_A_2021077100815_O12821_02_T09478_02_003_02_V002.h5',\n",
       " 'gcs/biomass-estimation-project/vm-backup/GEDI_L2/Raw_2020-2021_train/GEDI02_A.002/EDI02_A.002/2021.03.19/GEDI02_A_2021078201212_O12843_03_T06853_02_003_02_V002.h5',\n",
       " 'gcs/biomass-estimation-project/vm-backup/GEDI_L2/Raw_2020-2021_train/GEDI02_A.002/EDI02_A.002/2021.03.20/GEDI02_A_2021079100822_O12852_02_T10825_02_003_02_V002.h5',\n",
       " 'gcs/biomass-estimation-project/vm-backup/GEDI_L2/Raw_2020-2021_train/GEDI02_A.002/EDI02_A.002/2021.03.20/GEDI02_A_2021079192548_O12858_03_T09102_02_003_02_V002.h5',\n",
       " 'gcs/biomass-estimation-project/vm-backup/GEDI_L2/Raw_2020-2021_train/GEDI02_A.002/EDI02_A.002/2021.03.21/GEDI02_A_2021080092158_O12867_02_T10228_02_003_02_V002.h5',\n",
       " 'gcs/biomass-estimation-project/vm-backup/GEDI_L2/Raw_2020-2021_train/GEDI02_A.002/EDI02_A.002/2021.03.21/GEDI02_A_2021080183924_O12873_03_T11198_02_003_02_V002.h5',\n",
       " 'gcs/biomass-estimation-project/vm-backup/GEDI_L2/Raw_2020-2021_train/GEDI02_A.002/EDI02_A.002/2021.03.22/GEDI02_A_2021081083534_O12882_02_T06479_02_003_02_V002.h5',\n",
       " 'gcs/biomass-estimation-project/vm-backup/GEDI_L2/Raw_2020-2021_train/GEDI02_A.002/EDI02_A.002/2021.03.23/GEDI02_A_2021082183932_O12904_03_T11122_02_003_02_V002.h5',\n",
       " 'gcs/biomass-estimation-project/vm-backup/GEDI_L2/Raw_2020-2021_train/GEDI02_A.002/EDI02_A.002/2021.03.24/GEDI02_A_2021083175304_O12919_03_T06103_02_003_02_V002.h5',\n",
       " 'gcs/biomass-estimation-project/vm-backup/GEDI_L2/Raw_2020-2021_train/GEDI02_A.002/EDI02_A.002/2021.03.25/GEDI02_A_2021084074913_O12928_02_T09922_02_003_02_V002.h5',\n",
       " 'gcs/biomass-estimation-project/vm-backup/GEDI_L2/Raw_2020-2021_train/GEDI02_A.002/EDI02_A.002/2021.03.25/GEDI02_A_2021084170639_O12934_03_T09622_02_003_02_V002.h5',\n",
       " 'gcs/biomass-estimation-project/vm-backup/GEDI_L2/Raw_2020-2021_train/GEDI02_A.002/EDI02_A.002/2021.03.26/GEDI02_A_2021085070248_O12943_02_T07902_02_003_02_V002.h5',\n",
       " 'gcs/biomass-estimation-project/vm-backup/GEDI_L2/Raw_2020-2021_train/GEDI02_A.002/EDI02_A.002/2021.03.27/GEDI02_A_2021086170643_O12965_03_T06853_02_003_02_V002.h5',\n",
       " 'gcs/biomass-estimation-project/vm-backup/GEDI_L2/Raw_2020-2021_train/GEDI02_A.002/EDI02_A.002/2021.03.28/GEDI02_A_2021087070252_O12974_02_T06250_02_003_02_V002.h5',\n",
       " 'gcs/biomass-estimation-project/vm-backup/GEDI_L2/Raw_2020-2021_train/GEDI02_A.002/EDI02_A.002/2021.03.28/GEDI02_A_2021087162018_O12980_03_T07526_02_003_02_V002.h5',\n",
       " 'gcs/biomass-estimation-project/vm-backup/GEDI_L2/Raw_2020-2021_train/GEDI02_A.002/EDI02_A.002/2021.03.29/GEDI02_A_2021088061627_O12989_02_T08499_02_003_02_V002.h5',\n",
       " 'gcs/biomass-estimation-project/vm-backup/GEDI_L2/Raw_2020-2021_train/GEDI02_A.002/EDI02_A.002/2021.03.29/GEDI02_A_2021088153353_O12995_03_T08199_02_003_02_V002.h5',\n",
       " 'gcs/biomass-estimation-project/vm-backup/GEDI_L2/Raw_2020-2021_train/GEDI02_A.002/EDI02_A.002/2021.03.30/GEDI02_A_2021089052958_O13004_02_T06326_02_003_02_V002.h5',\n",
       " 'gcs/biomass-estimation-project/vm-backup/GEDI_L2/Raw_2020-2021_train/GEDI02_A.002/EDI02_A.002/2021.03.31/GEDI02_A_2021090153352_O13026_03_T08123_02_003_02_V002.h5',\n",
       " 'gcs/biomass-estimation-project/vm-backup/GEDI_L2/Raw_2020-2021_train/GEDI02_A.002/EDI02_A.002/2021.04.01/GEDI02_A_2021091053000_O13035_02_T10519_02_003_02_V002.h5',\n",
       " 'gcs/biomass-estimation-project/vm-backup/GEDI_L2/Raw_2020-2021_train/GEDI02_A.002/EDI02_A.002/2021.04.01/GEDI02_A_2021091144725_O13041_03_T05950_02_003_02_V002.h5',\n",
       " 'gcs/biomass-estimation-project/vm-backup/GEDI_L2/Raw_2020-2021_train/GEDI02_A.002/EDI02_A.002/2021.04.02/GEDI02_A_2021092140059_O13056_03_T06623_02_003_02_V002.h5',\n",
       " 'gcs/biomass-estimation-project/vm-backup/GEDI_L2/Raw_2020-2021_train/GEDI02_A.002/EDI02_A.002/2021.04.03/GEDI02_A_2021093035711_O13065_02_T10595_02_003_02_V002.h5',\n",
       " 'gcs/biomass-estimation-project/vm-backup/GEDI_L2/Raw_2020-2021_train/GEDI02_A.002/EDI02_A.002/2021.04.04/GEDI02_A_2021094140114_O13087_03_T10969_02_003_02_V002.h5',\n",
       " 'gcs/biomass-estimation-project/vm-backup/GEDI_L2/Raw_2020-2021_train/GEDI02_A.002/EDI02_A.002/2021.04.05/GEDI02_A_2021095131453_O13102_03_T10219_02_003_02_V002.h5',\n",
       " 'gcs/biomass-estimation-project/vm-backup/GEDI_L2/Raw_2020-2021_train/GEDI02_A.002/EDI02_A.002/2021.04.06/GEDI02_A_2021096031104_O13111_02_T08346_02_003_02_V002.h5',\n",
       " 'gcs/biomass-estimation-project/vm-backup/GEDI_L2/Raw_2020-2021_train/GEDI02_A.002/EDI02_A.002/2021.04.06/GEDI02_A_2021096122832_O13117_03_T10892_02_003_02_V002.h5',\n",
       " 'gcs/biomass-estimation-project/vm-backup/GEDI_L2/Raw_2020-2021_train/GEDI02_A.002/EDI02_A.002/2021.04.07/GEDI02_A_2021097022443_O13126_02_T07596_02_003_02_V002.h5',\n",
       " 'gcs/biomass-estimation-project/vm-backup/GEDI_L2/Raw_2020-2021_train/GEDI02_A.002/EDI02_A.002/2021.04.08/GEDI02_A_2021098122844_O13148_03_T10816_02_003_02_V002.h5',\n",
       " 'gcs/biomass-estimation-project/vm-backup/GEDI_L2/Raw_2020-2021_train/GEDI02_A.002/EDI02_A.002/2021.04.09/GEDI02_A_2021099022455_O13157_02_T05944_02_003_02_V002.h5',\n",
       " 'gcs/biomass-estimation-project/vm-backup/GEDI_L2/Raw_2020-2021_train/GEDI02_A.002/EDI02_A.002/2021.04.10/GEDI02_A_2021100013833_O13172_02_T06770_02_003_02_V002.h5',\n",
       " 'gcs/biomass-estimation-project/vm-backup/GEDI_L2/Raw_2020-2021_train/GEDI02_A.002/EDI02_A.002/2021.04.10/GEDI02_A_2021100105601_O13178_03_T07893_02_003_02_V002.h5',\n",
       " 'gcs/biomass-estimation-project/vm-backup/GEDI_L2/Raw_2020-2021_train/GEDI02_A.002/EDI02_A.002/2021.04.11/GEDI02_A_2021101005211_O13187_02_T06020_02_003_02_V002.h5',\n",
       " 'gcs/biomass-estimation-project/vm-backup/GEDI_L2/Raw_2020-2021_train/GEDI02_A.002/EDI02_A.002/2021.04.12/GEDI02_A_2021102105611_O13209_03_T09240_02_003_02_V002.h5',\n",
       " 'gcs/biomass-estimation-project/vm-backup/GEDI_L2/Raw_2020-2021_train/GEDI02_A.002/EDI02_A.002/2021.04.13/GEDI02_A_2021103005223_O13218_02_T07367_02_003_02_V002.h5',\n",
       " 'gcs/biomass-estimation-project/vm-backup/GEDI_L2/Raw_2020-2021_train/GEDI02_A.002/EDI02_A.002/2021.04.13/GEDI02_A_2021103100950_O13224_03_T07067_02_003_02_V002.h5',\n",
       " 'gcs/biomass-estimation-project/vm-backup/GEDI_L2/Raw_2020-2021_train/GEDI02_A.002/EDI02_A.002/2021.04.14/GEDI02_A_2021104000601_O13233_02_T06617_02_003_02_V002.h5',\n",
       " 'gcs/biomass-estimation-project/vm-backup/GEDI_L2/Raw_2020-2021_train/GEDI02_A.002/EDI02_A.002/2021.04.14/GEDI02_A_2021104092328_O13239_03_T06317_02_003_02_V002.h5',\n",
       " 'gcs/biomass-estimation-project/vm-backup/GEDI_L2/Raw_2020-2021_train/GEDI02_A.002/EDI02_A.002/2021.04.14/GEDI02_A_2021104231939_O13248_02_T08713_02_003_02_V002.h5',\n",
       " 'gcs/biomass-estimation-project/vm-backup/GEDI_L2/Raw_2020-2021_train/GEDI02_A.002/EDI02_A.002/2021.04.16/GEDI02_A_2021106092338_O13270_03_T09087_02_003_04_V002.h5',\n",
       " 'gcs/biomass-estimation-project/vm-backup/GEDI_L2/Raw_2020-2021_train/GEDI02_A.002/EDI02_A.002/2021.04.17/GEDI02_A_2021107083716_O13285_03_T02645_02_003_02_V002.h5',\n",
       " 'gcs/biomass-estimation-project/vm-backup/GEDI_L2/Raw_2020-2021_train/GEDI02_A.002/EDI02_A.002/2021.04.17/GEDI02_A_2021107223326_O13294_02_T00772_02_003_02_V002.h5',\n",
       " 'gcs/biomass-estimation-project/vm-backup/GEDI_L2/Raw_2020-2021_train/GEDI02_A.002/EDI02_A.002/2021.04.18/GEDI02_A_2021108075054_O13300_03_T02048_02_003_02_V002.h5',\n",
       " 'gcs/biomass-estimation-project/vm-backup/GEDI_L2/Raw_2020-2021_train/GEDI02_A.002/EDI02_A.002/2021.04.18/GEDI02_A_2021108214704_O13309_02_T10136_02_003_02_V002.h5',\n",
       " 'gcs/biomass-estimation-project/vm-backup/GEDI_L2/Raw_2020-2021_train/GEDI02_A.002/EDI02_A.002/2021.04.20/GEDI02_A_2021110075103_O13331_03_T10510_02_003_02_V002.h5',\n",
       " 'gcs/biomass-estimation-project/vm-backup/GEDI_L2/Raw_2020-2021_train/GEDI02_A.002/EDI02_A.002/2021.04.22/GEDI02_A_2021112061815_O13361_03_T07587_02_003_02_V002.h5',\n",
       " 'gcs/biomass-estimation-project/vm-backup/GEDI_L2/Raw_2020-2021_train/GEDI02_A.002/EDI02_A.002/2021.04.22/GEDI02_A_2021112201424_O13370_02_T07137_02_003_02_V002.h5',\n",
       " 'gcs/biomass-estimation-project/vm-backup/GEDI_L2/Raw_2020-2021_train/GEDI02_A.002/EDI02_A.002/2021.04.24/GEDI02_A_2021114201430_O13401_02_T08484_02_003_02_V002.h5',\n",
       " 'gcs/biomass-estimation-project/vm-backup/GEDI_L2/Raw_2020-2021_train/GEDI02_A.002/EDI02_A.002/2021.04.25/GEDI02_A_2021115053156_O13407_03_T06761_02_003_02_V002.h5',\n",
       " 'gcs/biomass-estimation-project/vm-backup/GEDI_L2/Raw_2020-2021_train/GEDI02_A.002/EDI02_A.002/2021.04.25/GEDI02_A_2021115192806_O13416_02_T06311_02_003_02_V002.h5',\n",
       " 'gcs/biomass-estimation-project/vm-backup/GEDI_L2/Raw_2020-2021_train/GEDI02_A.002/EDI02_A.002/2021.04.26/GEDI02_A_2021116044532_O13422_03_T06011_02_003_02_V002.h5',\n",
       " 'gcs/biomass-estimation-project/vm-backup/GEDI_L2/Raw_2020-2021_train/GEDI02_A.002/EDI02_A.002/2021.04.26/GEDI02_A_2021116184141_O13431_02_T09830_02_003_02_V002.h5',\n",
       " 'gcs/biomass-estimation-project/vm-backup/GEDI_L2/Raw_2020-2021_train/GEDI02_A.002/EDI02_A.002/2021.04.27/GEDI02_A_2021117175515_O13446_02_T10656_02_003_02_V002.h5',\n",
       " 'gcs/biomass-estimation-project/vm-backup/GEDI_L2/Raw_2020-2021_train/GEDI02_A.002/EDI02_A.002/2021.04.29/GEDI02_A_2021119175516_O13477_02_T10580_02_003_02_V002.h5']"
      ]
     },
     "execution_count": 5,
     "metadata": {},
     "output_type": "execute_result"
    }
   ],
   "source": [
    "data_list"
   ]
  },
  {
   "cell_type": "code",
   "execution_count": 1,
   "id": "d8f569af-4141-41e7-aa9c-606e13bced6c",
   "metadata": {
    "collapsed": true,
    "jupyter": {
     "outputs_hidden": true
    },
    "tags": []
   },
   "outputs": [
    {
     "data": {
      "text/plain": [
       "['BEAM0110/ancillary/l2a_alg_count',\n",
       " 'BEAM0110/beam',\n",
       " 'BEAM0110/channel',\n",
       " 'BEAM0110/degrade_flag',\n",
       " 'BEAM0110/delta_time',\n",
       " 'BEAM0110/digital_elevation_model',\n",
       " 'BEAM0110/digital_elevation_model_srtm',\n",
       " 'BEAM0110/elev_highestreturn',\n",
       " 'BEAM0110/elev_lowestmode',\n",
       " 'BEAM0110/elevation_bias_flag',\n",
       " 'BEAM0110/elevation_bin0_error',\n",
       " 'BEAM0110/energy_total',\n",
       " 'BEAM0110/geolocation/elev_highestreturn_a1',\n",
       " 'BEAM0110/geolocation/elev_highestreturn_a2',\n",
       " 'BEAM0110/geolocation/elev_highestreturn_a3',\n",
       " 'BEAM0110/geolocation/elev_highestreturn_a4',\n",
       " 'BEAM0110/geolocation/elev_highestreturn_a5',\n",
       " 'BEAM0110/geolocation/elev_highestreturn_a6',\n",
       " 'BEAM0110/geolocation/elev_lowestmode_a1',\n",
       " 'BEAM0110/geolocation/elev_lowestmode_a2',\n",
       " 'BEAM0110/geolocation/elev_lowestmode_a3',\n",
       " 'BEAM0110/geolocation/elev_lowestmode_a4',\n",
       " 'BEAM0110/geolocation/elev_lowestmode_a5',\n",
       " 'BEAM0110/geolocation/elev_lowestmode_a6',\n",
       " 'BEAM0110/geolocation/elev_lowestreturn_a1',\n",
       " 'BEAM0110/geolocation/elev_lowestreturn_a2',\n",
       " 'BEAM0110/geolocation/elev_lowestreturn_a3',\n",
       " 'BEAM0110/geolocation/elev_lowestreturn_a4',\n",
       " 'BEAM0110/geolocation/elev_lowestreturn_a5',\n",
       " 'BEAM0110/geolocation/elev_lowestreturn_a6',\n",
       " 'BEAM0110/geolocation/elevation_1gfit',\n",
       " 'BEAM0110/geolocation/elevs_allmodes_a1',\n",
       " 'BEAM0110/geolocation/elevs_allmodes_a2',\n",
       " 'BEAM0110/geolocation/elevs_allmodes_a3',\n",
       " 'BEAM0110/geolocation/elevs_allmodes_a4',\n",
       " 'BEAM0110/geolocation/elevs_allmodes_a5',\n",
       " 'BEAM0110/geolocation/elevs_allmodes_a6',\n",
       " 'BEAM0110/geolocation/energy_lowestmode_a1',\n",
       " 'BEAM0110/geolocation/energy_lowestmode_a2',\n",
       " 'BEAM0110/geolocation/energy_lowestmode_a3',\n",
       " 'BEAM0110/geolocation/energy_lowestmode_a4',\n",
       " 'BEAM0110/geolocation/energy_lowestmode_a5',\n",
       " 'BEAM0110/geolocation/energy_lowestmode_a6',\n",
       " 'BEAM0110/geolocation/lat_highestreturn_a1',\n",
       " 'BEAM0110/geolocation/lat_highestreturn_a2',\n",
       " 'BEAM0110/geolocation/lat_highestreturn_a3',\n",
       " 'BEAM0110/geolocation/lat_highestreturn_a4',\n",
       " 'BEAM0110/geolocation/lat_highestreturn_a5',\n",
       " 'BEAM0110/geolocation/lat_highestreturn_a6',\n",
       " 'BEAM0110/geolocation/lat_lowestmode_a1',\n",
       " 'BEAM0110/geolocation/lat_lowestmode_a2',\n",
       " 'BEAM0110/geolocation/lat_lowestmode_a3',\n",
       " 'BEAM0110/geolocation/lat_lowestmode_a4',\n",
       " 'BEAM0110/geolocation/lat_lowestmode_a5',\n",
       " 'BEAM0110/geolocation/lat_lowestmode_a6',\n",
       " 'BEAM0110/geolocation/lat_lowestreturn_a1',\n",
       " 'BEAM0110/geolocation/lat_lowestreturn_a2',\n",
       " 'BEAM0110/geolocation/lat_lowestreturn_a3',\n",
       " 'BEAM0110/geolocation/lat_lowestreturn_a4',\n",
       " 'BEAM0110/geolocation/lat_lowestreturn_a5',\n",
       " 'BEAM0110/geolocation/lat_lowestreturn_a6',\n",
       " 'BEAM0110/geolocation/latitude_1gfit',\n",
       " 'BEAM0110/geolocation/lats_allmodes_a1',\n",
       " 'BEAM0110/geolocation/lats_allmodes_a2',\n",
       " 'BEAM0110/geolocation/lats_allmodes_a3',\n",
       " 'BEAM0110/geolocation/lats_allmodes_a4',\n",
       " 'BEAM0110/geolocation/lats_allmodes_a5',\n",
       " 'BEAM0110/geolocation/lats_allmodes_a6',\n",
       " 'BEAM0110/geolocation/lon_highestreturn_a1',\n",
       " 'BEAM0110/geolocation/lon_highestreturn_a2',\n",
       " 'BEAM0110/geolocation/lon_highestreturn_a3',\n",
       " 'BEAM0110/geolocation/lon_highestreturn_a4',\n",
       " 'BEAM0110/geolocation/lon_highestreturn_a5',\n",
       " 'BEAM0110/geolocation/lon_highestreturn_a6',\n",
       " 'BEAM0110/geolocation/lon_lowestmode_a1',\n",
       " 'BEAM0110/geolocation/lon_lowestmode_a2',\n",
       " 'BEAM0110/geolocation/lon_lowestmode_a3',\n",
       " 'BEAM0110/geolocation/lon_lowestmode_a4',\n",
       " 'BEAM0110/geolocation/lon_lowestmode_a5',\n",
       " 'BEAM0110/geolocation/lon_lowestmode_a6',\n",
       " 'BEAM0110/geolocation/lon_lowestreturn_a1',\n",
       " 'BEAM0110/geolocation/lon_lowestreturn_a2',\n",
       " 'BEAM0110/geolocation/lon_lowestreturn_a3',\n",
       " 'BEAM0110/geolocation/lon_lowestreturn_a4',\n",
       " 'BEAM0110/geolocation/lon_lowestreturn_a5',\n",
       " 'BEAM0110/geolocation/lon_lowestreturn_a6',\n",
       " 'BEAM0110/geolocation/longitude_1gfit',\n",
       " 'BEAM0110/geolocation/lons_allmodes_a1',\n",
       " 'BEAM0110/geolocation/lons_allmodes_a2',\n",
       " 'BEAM0110/geolocation/lons_allmodes_a3',\n",
       " 'BEAM0110/geolocation/lons_allmodes_a4',\n",
       " 'BEAM0110/geolocation/lons_allmodes_a5',\n",
       " 'BEAM0110/geolocation/lons_allmodes_a6',\n",
       " 'BEAM0110/geolocation/num_detectedmodes_a1',\n",
       " 'BEAM0110/geolocation/num_detectedmodes_a2',\n",
       " 'BEAM0110/geolocation/num_detectedmodes_a3',\n",
       " 'BEAM0110/geolocation/num_detectedmodes_a4',\n",
       " 'BEAM0110/geolocation/num_detectedmodes_a5',\n",
       " 'BEAM0110/geolocation/num_detectedmodes_a6',\n",
       " 'BEAM0110/geolocation/quality_flag_a1',\n",
       " 'BEAM0110/geolocation/quality_flag_a2',\n",
       " 'BEAM0110/geolocation/quality_flag_a3',\n",
       " 'BEAM0110/geolocation/quality_flag_a4',\n",
       " 'BEAM0110/geolocation/quality_flag_a5',\n",
       " 'BEAM0110/geolocation/quality_flag_a6',\n",
       " 'BEAM0110/geolocation/rh_a1',\n",
       " 'BEAM0110/geolocation/rh_a2',\n",
       " 'BEAM0110/geolocation/rh_a3',\n",
       " 'BEAM0110/geolocation/rh_a4',\n",
       " 'BEAM0110/geolocation/rh_a5',\n",
       " 'BEAM0110/geolocation/rh_a6',\n",
       " 'BEAM0110/geolocation/sensitivity_a1',\n",
       " 'BEAM0110/geolocation/sensitivity_a2',\n",
       " 'BEAM0110/geolocation/sensitivity_a3',\n",
       " 'BEAM0110/geolocation/sensitivity_a4',\n",
       " 'BEAM0110/geolocation/sensitivity_a5',\n",
       " 'BEAM0110/geolocation/sensitivity_a6',\n",
       " 'BEAM0110/geolocation/stale_return_flag',\n",
       " 'BEAM0110/land_cover_data/landsat_treecover',\n",
       " 'BEAM0110/land_cover_data/landsat_water_persistence',\n",
       " 'BEAM0110/land_cover_data/leaf_off_doy',\n",
       " 'BEAM0110/land_cover_data/leaf_off_flag',\n",
       " 'BEAM0110/land_cover_data/leaf_on_cycle',\n",
       " 'BEAM0110/land_cover_data/leaf_on_doy',\n",
       " 'BEAM0110/land_cover_data/modis_nonvegetated',\n",
       " 'BEAM0110/land_cover_data/modis_nonvegetated_sd',\n",
       " 'BEAM0110/land_cover_data/modis_treecover',\n",
       " 'BEAM0110/land_cover_data/modis_treecover_sd',\n",
       " 'BEAM0110/land_cover_data/pft_class',\n",
       " 'BEAM0110/land_cover_data/region_class',\n",
       " 'BEAM0110/land_cover_data/urban_focal_window_size',\n",
       " 'BEAM0110/land_cover_data/urban_proportion',\n",
       " 'BEAM0110/lat_highestreturn',\n",
       " 'BEAM0110/lat_lowestmode',\n",
       " 'BEAM0110/latitude_bin0_error',\n",
       " 'BEAM0110/lon_highestreturn',\n",
       " 'BEAM0110/lon_lowestmode',\n",
       " 'BEAM0110/longitude_bin0_error',\n",
       " 'BEAM0110/master_frac',\n",
       " 'BEAM0110/master_int',\n",
       " 'BEAM0110/mean_sea_surface',\n",
       " 'BEAM0110/num_detectedmodes',\n",
       " 'BEAM0110/quality_flag',\n",
       " 'BEAM0110/rh',\n",
       " 'BEAM0110/rx_1gaussfit/ancillary/mpfit_max_func_evals',\n",
       " 'BEAM0110/rx_1gaussfit/ancillary/mpfit_maxiters',\n",
       " 'BEAM0110/rx_1gaussfit/ancillary/mpfit_tolerance',\n",
       " 'BEAM0110/rx_1gaussfit/ancillary/rx_constraint_gamplitude_lower',\n",
       " 'BEAM0110/rx_1gaussfit/ancillary/rx_constraint_gamplitude_upper',\n",
       " 'BEAM0110/rx_1gaussfit/ancillary/rx_constraint_gloc_lower',\n",
       " 'BEAM0110/rx_1gaussfit/ancillary/rx_constraint_gloc_upper',\n",
       " 'BEAM0110/rx_1gaussfit/ancillary/rx_constraint_gwidth_lower',\n",
       " 'BEAM0110/rx_1gaussfit/ancillary/rx_constraint_gwidth_upper',\n",
       " 'BEAM0110/rx_1gaussfit/ancillary/rx_estimate_bias',\n",
       " 'BEAM0110/rx_1gaussfit/ancillary/rx_mean_noise_level',\n",
       " 'BEAM0110/rx_1gaussfit/ancillary/rx_smoothwidth',\n",
       " 'BEAM0110/rx_1gaussfit/rx_gamplitude',\n",
       " 'BEAM0110/rx_1gaussfit/rx_gamplitude_error',\n",
       " 'BEAM0110/rx_1gaussfit/rx_gbias',\n",
       " 'BEAM0110/rx_1gaussfit/rx_gbias_error',\n",
       " 'BEAM0110/rx_1gaussfit/rx_gchisq',\n",
       " 'BEAM0110/rx_1gaussfit/rx_gflag',\n",
       " 'BEAM0110/rx_1gaussfit/rx_giters',\n",
       " 'BEAM0110/rx_1gaussfit/rx_gloc',\n",
       " 'BEAM0110/rx_1gaussfit/rx_gloc_error',\n",
       " 'BEAM0110/rx_1gaussfit/rx_gwidth',\n",
       " 'BEAM0110/rx_1gaussfit/rx_gwidth_error',\n",
       " 'BEAM0110/rx_assess/ancillary/rx_ampbounds_ll',\n",
       " 'BEAM0110/rx_assess/ancillary/rx_ampbounds_ul',\n",
       " 'BEAM0110/rx_assess/ancillary/rx_clipamp',\n",
       " 'BEAM0110/rx_assess/ancillary/rx_pulsethresh',\n",
       " 'BEAM0110/rx_assess/ancillary/rx_ringthresh',\n",
       " 'BEAM0110/rx_assess/ancillary/smoothing_width_locs',\n",
       " 'BEAM0110/rx_assess/mean',\n",
       " 'BEAM0110/rx_assess/mean_64kadjusted',\n",
       " 'BEAM0110/rx_assess/ocean_calibration_shot_flag',\n",
       " 'BEAM0110/rx_assess/quality_flag',\n",
       " 'BEAM0110/rx_assess/rx_assess_flag',\n",
       " 'BEAM0110/rx_assess/rx_clipbin0',\n",
       " 'BEAM0110/rx_assess/rx_clipbin_count',\n",
       " 'BEAM0110/rx_assess/rx_energy',\n",
       " 'BEAM0110/rx_assess/rx_maxamp',\n",
       " 'BEAM0110/rx_assess/rx_maxpeakloc',\n",
       " 'BEAM0110/rx_assess/sd_corrected',\n",
       " 'BEAM0110/rx_processing_a1/ancillary/amp_thresh',\n",
       " 'BEAM0110/rx_processing_a1/ancillary/ampval_limit2',\n",
       " 'BEAM0110/rx_processing_a1/ancillary/ampval_limit3',\n",
       " 'BEAM0110/rx_processing_a1/ancillary/botlocdist_limit1',\n",
       " 'BEAM0110/rx_processing_a1/ancillary/botlocdist_limit2',\n",
       " 'BEAM0110/rx_processing_a1/ancillary/botlocdist_limit3',\n",
       " 'BEAM0110/rx_processing_a1/ancillary/cumulative_energy_minimum',\n",
       " 'BEAM0110/rx_processing_a1/ancillary/cumulative_energy_thresh',\n",
       " 'BEAM0110/rx_processing_a1/ancillary/enable_select_mode',\n",
       " 'BEAM0110/rx_processing_a1/ancillary/energy_thresh',\n",
       " 'BEAM0110/rx_processing_a1/ancillary/preprocessor_threshold',\n",
       " 'BEAM0110/rx_processing_a1/ancillary/pulse_sep_thresh',\n",
       " 'BEAM0110/rx_processing_a1/ancillary/rx_back_threshold',\n",
       " 'BEAM0110/rx_processing_a1/ancillary/rx_front_threshold',\n",
       " 'BEAM0110/rx_processing_a1/ancillary/rx_max_mode_count',\n",
       " 'BEAM0110/rx_processing_a1/ancillary/rx_searchsize',\n",
       " 'BEAM0110/rx_processing_a1/ancillary/rx_sentinel_location',\n",
       " 'BEAM0110/rx_processing_a1/ancillary/rx_smoothing_width_locs',\n",
       " 'BEAM0110/rx_processing_a1/ancillary/rx_smoothing_width_zcross',\n",
       " 'BEAM0110/rx_processing_a1/ancillary/rx_subbin_resolution',\n",
       " 'BEAM0110/rx_processing_a1/ancillary/rx_use_fixed_thresholds',\n",
       " 'BEAM0110/rx_processing_a1/back_threshold',\n",
       " 'BEAM0110/rx_processing_a1/botloc',\n",
       " 'BEAM0110/rx_processing_a1/botloc_amp',\n",
       " 'BEAM0110/rx_processing_a1/energy_sm',\n",
       " 'BEAM0110/rx_processing_a1/front_threshold',\n",
       " 'BEAM0110/rx_processing_a1/lastmodeenergy',\n",
       " 'BEAM0110/rx_processing_a1/mean',\n",
       " 'BEAM0110/rx_processing_a1/mean_sm',\n",
       " 'BEAM0110/rx_processing_a1/min_detection_energy',\n",
       " 'BEAM0110/rx_processing_a1/min_detection_threshold',\n",
       " 'BEAM0110/rx_processing_a1/peak',\n",
       " 'BEAM0110/rx_processing_a1/pk_sm',\n",
       " 'BEAM0110/rx_processing_a1/rx_algrunflag',\n",
       " 'BEAM0110/rx_processing_a1/rx_cumulative',\n",
       " 'BEAM0110/rx_processing_a1/rx_iwaveamps',\n",
       " 'BEAM0110/rx_processing_a1/rx_modeamps',\n",
       " 'BEAM0110/rx_processing_a1/rx_modeenergytobotloc',\n",
       " 'BEAM0110/rx_processing_a1/rx_modelocalenergy',\n",
       " 'BEAM0110/rx_processing_a1/rx_modelocalenergyabovemean',\n",
       " 'BEAM0110/rx_processing_a1/rx_modelocalslope',\n",
       " 'BEAM0110/rx_processing_a1/rx_modelocs',\n",
       " 'BEAM0110/rx_processing_a1/rx_modewidths',\n",
       " 'BEAM0110/rx_processing_a1/rx_nummodes',\n",
       " 'BEAM0110/rx_processing_a1/sd_sm',\n",
       " 'BEAM0110/rx_processing_a1/search_end',\n",
       " 'BEAM0110/rx_processing_a1/search_start',\n",
       " 'BEAM0110/rx_processing_a1/selected_mode',\n",
       " 'BEAM0110/rx_processing_a1/selected_mode_flag',\n",
       " 'BEAM0110/rx_processing_a1/smoothwidth',\n",
       " 'BEAM0110/rx_processing_a1/smoothwidth_zcross',\n",
       " 'BEAM0110/rx_processing_a1/stddev',\n",
       " 'BEAM0110/rx_processing_a1/toploc',\n",
       " 'BEAM0110/rx_processing_a1/toploc_miss',\n",
       " 'BEAM0110/rx_processing_a1/zcross',\n",
       " 'BEAM0110/rx_processing_a1/zcross0',\n",
       " 'BEAM0110/rx_processing_a1/zcross_amp',\n",
       " 'BEAM0110/rx_processing_a1/zcross_localenergy',\n",
       " 'BEAM0110/rx_processing_a2/ancillary/amp_thresh',\n",
       " 'BEAM0110/rx_processing_a2/ancillary/ampval_limit2',\n",
       " 'BEAM0110/rx_processing_a2/ancillary/ampval_limit3',\n",
       " 'BEAM0110/rx_processing_a2/ancillary/botlocdist_limit1',\n",
       " 'BEAM0110/rx_processing_a2/ancillary/botlocdist_limit2',\n",
       " 'BEAM0110/rx_processing_a2/ancillary/botlocdist_limit3',\n",
       " 'BEAM0110/rx_processing_a2/ancillary/cumulative_energy_minimum',\n",
       " 'BEAM0110/rx_processing_a2/ancillary/cumulative_energy_thresh',\n",
       " 'BEAM0110/rx_processing_a2/ancillary/enable_select_mode',\n",
       " 'BEAM0110/rx_processing_a2/ancillary/energy_thresh',\n",
       " 'BEAM0110/rx_processing_a2/ancillary/preprocessor_threshold',\n",
       " 'BEAM0110/rx_processing_a2/ancillary/pulse_sep_thresh',\n",
       " 'BEAM0110/rx_processing_a2/ancillary/rx_back_threshold',\n",
       " 'BEAM0110/rx_processing_a2/ancillary/rx_front_threshold',\n",
       " 'BEAM0110/rx_processing_a2/ancillary/rx_max_mode_count',\n",
       " 'BEAM0110/rx_processing_a2/ancillary/rx_searchsize',\n",
       " 'BEAM0110/rx_processing_a2/ancillary/rx_sentinel_location',\n",
       " 'BEAM0110/rx_processing_a2/ancillary/rx_smoothing_width_locs',\n",
       " 'BEAM0110/rx_processing_a2/ancillary/rx_smoothing_width_zcross',\n",
       " 'BEAM0110/rx_processing_a2/ancillary/rx_subbin_resolution',\n",
       " 'BEAM0110/rx_processing_a2/ancillary/rx_use_fixed_thresholds',\n",
       " 'BEAM0110/rx_processing_a2/back_threshold',\n",
       " 'BEAM0110/rx_processing_a2/botloc',\n",
       " 'BEAM0110/rx_processing_a2/botloc_amp',\n",
       " 'BEAM0110/rx_processing_a2/energy_sm',\n",
       " 'BEAM0110/rx_processing_a2/front_threshold',\n",
       " 'BEAM0110/rx_processing_a2/lastmodeenergy',\n",
       " 'BEAM0110/rx_processing_a2/mean',\n",
       " 'BEAM0110/rx_processing_a2/mean_sm',\n",
       " 'BEAM0110/rx_processing_a2/min_detection_energy',\n",
       " 'BEAM0110/rx_processing_a2/min_detection_threshold',\n",
       " 'BEAM0110/rx_processing_a2/peak',\n",
       " 'BEAM0110/rx_processing_a2/pk_sm',\n",
       " 'BEAM0110/rx_processing_a2/rx_algrunflag',\n",
       " 'BEAM0110/rx_processing_a2/rx_cumulative',\n",
       " 'BEAM0110/rx_processing_a2/rx_iwaveamps',\n",
       " 'BEAM0110/rx_processing_a2/rx_modeamps',\n",
       " 'BEAM0110/rx_processing_a2/rx_modeenergytobotloc',\n",
       " 'BEAM0110/rx_processing_a2/rx_modelocalenergy',\n",
       " 'BEAM0110/rx_processing_a2/rx_modelocalenergyabovemean',\n",
       " 'BEAM0110/rx_processing_a2/rx_modelocalslope',\n",
       " 'BEAM0110/rx_processing_a2/rx_modelocs',\n",
       " 'BEAM0110/rx_processing_a2/rx_modewidths',\n",
       " 'BEAM0110/rx_processing_a2/rx_nummodes',\n",
       " 'BEAM0110/rx_processing_a2/sd_sm',\n",
       " 'BEAM0110/rx_processing_a2/search_end',\n",
       " 'BEAM0110/rx_processing_a2/search_start',\n",
       " 'BEAM0110/rx_processing_a2/selected_mode',\n",
       " 'BEAM0110/rx_processing_a2/selected_mode_flag',\n",
       " 'BEAM0110/rx_processing_a2/smoothwidth',\n",
       " 'BEAM0110/rx_processing_a2/smoothwidth_zcross',\n",
       " 'BEAM0110/rx_processing_a2/stddev',\n",
       " 'BEAM0110/rx_processing_a2/toploc',\n",
       " 'BEAM0110/rx_processing_a2/toploc_miss',\n",
       " 'BEAM0110/rx_processing_a2/zcross',\n",
       " 'BEAM0110/rx_processing_a2/zcross0',\n",
       " 'BEAM0110/rx_processing_a2/zcross_amp',\n",
       " 'BEAM0110/rx_processing_a2/zcross_localenergy',\n",
       " 'BEAM0110/rx_processing_a3/ancillary/amp_thresh',\n",
       " 'BEAM0110/rx_processing_a3/ancillary/ampval_limit2',\n",
       " 'BEAM0110/rx_processing_a3/ancillary/ampval_limit3',\n",
       " 'BEAM0110/rx_processing_a3/ancillary/botlocdist_limit1',\n",
       " 'BEAM0110/rx_processing_a3/ancillary/botlocdist_limit2',\n",
       " 'BEAM0110/rx_processing_a3/ancillary/botlocdist_limit3',\n",
       " 'BEAM0110/rx_processing_a3/ancillary/cumulative_energy_minimum',\n",
       " 'BEAM0110/rx_processing_a3/ancillary/cumulative_energy_thresh',\n",
       " 'BEAM0110/rx_processing_a3/ancillary/enable_select_mode',\n",
       " 'BEAM0110/rx_processing_a3/ancillary/energy_thresh',\n",
       " 'BEAM0110/rx_processing_a3/ancillary/preprocessor_threshold',\n",
       " 'BEAM0110/rx_processing_a3/ancillary/pulse_sep_thresh',\n",
       " 'BEAM0110/rx_processing_a3/ancillary/rx_back_threshold',\n",
       " 'BEAM0110/rx_processing_a3/ancillary/rx_front_threshold',\n",
       " 'BEAM0110/rx_processing_a3/ancillary/rx_max_mode_count',\n",
       " 'BEAM0110/rx_processing_a3/ancillary/rx_searchsize',\n",
       " 'BEAM0110/rx_processing_a3/ancillary/rx_sentinel_location',\n",
       " 'BEAM0110/rx_processing_a3/ancillary/rx_smoothing_width_locs',\n",
       " 'BEAM0110/rx_processing_a3/ancillary/rx_smoothing_width_zcross',\n",
       " 'BEAM0110/rx_processing_a3/ancillary/rx_subbin_resolution',\n",
       " 'BEAM0110/rx_processing_a3/ancillary/rx_use_fixed_thresholds',\n",
       " 'BEAM0110/rx_processing_a3/back_threshold',\n",
       " 'BEAM0110/rx_processing_a3/botloc',\n",
       " 'BEAM0110/rx_processing_a3/botloc_amp',\n",
       " 'BEAM0110/rx_processing_a3/energy_sm',\n",
       " 'BEAM0110/rx_processing_a3/front_threshold',\n",
       " 'BEAM0110/rx_processing_a3/lastmodeenergy',\n",
       " 'BEAM0110/rx_processing_a3/mean',\n",
       " 'BEAM0110/rx_processing_a3/mean_sm',\n",
       " 'BEAM0110/rx_processing_a3/min_detection_energy',\n",
       " 'BEAM0110/rx_processing_a3/min_detection_threshold',\n",
       " 'BEAM0110/rx_processing_a3/peak',\n",
       " 'BEAM0110/rx_processing_a3/pk_sm',\n",
       " 'BEAM0110/rx_processing_a3/rx_algrunflag',\n",
       " 'BEAM0110/rx_processing_a3/rx_cumulative',\n",
       " 'BEAM0110/rx_processing_a3/rx_iwaveamps',\n",
       " 'BEAM0110/rx_processing_a3/rx_modeamps',\n",
       " 'BEAM0110/rx_processing_a3/rx_modeenergytobotloc',\n",
       " 'BEAM0110/rx_processing_a3/rx_modelocalenergy',\n",
       " 'BEAM0110/rx_processing_a3/rx_modelocalenergyabovemean',\n",
       " 'BEAM0110/rx_processing_a3/rx_modelocalslope',\n",
       " 'BEAM0110/rx_processing_a3/rx_modelocs',\n",
       " 'BEAM0110/rx_processing_a3/rx_modewidths',\n",
       " 'BEAM0110/rx_processing_a3/rx_nummodes',\n",
       " 'BEAM0110/rx_processing_a3/sd_sm',\n",
       " 'BEAM0110/rx_processing_a3/search_end',\n",
       " 'BEAM0110/rx_processing_a3/search_start',\n",
       " 'BEAM0110/rx_processing_a3/selected_mode',\n",
       " 'BEAM0110/rx_processing_a3/selected_mode_flag',\n",
       " 'BEAM0110/rx_processing_a3/smoothwidth',\n",
       " 'BEAM0110/rx_processing_a3/smoothwidth_zcross',\n",
       " 'BEAM0110/rx_processing_a3/stddev',\n",
       " 'BEAM0110/rx_processing_a3/toploc',\n",
       " 'BEAM0110/rx_processing_a3/toploc_miss',\n",
       " 'BEAM0110/rx_processing_a3/zcross',\n",
       " 'BEAM0110/rx_processing_a3/zcross0',\n",
       " 'BEAM0110/rx_processing_a3/zcross_amp',\n",
       " 'BEAM0110/rx_processing_a3/zcross_localenergy',\n",
       " 'BEAM0110/rx_processing_a4/ancillary/amp_thresh',\n",
       " 'BEAM0110/rx_processing_a4/ancillary/ampval_limit2',\n",
       " 'BEAM0110/rx_processing_a4/ancillary/ampval_limit3',\n",
       " 'BEAM0110/rx_processing_a4/ancillary/botlocdist_limit1',\n",
       " 'BEAM0110/rx_processing_a4/ancillary/botlocdist_limit2',\n",
       " 'BEAM0110/rx_processing_a4/ancillary/botlocdist_limit3',\n",
       " 'BEAM0110/rx_processing_a4/ancillary/cumulative_energy_minimum',\n",
       " 'BEAM0110/rx_processing_a4/ancillary/cumulative_energy_thresh',\n",
       " 'BEAM0110/rx_processing_a4/ancillary/enable_select_mode',\n",
       " 'BEAM0110/rx_processing_a4/ancillary/energy_thresh',\n",
       " 'BEAM0110/rx_processing_a4/ancillary/preprocessor_threshold',\n",
       " 'BEAM0110/rx_processing_a4/ancillary/pulse_sep_thresh',\n",
       " 'BEAM0110/rx_processing_a4/ancillary/rx_back_threshold',\n",
       " 'BEAM0110/rx_processing_a4/ancillary/rx_front_threshold',\n",
       " 'BEAM0110/rx_processing_a4/ancillary/rx_max_mode_count',\n",
       " 'BEAM0110/rx_processing_a4/ancillary/rx_searchsize',\n",
       " 'BEAM0110/rx_processing_a4/ancillary/rx_sentinel_location',\n",
       " 'BEAM0110/rx_processing_a4/ancillary/rx_smoothing_width_locs',\n",
       " 'BEAM0110/rx_processing_a4/ancillary/rx_smoothing_width_zcross',\n",
       " 'BEAM0110/rx_processing_a4/ancillary/rx_subbin_resolution',\n",
       " 'BEAM0110/rx_processing_a4/ancillary/rx_use_fixed_thresholds',\n",
       " 'BEAM0110/rx_processing_a4/back_threshold',\n",
       " 'BEAM0110/rx_processing_a4/botloc',\n",
       " 'BEAM0110/rx_processing_a4/botloc_amp',\n",
       " 'BEAM0110/rx_processing_a4/energy_sm',\n",
       " 'BEAM0110/rx_processing_a4/front_threshold',\n",
       " 'BEAM0110/rx_processing_a4/lastmodeenergy',\n",
       " 'BEAM0110/rx_processing_a4/mean',\n",
       " 'BEAM0110/rx_processing_a4/mean_sm',\n",
       " 'BEAM0110/rx_processing_a4/min_detection_energy',\n",
       " 'BEAM0110/rx_processing_a4/min_detection_threshold',\n",
       " 'BEAM0110/rx_processing_a4/peak',\n",
       " 'BEAM0110/rx_processing_a4/pk_sm',\n",
       " 'BEAM0110/rx_processing_a4/rx_algrunflag',\n",
       " 'BEAM0110/rx_processing_a4/rx_cumulative',\n",
       " 'BEAM0110/rx_processing_a4/rx_iwaveamps',\n",
       " 'BEAM0110/rx_processing_a4/rx_modeamps',\n",
       " 'BEAM0110/rx_processing_a4/rx_modeenergytobotloc',\n",
       " 'BEAM0110/rx_processing_a4/rx_modelocalenergy',\n",
       " 'BEAM0110/rx_processing_a4/rx_modelocalenergyabovemean',\n",
       " 'BEAM0110/rx_processing_a4/rx_modelocalslope',\n",
       " 'BEAM0110/rx_processing_a4/rx_modelocs',\n",
       " 'BEAM0110/rx_processing_a4/rx_modewidths',\n",
       " 'BEAM0110/rx_processing_a4/rx_nummodes',\n",
       " 'BEAM0110/rx_processing_a4/sd_sm',\n",
       " 'BEAM0110/rx_processing_a4/search_end',\n",
       " 'BEAM0110/rx_processing_a4/search_start',\n",
       " 'BEAM0110/rx_processing_a4/selected_mode',\n",
       " 'BEAM0110/rx_processing_a4/selected_mode_flag',\n",
       " 'BEAM0110/rx_processing_a4/smoothwidth',\n",
       " 'BEAM0110/rx_processing_a4/smoothwidth_zcross',\n",
       " 'BEAM0110/rx_processing_a4/stddev',\n",
       " 'BEAM0110/rx_processing_a4/toploc',\n",
       " 'BEAM0110/rx_processing_a4/toploc_miss',\n",
       " 'BEAM0110/rx_processing_a4/zcross',\n",
       " 'BEAM0110/rx_processing_a4/zcross0',\n",
       " 'BEAM0110/rx_processing_a4/zcross_amp',\n",
       " 'BEAM0110/rx_processing_a4/zcross_localenergy',\n",
       " 'BEAM0110/rx_processing_a5/ancillary/amp_thresh',\n",
       " 'BEAM0110/rx_processing_a5/ancillary/ampval_limit2',\n",
       " 'BEAM0110/rx_processing_a5/ancillary/ampval_limit3',\n",
       " 'BEAM0110/rx_processing_a5/ancillary/botlocdist_limit1',\n",
       " 'BEAM0110/rx_processing_a5/ancillary/botlocdist_limit2',\n",
       " 'BEAM0110/rx_processing_a5/ancillary/botlocdist_limit3',\n",
       " 'BEAM0110/rx_processing_a5/ancillary/cumulative_energy_minimum',\n",
       " 'BEAM0110/rx_processing_a5/ancillary/cumulative_energy_thresh',\n",
       " 'BEAM0110/rx_processing_a5/ancillary/enable_select_mode',\n",
       " 'BEAM0110/rx_processing_a5/ancillary/energy_thresh',\n",
       " 'BEAM0110/rx_processing_a5/ancillary/preprocessor_threshold',\n",
       " 'BEAM0110/rx_processing_a5/ancillary/pulse_sep_thresh',\n",
       " 'BEAM0110/rx_processing_a5/ancillary/rx_back_threshold',\n",
       " 'BEAM0110/rx_processing_a5/ancillary/rx_front_threshold',\n",
       " 'BEAM0110/rx_processing_a5/ancillary/rx_max_mode_count',\n",
       " 'BEAM0110/rx_processing_a5/ancillary/rx_searchsize',\n",
       " 'BEAM0110/rx_processing_a5/ancillary/rx_sentinel_location',\n",
       " 'BEAM0110/rx_processing_a5/ancillary/rx_smoothing_width_locs',\n",
       " 'BEAM0110/rx_processing_a5/ancillary/rx_smoothing_width_zcross',\n",
       " 'BEAM0110/rx_processing_a5/ancillary/rx_subbin_resolution',\n",
       " 'BEAM0110/rx_processing_a5/ancillary/rx_use_fixed_thresholds',\n",
       " 'BEAM0110/rx_processing_a5/back_threshold',\n",
       " 'BEAM0110/rx_processing_a5/botloc',\n",
       " 'BEAM0110/rx_processing_a5/botloc_amp',\n",
       " 'BEAM0110/rx_processing_a5/energy_sm',\n",
       " 'BEAM0110/rx_processing_a5/front_threshold',\n",
       " 'BEAM0110/rx_processing_a5/lastmodeenergy',\n",
       " 'BEAM0110/rx_processing_a5/mean',\n",
       " 'BEAM0110/rx_processing_a5/mean_sm',\n",
       " 'BEAM0110/rx_processing_a5/min_detection_energy',\n",
       " 'BEAM0110/rx_processing_a5/min_detection_threshold',\n",
       " 'BEAM0110/rx_processing_a5/peak',\n",
       " 'BEAM0110/rx_processing_a5/pk_sm',\n",
       " 'BEAM0110/rx_processing_a5/rx_algrunflag',\n",
       " 'BEAM0110/rx_processing_a5/rx_cumulative',\n",
       " 'BEAM0110/rx_processing_a5/rx_iwaveamps',\n",
       " 'BEAM0110/rx_processing_a5/rx_modeamps',\n",
       " 'BEAM0110/rx_processing_a5/rx_modeenergytobotloc',\n",
       " 'BEAM0110/rx_processing_a5/rx_modelocalenergy',\n",
       " 'BEAM0110/rx_processing_a5/rx_modelocalenergyabovemean',\n",
       " 'BEAM0110/rx_processing_a5/rx_modelocalslope',\n",
       " 'BEAM0110/rx_processing_a5/rx_modelocs',\n",
       " 'BEAM0110/rx_processing_a5/rx_modewidths',\n",
       " 'BEAM0110/rx_processing_a5/rx_nummodes',\n",
       " 'BEAM0110/rx_processing_a5/sd_sm',\n",
       " 'BEAM0110/rx_processing_a5/search_end',\n",
       " 'BEAM0110/rx_processing_a5/search_start',\n",
       " 'BEAM0110/rx_processing_a5/selected_mode',\n",
       " 'BEAM0110/rx_processing_a5/selected_mode_flag',\n",
       " 'BEAM0110/rx_processing_a5/smoothwidth',\n",
       " 'BEAM0110/rx_processing_a5/smoothwidth_zcross',\n",
       " 'BEAM0110/rx_processing_a5/stddev',\n",
       " 'BEAM0110/rx_processing_a5/toploc',\n",
       " 'BEAM0110/rx_processing_a5/toploc_miss',\n",
       " 'BEAM0110/rx_processing_a5/zcross',\n",
       " 'BEAM0110/rx_processing_a5/zcross0',\n",
       " 'BEAM0110/rx_processing_a5/zcross_amp',\n",
       " 'BEAM0110/rx_processing_a5/zcross_localenergy',\n",
       " 'BEAM0110/rx_processing_a6/ancillary/amp_thresh',\n",
       " 'BEAM0110/rx_processing_a6/ancillary/ampval_limit2',\n",
       " 'BEAM0110/rx_processing_a6/ancillary/ampval_limit3',\n",
       " 'BEAM0110/rx_processing_a6/ancillary/botlocdist_limit1',\n",
       " 'BEAM0110/rx_processing_a6/ancillary/botlocdist_limit2',\n",
       " 'BEAM0110/rx_processing_a6/ancillary/botlocdist_limit3',\n",
       " 'BEAM0110/rx_processing_a6/ancillary/cumulative_energy_minimum',\n",
       " 'BEAM0110/rx_processing_a6/ancillary/cumulative_energy_thresh',\n",
       " 'BEAM0110/rx_processing_a6/ancillary/enable_select_mode',\n",
       " 'BEAM0110/rx_processing_a6/ancillary/energy_thresh',\n",
       " 'BEAM0110/rx_processing_a6/ancillary/preprocessor_threshold',\n",
       " 'BEAM0110/rx_processing_a6/ancillary/pulse_sep_thresh',\n",
       " 'BEAM0110/rx_processing_a6/ancillary/rx_back_threshold',\n",
       " 'BEAM0110/rx_processing_a6/ancillary/rx_front_threshold',\n",
       " 'BEAM0110/rx_processing_a6/ancillary/rx_max_mode_count',\n",
       " 'BEAM0110/rx_processing_a6/ancillary/rx_searchsize',\n",
       " 'BEAM0110/rx_processing_a6/ancillary/rx_sentinel_location',\n",
       " 'BEAM0110/rx_processing_a6/ancillary/rx_smoothing_width_locs',\n",
       " 'BEAM0110/rx_processing_a6/ancillary/rx_smoothing_width_zcross',\n",
       " 'BEAM0110/rx_processing_a6/ancillary/rx_subbin_resolution',\n",
       " 'BEAM0110/rx_processing_a6/ancillary/rx_use_fixed_thresholds',\n",
       " 'BEAM0110/rx_processing_a6/back_threshold',\n",
       " 'BEAM0110/rx_processing_a6/botloc',\n",
       " 'BEAM0110/rx_processing_a6/botloc_amp',\n",
       " 'BEAM0110/rx_processing_a6/energy_sm',\n",
       " 'BEAM0110/rx_processing_a6/front_threshold',\n",
       " 'BEAM0110/rx_processing_a6/lastmodeenergy',\n",
       " 'BEAM0110/rx_processing_a6/mean',\n",
       " 'BEAM0110/rx_processing_a6/mean_sm',\n",
       " 'BEAM0110/rx_processing_a6/min_detection_energy',\n",
       " 'BEAM0110/rx_processing_a6/min_detection_threshold',\n",
       " 'BEAM0110/rx_processing_a6/peak',\n",
       " 'BEAM0110/rx_processing_a6/pk_sm',\n",
       " 'BEAM0110/rx_processing_a6/rx_algrunflag',\n",
       " 'BEAM0110/rx_processing_a6/rx_cumulative',\n",
       " 'BEAM0110/rx_processing_a6/rx_iwaveamps',\n",
       " 'BEAM0110/rx_processing_a6/rx_modeamps',\n",
       " 'BEAM0110/rx_processing_a6/rx_modeenergytobotloc',\n",
       " 'BEAM0110/rx_processing_a6/rx_modelocalenergy',\n",
       " 'BEAM0110/rx_processing_a6/rx_modelocalenergyabovemean',\n",
       " 'BEAM0110/rx_processing_a6/rx_modelocalslope',\n",
       " 'BEAM0110/rx_processing_a6/rx_modelocs',\n",
       " 'BEAM0110/rx_processing_a6/rx_modewidths',\n",
       " 'BEAM0110/rx_processing_a6/rx_nummodes',\n",
       " 'BEAM0110/rx_processing_a6/sd_sm',\n",
       " 'BEAM0110/rx_processing_a6/search_end',\n",
       " 'BEAM0110/rx_processing_a6/search_start',\n",
       " 'BEAM0110/rx_processing_a6/selected_mode',\n",
       " 'BEAM0110/rx_processing_a6/selected_mode_flag',\n",
       " 'BEAM0110/rx_processing_a6/smoothwidth',\n",
       " 'BEAM0110/rx_processing_a6/smoothwidth_zcross',\n",
       " 'BEAM0110/rx_processing_a6/stddev',\n",
       " 'BEAM0110/rx_processing_a6/toploc',\n",
       " 'BEAM0110/rx_processing_a6/toploc_miss',\n",
       " 'BEAM0110/rx_processing_a6/zcross',\n",
       " 'BEAM0110/rx_processing_a6/zcross0',\n",
       " 'BEAM0110/rx_processing_a6/zcross_amp',\n",
       " 'BEAM0110/rx_processing_a6/zcross_localenergy',\n",
       " 'BEAM0110/selected_algorithm',\n",
       " 'BEAM0110/selected_mode',\n",
       " 'BEAM0110/selected_mode_flag',\n",
       " 'BEAM0110/sensitivity',\n",
       " 'BEAM0110/shot_number',\n",
       " 'BEAM0110/solar_azimuth',\n",
       " 'BEAM0110/solar_elevation',\n",
       " 'BEAM0110/surface_flag']"
      ]
     },
     "execution_count": 1,
     "metadata": {},
     "output_type": "execute_result"
    }
   ],
   "source": [
    "#List of GEDI Variables\n",
    "['BEAM0110/ancillary/l2a_alg_count',\n",
    " 'BEAM0110/beam',\n",
    " 'BEAM0110/channel',\n",
    " 'BEAM0110/degrade_flag',\n",
    " 'BEAM0110/delta_time',\n",
    " 'BEAM0110/digital_elevation_model',\n",
    " 'BEAM0110/digital_elevation_model_srtm',\n",
    " 'BEAM0110/elev_highestreturn',\n",
    " 'BEAM0110/elev_lowestmode',\n",
    " 'BEAM0110/elevation_bias_flag',\n",
    " 'BEAM0110/elevation_bin0_error',\n",
    " 'BEAM0110/energy_total',\n",
    " 'BEAM0110/geolocation/elev_highestreturn_a1',\n",
    " 'BEAM0110/geolocation/elev_highestreturn_a2',\n",
    " 'BEAM0110/geolocation/elev_highestreturn_a3',\n",
    " 'BEAM0110/geolocation/elev_highestreturn_a4',\n",
    " 'BEAM0110/geolocation/elev_highestreturn_a5',\n",
    " 'BEAM0110/geolocation/elev_highestreturn_a6',\n",
    " 'BEAM0110/geolocation/elev_lowestmode_a1',\n",
    " 'BEAM0110/geolocation/elev_lowestmode_a2',\n",
    " 'BEAM0110/geolocation/elev_lowestmode_a3',\n",
    " 'BEAM0110/geolocation/elev_lowestmode_a4',\n",
    " 'BEAM0110/geolocation/elev_lowestmode_a5',\n",
    " 'BEAM0110/geolocation/elev_lowestmode_a6',\n",
    " 'BEAM0110/geolocation/elev_lowestreturn_a1',\n",
    " 'BEAM0110/geolocation/elev_lowestreturn_a2',\n",
    " 'BEAM0110/geolocation/elev_lowestreturn_a3',\n",
    " 'BEAM0110/geolocation/elev_lowestreturn_a4',\n",
    " 'BEAM0110/geolocation/elev_lowestreturn_a5',\n",
    " 'BEAM0110/geolocation/elev_lowestreturn_a6',\n",
    " 'BEAM0110/geolocation/elevation_1gfit',\n",
    " 'BEAM0110/geolocation/elevs_allmodes_a1',\n",
    " 'BEAM0110/geolocation/elevs_allmodes_a2',\n",
    " 'BEAM0110/geolocation/elevs_allmodes_a3',\n",
    " 'BEAM0110/geolocation/elevs_allmodes_a4',\n",
    " 'BEAM0110/geolocation/elevs_allmodes_a5',\n",
    " 'BEAM0110/geolocation/elevs_allmodes_a6',\n",
    " 'BEAM0110/geolocation/energy_lowestmode_a1',\n",
    " 'BEAM0110/geolocation/energy_lowestmode_a2',\n",
    " 'BEAM0110/geolocation/energy_lowestmode_a3',\n",
    " 'BEAM0110/geolocation/energy_lowestmode_a4',\n",
    " 'BEAM0110/geolocation/energy_lowestmode_a5',\n",
    " 'BEAM0110/geolocation/energy_lowestmode_a6',\n",
    " 'BEAM0110/geolocation/lat_highestreturn_a1',\n",
    " 'BEAM0110/geolocation/lat_highestreturn_a2',\n",
    " 'BEAM0110/geolocation/lat_highestreturn_a3',\n",
    " 'BEAM0110/geolocation/lat_highestreturn_a4',\n",
    " 'BEAM0110/geolocation/lat_highestreturn_a5',\n",
    " 'BEAM0110/geolocation/lat_highestreturn_a6',\n",
    " 'BEAM0110/geolocation/lat_lowestmode_a1',\n",
    " 'BEAM0110/geolocation/lat_lowestmode_a2',\n",
    " 'BEAM0110/geolocation/lat_lowestmode_a3',\n",
    " 'BEAM0110/geolocation/lat_lowestmode_a4',\n",
    " 'BEAM0110/geolocation/lat_lowestmode_a5',\n",
    " 'BEAM0110/geolocation/lat_lowestmode_a6',\n",
    " 'BEAM0110/geolocation/lat_lowestreturn_a1',\n",
    " 'BEAM0110/geolocation/lat_lowestreturn_a2',\n",
    " 'BEAM0110/geolocation/lat_lowestreturn_a3',\n",
    " 'BEAM0110/geolocation/lat_lowestreturn_a4',\n",
    " 'BEAM0110/geolocation/lat_lowestreturn_a5',\n",
    " 'BEAM0110/geolocation/lat_lowestreturn_a6',\n",
    " 'BEAM0110/geolocation/latitude_1gfit',\n",
    " 'BEAM0110/geolocation/lats_allmodes_a1',\n",
    " 'BEAM0110/geolocation/lats_allmodes_a2',\n",
    " 'BEAM0110/geolocation/lats_allmodes_a3',\n",
    " 'BEAM0110/geolocation/lats_allmodes_a4',\n",
    " 'BEAM0110/geolocation/lats_allmodes_a5',\n",
    " 'BEAM0110/geolocation/lats_allmodes_a6',\n",
    " 'BEAM0110/geolocation/lon_highestreturn_a1',\n",
    " 'BEAM0110/geolocation/lon_highestreturn_a2',\n",
    " 'BEAM0110/geolocation/lon_highestreturn_a3',\n",
    " 'BEAM0110/geolocation/lon_highestreturn_a4',\n",
    " 'BEAM0110/geolocation/lon_highestreturn_a5',\n",
    " 'BEAM0110/geolocation/lon_highestreturn_a6',\n",
    " 'BEAM0110/geolocation/lon_lowestmode_a1',\n",
    " 'BEAM0110/geolocation/lon_lowestmode_a2',\n",
    " 'BEAM0110/geolocation/lon_lowestmode_a3',\n",
    " 'BEAM0110/geolocation/lon_lowestmode_a4',\n",
    " 'BEAM0110/geolocation/lon_lowestmode_a5',\n",
    " 'BEAM0110/geolocation/lon_lowestmode_a6',\n",
    " 'BEAM0110/geolocation/lon_lowestreturn_a1',\n",
    " 'BEAM0110/geolocation/lon_lowestreturn_a2',\n",
    " 'BEAM0110/geolocation/lon_lowestreturn_a3',\n",
    " 'BEAM0110/geolocation/lon_lowestreturn_a4',\n",
    " 'BEAM0110/geolocation/lon_lowestreturn_a5',\n",
    " 'BEAM0110/geolocation/lon_lowestreturn_a6',\n",
    " 'BEAM0110/geolocation/longitude_1gfit',\n",
    " 'BEAM0110/geolocation/lons_allmodes_a1',\n",
    " 'BEAM0110/geolocation/lons_allmodes_a2',\n",
    " 'BEAM0110/geolocation/lons_allmodes_a3',\n",
    " 'BEAM0110/geolocation/lons_allmodes_a4',\n",
    " 'BEAM0110/geolocation/lons_allmodes_a5',\n",
    " 'BEAM0110/geolocation/lons_allmodes_a6',\n",
    " 'BEAM0110/geolocation/num_detectedmodes_a1',\n",
    " 'BEAM0110/geolocation/num_detectedmodes_a2',\n",
    " 'BEAM0110/geolocation/num_detectedmodes_a3',\n",
    " 'BEAM0110/geolocation/num_detectedmodes_a4',\n",
    " 'BEAM0110/geolocation/num_detectedmodes_a5',\n",
    " 'BEAM0110/geolocation/num_detectedmodes_a6',\n",
    " 'BEAM0110/geolocation/quality_flag_a1',\n",
    " 'BEAM0110/geolocation/quality_flag_a2',\n",
    " 'BEAM0110/geolocation/quality_flag_a3',\n",
    " 'BEAM0110/geolocation/quality_flag_a4',\n",
    " 'BEAM0110/geolocation/quality_flag_a5',\n",
    " 'BEAM0110/geolocation/quality_flag_a6',\n",
    " 'BEAM0110/geolocation/rh_a1',\n",
    " 'BEAM0110/geolocation/rh_a2',\n",
    " 'BEAM0110/geolocation/rh_a3',\n",
    " 'BEAM0110/geolocation/rh_a4',\n",
    " 'BEAM0110/geolocation/rh_a5',\n",
    " 'BEAM0110/geolocation/rh_a6',\n",
    " 'BEAM0110/geolocation/sensitivity_a1',\n",
    " 'BEAM0110/geolocation/sensitivity_a2',\n",
    " 'BEAM0110/geolocation/sensitivity_a3',\n",
    " 'BEAM0110/geolocation/sensitivity_a4',\n",
    " 'BEAM0110/geolocation/sensitivity_a5',\n",
    " 'BEAM0110/geolocation/sensitivity_a6',\n",
    " 'BEAM0110/geolocation/stale_return_flag',\n",
    " 'BEAM0110/land_cover_data/landsat_treecover',\n",
    " 'BEAM0110/land_cover_data/landsat_water_persistence',\n",
    " 'BEAM0110/land_cover_data/leaf_off_doy',\n",
    " 'BEAM0110/land_cover_data/leaf_off_flag',\n",
    " 'BEAM0110/land_cover_data/leaf_on_cycle',\n",
    " 'BEAM0110/land_cover_data/leaf_on_doy',\n",
    " 'BEAM0110/land_cover_data/modis_nonvegetated',\n",
    " 'BEAM0110/land_cover_data/modis_nonvegetated_sd',\n",
    " 'BEAM0110/land_cover_data/modis_treecover',\n",
    " 'BEAM0110/land_cover_data/modis_treecover_sd',\n",
    " 'BEAM0110/land_cover_data/pft_class',\n",
    " 'BEAM0110/land_cover_data/region_class',\n",
    " 'BEAM0110/land_cover_data/urban_focal_window_size',\n",
    " 'BEAM0110/land_cover_data/urban_proportion',\n",
    " 'BEAM0110/lat_highestreturn',\n",
    " 'BEAM0110/lat_lowestmode',\n",
    " 'BEAM0110/latitude_bin0_error',\n",
    " 'BEAM0110/lon_highestreturn',\n",
    " 'BEAM0110/lon_lowestmode',\n",
    " 'BEAM0110/longitude_bin0_error',\n",
    " 'BEAM0110/master_frac',\n",
    " 'BEAM0110/master_int',\n",
    " 'BEAM0110/mean_sea_surface',\n",
    " 'BEAM0110/num_detectedmodes',\n",
    " 'BEAM0110/quality_flag',\n",
    " 'BEAM0110/rh',\n",
    " 'BEAM0110/rx_1gaussfit/ancillary/mpfit_max_func_evals',\n",
    " 'BEAM0110/rx_1gaussfit/ancillary/mpfit_maxiters',\n",
    " 'BEAM0110/rx_1gaussfit/ancillary/mpfit_tolerance',\n",
    " 'BEAM0110/rx_1gaussfit/ancillary/rx_constraint_gamplitude_lower',\n",
    " 'BEAM0110/rx_1gaussfit/ancillary/rx_constraint_gamplitude_upper',\n",
    " 'BEAM0110/rx_1gaussfit/ancillary/rx_constraint_gloc_lower',\n",
    " 'BEAM0110/rx_1gaussfit/ancillary/rx_constraint_gloc_upper',\n",
    " 'BEAM0110/rx_1gaussfit/ancillary/rx_constraint_gwidth_lower',\n",
    " 'BEAM0110/rx_1gaussfit/ancillary/rx_constraint_gwidth_upper',\n",
    " 'BEAM0110/rx_1gaussfit/ancillary/rx_estimate_bias',\n",
    " 'BEAM0110/rx_1gaussfit/ancillary/rx_mean_noise_level',\n",
    " 'BEAM0110/rx_1gaussfit/ancillary/rx_smoothwidth',\n",
    " 'BEAM0110/rx_1gaussfit/rx_gamplitude',\n",
    " 'BEAM0110/rx_1gaussfit/rx_gamplitude_error',\n",
    " 'BEAM0110/rx_1gaussfit/rx_gbias',\n",
    " 'BEAM0110/rx_1gaussfit/rx_gbias_error',\n",
    " 'BEAM0110/rx_1gaussfit/rx_gchisq',\n",
    " 'BEAM0110/rx_1gaussfit/rx_gflag',\n",
    " 'BEAM0110/rx_1gaussfit/rx_giters',\n",
    " 'BEAM0110/rx_1gaussfit/rx_gloc',\n",
    " 'BEAM0110/rx_1gaussfit/rx_gloc_error',\n",
    " 'BEAM0110/rx_1gaussfit/rx_gwidth',\n",
    " 'BEAM0110/rx_1gaussfit/rx_gwidth_error',\n",
    " 'BEAM0110/rx_assess/ancillary/rx_ampbounds_ll',\n",
    " 'BEAM0110/rx_assess/ancillary/rx_ampbounds_ul',\n",
    " 'BEAM0110/rx_assess/ancillary/rx_clipamp',\n",
    " 'BEAM0110/rx_assess/ancillary/rx_pulsethresh',\n",
    " 'BEAM0110/rx_assess/ancillary/rx_ringthresh',\n",
    " 'BEAM0110/rx_assess/ancillary/smoothing_width_locs',\n",
    " 'BEAM0110/rx_assess/mean',\n",
    " 'BEAM0110/rx_assess/mean_64kadjusted',\n",
    " 'BEAM0110/rx_assess/ocean_calibration_shot_flag',\n",
    " 'BEAM0110/rx_assess/quality_flag',\n",
    " 'BEAM0110/rx_assess/rx_assess_flag',\n",
    " 'BEAM0110/rx_assess/rx_clipbin0',\n",
    " 'BEAM0110/rx_assess/rx_clipbin_count',\n",
    " 'BEAM0110/rx_assess/rx_energy',\n",
    " 'BEAM0110/rx_assess/rx_maxamp',\n",
    " 'BEAM0110/rx_assess/rx_maxpeakloc',\n",
    " 'BEAM0110/rx_assess/sd_corrected',\n",
    " 'BEAM0110/rx_processing_a1/ancillary/amp_thresh',\n",
    " 'BEAM0110/rx_processing_a1/ancillary/ampval_limit2',\n",
    " 'BEAM0110/rx_processing_a1/ancillary/ampval_limit3',\n",
    " 'BEAM0110/rx_processing_a1/ancillary/botlocdist_limit1',\n",
    " 'BEAM0110/rx_processing_a1/ancillary/botlocdist_limit2',\n",
    " 'BEAM0110/rx_processing_a1/ancillary/botlocdist_limit3',\n",
    " 'BEAM0110/rx_processing_a1/ancillary/cumulative_energy_minimum',\n",
    " 'BEAM0110/rx_processing_a1/ancillary/cumulative_energy_thresh',\n",
    " 'BEAM0110/rx_processing_a1/ancillary/enable_select_mode',\n",
    " 'BEAM0110/rx_processing_a1/ancillary/energy_thresh',\n",
    " 'BEAM0110/rx_processing_a1/ancillary/preprocessor_threshold',\n",
    " 'BEAM0110/rx_processing_a1/ancillary/pulse_sep_thresh',\n",
    " 'BEAM0110/rx_processing_a1/ancillary/rx_back_threshold',\n",
    " 'BEAM0110/rx_processing_a1/ancillary/rx_front_threshold',\n",
    " 'BEAM0110/rx_processing_a1/ancillary/rx_max_mode_count',\n",
    " 'BEAM0110/rx_processing_a1/ancillary/rx_searchsize',\n",
    " 'BEAM0110/rx_processing_a1/ancillary/rx_sentinel_location',\n",
    " 'BEAM0110/rx_processing_a1/ancillary/rx_smoothing_width_locs',\n",
    " 'BEAM0110/rx_processing_a1/ancillary/rx_smoothing_width_zcross',\n",
    " 'BEAM0110/rx_processing_a1/ancillary/rx_subbin_resolution',\n",
    " 'BEAM0110/rx_processing_a1/ancillary/rx_use_fixed_thresholds',\n",
    " 'BEAM0110/rx_processing_a1/back_threshold',\n",
    " 'BEAM0110/rx_processing_a1/botloc',\n",
    " 'BEAM0110/rx_processing_a1/botloc_amp',\n",
    " 'BEAM0110/rx_processing_a1/energy_sm',\n",
    " 'BEAM0110/rx_processing_a1/front_threshold',\n",
    " 'BEAM0110/rx_processing_a1/lastmodeenergy',\n",
    " 'BEAM0110/rx_processing_a1/mean',\n",
    " 'BEAM0110/rx_processing_a1/mean_sm',\n",
    " 'BEAM0110/rx_processing_a1/min_detection_energy',\n",
    " 'BEAM0110/rx_processing_a1/min_detection_threshold',\n",
    " 'BEAM0110/rx_processing_a1/peak',\n",
    " 'BEAM0110/rx_processing_a1/pk_sm',\n",
    " 'BEAM0110/rx_processing_a1/rx_algrunflag',\n",
    " 'BEAM0110/rx_processing_a1/rx_cumulative',\n",
    " 'BEAM0110/rx_processing_a1/rx_iwaveamps',\n",
    " 'BEAM0110/rx_processing_a1/rx_modeamps',\n",
    " 'BEAM0110/rx_processing_a1/rx_modeenergytobotloc',\n",
    " 'BEAM0110/rx_processing_a1/rx_modelocalenergy',\n",
    " 'BEAM0110/rx_processing_a1/rx_modelocalenergyabovemean',\n",
    " 'BEAM0110/rx_processing_a1/rx_modelocalslope',\n",
    " 'BEAM0110/rx_processing_a1/rx_modelocs',\n",
    " 'BEAM0110/rx_processing_a1/rx_modewidths',\n",
    " 'BEAM0110/rx_processing_a1/rx_nummodes',\n",
    " 'BEAM0110/rx_processing_a1/sd_sm',\n",
    " 'BEAM0110/rx_processing_a1/search_end',\n",
    " 'BEAM0110/rx_processing_a1/search_start',\n",
    " 'BEAM0110/rx_processing_a1/selected_mode',\n",
    " 'BEAM0110/rx_processing_a1/selected_mode_flag',\n",
    " 'BEAM0110/rx_processing_a1/smoothwidth',\n",
    " 'BEAM0110/rx_processing_a1/smoothwidth_zcross',\n",
    " 'BEAM0110/rx_processing_a1/stddev',\n",
    " 'BEAM0110/rx_processing_a1/toploc',\n",
    " 'BEAM0110/rx_processing_a1/toploc_miss',\n",
    " 'BEAM0110/rx_processing_a1/zcross',\n",
    " 'BEAM0110/rx_processing_a1/zcross0',\n",
    " 'BEAM0110/rx_processing_a1/zcross_amp',\n",
    " 'BEAM0110/rx_processing_a1/zcross_localenergy',\n",
    " 'BEAM0110/rx_processing_a2/ancillary/amp_thresh',\n",
    " 'BEAM0110/rx_processing_a2/ancillary/ampval_limit2',\n",
    " 'BEAM0110/rx_processing_a2/ancillary/ampval_limit3',\n",
    " 'BEAM0110/rx_processing_a2/ancillary/botlocdist_limit1',\n",
    " 'BEAM0110/rx_processing_a2/ancillary/botlocdist_limit2',\n",
    " 'BEAM0110/rx_processing_a2/ancillary/botlocdist_limit3',\n",
    " 'BEAM0110/rx_processing_a2/ancillary/cumulative_energy_minimum',\n",
    " 'BEAM0110/rx_processing_a2/ancillary/cumulative_energy_thresh',\n",
    " 'BEAM0110/rx_processing_a2/ancillary/enable_select_mode',\n",
    " 'BEAM0110/rx_processing_a2/ancillary/energy_thresh',\n",
    " 'BEAM0110/rx_processing_a2/ancillary/preprocessor_threshold',\n",
    " 'BEAM0110/rx_processing_a2/ancillary/pulse_sep_thresh',\n",
    " 'BEAM0110/rx_processing_a2/ancillary/rx_back_threshold',\n",
    " 'BEAM0110/rx_processing_a2/ancillary/rx_front_threshold',\n",
    " 'BEAM0110/rx_processing_a2/ancillary/rx_max_mode_count',\n",
    " 'BEAM0110/rx_processing_a2/ancillary/rx_searchsize',\n",
    " 'BEAM0110/rx_processing_a2/ancillary/rx_sentinel_location',\n",
    " 'BEAM0110/rx_processing_a2/ancillary/rx_smoothing_width_locs',\n",
    " 'BEAM0110/rx_processing_a2/ancillary/rx_smoothing_width_zcross',\n",
    " 'BEAM0110/rx_processing_a2/ancillary/rx_subbin_resolution',\n",
    " 'BEAM0110/rx_processing_a2/ancillary/rx_use_fixed_thresholds',\n",
    " 'BEAM0110/rx_processing_a2/back_threshold',\n",
    " 'BEAM0110/rx_processing_a2/botloc',\n",
    " 'BEAM0110/rx_processing_a2/botloc_amp',\n",
    " 'BEAM0110/rx_processing_a2/energy_sm',\n",
    " 'BEAM0110/rx_processing_a2/front_threshold',\n",
    " 'BEAM0110/rx_processing_a2/lastmodeenergy',\n",
    " 'BEAM0110/rx_processing_a2/mean',\n",
    " 'BEAM0110/rx_processing_a2/mean_sm',\n",
    " 'BEAM0110/rx_processing_a2/min_detection_energy',\n",
    " 'BEAM0110/rx_processing_a2/min_detection_threshold',\n",
    " 'BEAM0110/rx_processing_a2/peak',\n",
    " 'BEAM0110/rx_processing_a2/pk_sm',\n",
    " 'BEAM0110/rx_processing_a2/rx_algrunflag',\n",
    " 'BEAM0110/rx_processing_a2/rx_cumulative',\n",
    " 'BEAM0110/rx_processing_a2/rx_iwaveamps',\n",
    " 'BEAM0110/rx_processing_a2/rx_modeamps',\n",
    " 'BEAM0110/rx_processing_a2/rx_modeenergytobotloc',\n",
    " 'BEAM0110/rx_processing_a2/rx_modelocalenergy',\n",
    " 'BEAM0110/rx_processing_a2/rx_modelocalenergyabovemean',\n",
    " 'BEAM0110/rx_processing_a2/rx_modelocalslope',\n",
    " 'BEAM0110/rx_processing_a2/rx_modelocs',\n",
    " 'BEAM0110/rx_processing_a2/rx_modewidths',\n",
    " 'BEAM0110/rx_processing_a2/rx_nummodes',\n",
    " 'BEAM0110/rx_processing_a2/sd_sm',\n",
    " 'BEAM0110/rx_processing_a2/search_end',\n",
    " 'BEAM0110/rx_processing_a2/search_start',\n",
    " 'BEAM0110/rx_processing_a2/selected_mode',\n",
    " 'BEAM0110/rx_processing_a2/selected_mode_flag',\n",
    " 'BEAM0110/rx_processing_a2/smoothwidth',\n",
    " 'BEAM0110/rx_processing_a2/smoothwidth_zcross',\n",
    " 'BEAM0110/rx_processing_a2/stddev',\n",
    " 'BEAM0110/rx_processing_a2/toploc',\n",
    " 'BEAM0110/rx_processing_a2/toploc_miss',\n",
    " 'BEAM0110/rx_processing_a2/zcross',\n",
    " 'BEAM0110/rx_processing_a2/zcross0',\n",
    " 'BEAM0110/rx_processing_a2/zcross_amp',\n",
    " 'BEAM0110/rx_processing_a2/zcross_localenergy',\n",
    " 'BEAM0110/rx_processing_a3/ancillary/amp_thresh',\n",
    " 'BEAM0110/rx_processing_a3/ancillary/ampval_limit2',\n",
    " 'BEAM0110/rx_processing_a3/ancillary/ampval_limit3',\n",
    " 'BEAM0110/rx_processing_a3/ancillary/botlocdist_limit1',\n",
    " 'BEAM0110/rx_processing_a3/ancillary/botlocdist_limit2',\n",
    " 'BEAM0110/rx_processing_a3/ancillary/botlocdist_limit3',\n",
    " 'BEAM0110/rx_processing_a3/ancillary/cumulative_energy_minimum',\n",
    " 'BEAM0110/rx_processing_a3/ancillary/cumulative_energy_thresh',\n",
    " 'BEAM0110/rx_processing_a3/ancillary/enable_select_mode',\n",
    " 'BEAM0110/rx_processing_a3/ancillary/energy_thresh',\n",
    " 'BEAM0110/rx_processing_a3/ancillary/preprocessor_threshold',\n",
    " 'BEAM0110/rx_processing_a3/ancillary/pulse_sep_thresh',\n",
    " 'BEAM0110/rx_processing_a3/ancillary/rx_back_threshold',\n",
    " 'BEAM0110/rx_processing_a3/ancillary/rx_front_threshold',\n",
    " 'BEAM0110/rx_processing_a3/ancillary/rx_max_mode_count',\n",
    " 'BEAM0110/rx_processing_a3/ancillary/rx_searchsize',\n",
    " 'BEAM0110/rx_processing_a3/ancillary/rx_sentinel_location',\n",
    " 'BEAM0110/rx_processing_a3/ancillary/rx_smoothing_width_locs',\n",
    " 'BEAM0110/rx_processing_a3/ancillary/rx_smoothing_width_zcross',\n",
    " 'BEAM0110/rx_processing_a3/ancillary/rx_subbin_resolution',\n",
    " 'BEAM0110/rx_processing_a3/ancillary/rx_use_fixed_thresholds',\n",
    " 'BEAM0110/rx_processing_a3/back_threshold',\n",
    " 'BEAM0110/rx_processing_a3/botloc',\n",
    " 'BEAM0110/rx_processing_a3/botloc_amp',\n",
    " 'BEAM0110/rx_processing_a3/energy_sm',\n",
    " 'BEAM0110/rx_processing_a3/front_threshold',\n",
    " 'BEAM0110/rx_processing_a3/lastmodeenergy',\n",
    " 'BEAM0110/rx_processing_a3/mean',\n",
    " 'BEAM0110/rx_processing_a3/mean_sm',\n",
    " 'BEAM0110/rx_processing_a3/min_detection_energy',\n",
    " 'BEAM0110/rx_processing_a3/min_detection_threshold',\n",
    " 'BEAM0110/rx_processing_a3/peak',\n",
    " 'BEAM0110/rx_processing_a3/pk_sm',\n",
    " 'BEAM0110/rx_processing_a3/rx_algrunflag',\n",
    " 'BEAM0110/rx_processing_a3/rx_cumulative',\n",
    " 'BEAM0110/rx_processing_a3/rx_iwaveamps',\n",
    " 'BEAM0110/rx_processing_a3/rx_modeamps',\n",
    " 'BEAM0110/rx_processing_a3/rx_modeenergytobotloc',\n",
    " 'BEAM0110/rx_processing_a3/rx_modelocalenergy',\n",
    " 'BEAM0110/rx_processing_a3/rx_modelocalenergyabovemean',\n",
    " 'BEAM0110/rx_processing_a3/rx_modelocalslope',\n",
    " 'BEAM0110/rx_processing_a3/rx_modelocs',\n",
    " 'BEAM0110/rx_processing_a3/rx_modewidths',\n",
    " 'BEAM0110/rx_processing_a3/rx_nummodes',\n",
    " 'BEAM0110/rx_processing_a3/sd_sm',\n",
    " 'BEAM0110/rx_processing_a3/search_end',\n",
    " 'BEAM0110/rx_processing_a3/search_start',\n",
    " 'BEAM0110/rx_processing_a3/selected_mode',\n",
    " 'BEAM0110/rx_processing_a3/selected_mode_flag',\n",
    " 'BEAM0110/rx_processing_a3/smoothwidth',\n",
    " 'BEAM0110/rx_processing_a3/smoothwidth_zcross',\n",
    " 'BEAM0110/rx_processing_a3/stddev',\n",
    " 'BEAM0110/rx_processing_a3/toploc',\n",
    " 'BEAM0110/rx_processing_a3/toploc_miss',\n",
    " 'BEAM0110/rx_processing_a3/zcross',\n",
    " 'BEAM0110/rx_processing_a3/zcross0',\n",
    " 'BEAM0110/rx_processing_a3/zcross_amp',\n",
    " 'BEAM0110/rx_processing_a3/zcross_localenergy',\n",
    " 'BEAM0110/rx_processing_a4/ancillary/amp_thresh',\n",
    " 'BEAM0110/rx_processing_a4/ancillary/ampval_limit2',\n",
    " 'BEAM0110/rx_processing_a4/ancillary/ampval_limit3',\n",
    " 'BEAM0110/rx_processing_a4/ancillary/botlocdist_limit1',\n",
    " 'BEAM0110/rx_processing_a4/ancillary/botlocdist_limit2',\n",
    " 'BEAM0110/rx_processing_a4/ancillary/botlocdist_limit3',\n",
    " 'BEAM0110/rx_processing_a4/ancillary/cumulative_energy_minimum',\n",
    " 'BEAM0110/rx_processing_a4/ancillary/cumulative_energy_thresh',\n",
    " 'BEAM0110/rx_processing_a4/ancillary/enable_select_mode',\n",
    " 'BEAM0110/rx_processing_a4/ancillary/energy_thresh',\n",
    " 'BEAM0110/rx_processing_a4/ancillary/preprocessor_threshold',\n",
    " 'BEAM0110/rx_processing_a4/ancillary/pulse_sep_thresh',\n",
    " 'BEAM0110/rx_processing_a4/ancillary/rx_back_threshold',\n",
    " 'BEAM0110/rx_processing_a4/ancillary/rx_front_threshold',\n",
    " 'BEAM0110/rx_processing_a4/ancillary/rx_max_mode_count',\n",
    " 'BEAM0110/rx_processing_a4/ancillary/rx_searchsize',\n",
    " 'BEAM0110/rx_processing_a4/ancillary/rx_sentinel_location',\n",
    " 'BEAM0110/rx_processing_a4/ancillary/rx_smoothing_width_locs',\n",
    " 'BEAM0110/rx_processing_a4/ancillary/rx_smoothing_width_zcross',\n",
    " 'BEAM0110/rx_processing_a4/ancillary/rx_subbin_resolution',\n",
    " 'BEAM0110/rx_processing_a4/ancillary/rx_use_fixed_thresholds',\n",
    " 'BEAM0110/rx_processing_a4/back_threshold',\n",
    " 'BEAM0110/rx_processing_a4/botloc',\n",
    " 'BEAM0110/rx_processing_a4/botloc_amp',\n",
    " 'BEAM0110/rx_processing_a4/energy_sm',\n",
    " 'BEAM0110/rx_processing_a4/front_threshold',\n",
    " 'BEAM0110/rx_processing_a4/lastmodeenergy',\n",
    " 'BEAM0110/rx_processing_a4/mean',\n",
    " 'BEAM0110/rx_processing_a4/mean_sm',\n",
    " 'BEAM0110/rx_processing_a4/min_detection_energy',\n",
    " 'BEAM0110/rx_processing_a4/min_detection_threshold',\n",
    " 'BEAM0110/rx_processing_a4/peak',\n",
    " 'BEAM0110/rx_processing_a4/pk_sm',\n",
    " 'BEAM0110/rx_processing_a4/rx_algrunflag',\n",
    " 'BEAM0110/rx_processing_a4/rx_cumulative',\n",
    " 'BEAM0110/rx_processing_a4/rx_iwaveamps',\n",
    " 'BEAM0110/rx_processing_a4/rx_modeamps',\n",
    " 'BEAM0110/rx_processing_a4/rx_modeenergytobotloc',\n",
    " 'BEAM0110/rx_processing_a4/rx_modelocalenergy',\n",
    " 'BEAM0110/rx_processing_a4/rx_modelocalenergyabovemean',\n",
    " 'BEAM0110/rx_processing_a4/rx_modelocalslope',\n",
    " 'BEAM0110/rx_processing_a4/rx_modelocs',\n",
    " 'BEAM0110/rx_processing_a4/rx_modewidths',\n",
    " 'BEAM0110/rx_processing_a4/rx_nummodes',\n",
    " 'BEAM0110/rx_processing_a4/sd_sm',\n",
    " 'BEAM0110/rx_processing_a4/search_end',\n",
    " 'BEAM0110/rx_processing_a4/search_start',\n",
    " 'BEAM0110/rx_processing_a4/selected_mode',\n",
    " 'BEAM0110/rx_processing_a4/selected_mode_flag',\n",
    " 'BEAM0110/rx_processing_a4/smoothwidth',\n",
    " 'BEAM0110/rx_processing_a4/smoothwidth_zcross',\n",
    " 'BEAM0110/rx_processing_a4/stddev',\n",
    " 'BEAM0110/rx_processing_a4/toploc',\n",
    " 'BEAM0110/rx_processing_a4/toploc_miss',\n",
    " 'BEAM0110/rx_processing_a4/zcross',\n",
    " 'BEAM0110/rx_processing_a4/zcross0',\n",
    " 'BEAM0110/rx_processing_a4/zcross_amp',\n",
    " 'BEAM0110/rx_processing_a4/zcross_localenergy',\n",
    " 'BEAM0110/rx_processing_a5/ancillary/amp_thresh',\n",
    " 'BEAM0110/rx_processing_a5/ancillary/ampval_limit2',\n",
    " 'BEAM0110/rx_processing_a5/ancillary/ampval_limit3',\n",
    " 'BEAM0110/rx_processing_a5/ancillary/botlocdist_limit1',\n",
    " 'BEAM0110/rx_processing_a5/ancillary/botlocdist_limit2',\n",
    " 'BEAM0110/rx_processing_a5/ancillary/botlocdist_limit3',\n",
    " 'BEAM0110/rx_processing_a5/ancillary/cumulative_energy_minimum',\n",
    " 'BEAM0110/rx_processing_a5/ancillary/cumulative_energy_thresh',\n",
    " 'BEAM0110/rx_processing_a5/ancillary/enable_select_mode',\n",
    " 'BEAM0110/rx_processing_a5/ancillary/energy_thresh',\n",
    " 'BEAM0110/rx_processing_a5/ancillary/preprocessor_threshold',\n",
    " 'BEAM0110/rx_processing_a5/ancillary/pulse_sep_thresh',\n",
    " 'BEAM0110/rx_processing_a5/ancillary/rx_back_threshold',\n",
    " 'BEAM0110/rx_processing_a5/ancillary/rx_front_threshold',\n",
    " 'BEAM0110/rx_processing_a5/ancillary/rx_max_mode_count',\n",
    " 'BEAM0110/rx_processing_a5/ancillary/rx_searchsize',\n",
    " 'BEAM0110/rx_processing_a5/ancillary/rx_sentinel_location',\n",
    " 'BEAM0110/rx_processing_a5/ancillary/rx_smoothing_width_locs',\n",
    " 'BEAM0110/rx_processing_a5/ancillary/rx_smoothing_width_zcross',\n",
    " 'BEAM0110/rx_processing_a5/ancillary/rx_subbin_resolution',\n",
    " 'BEAM0110/rx_processing_a5/ancillary/rx_use_fixed_thresholds',\n",
    " 'BEAM0110/rx_processing_a5/back_threshold',\n",
    " 'BEAM0110/rx_processing_a5/botloc',\n",
    " 'BEAM0110/rx_processing_a5/botloc_amp',\n",
    " 'BEAM0110/rx_processing_a5/energy_sm',\n",
    " 'BEAM0110/rx_processing_a5/front_threshold',\n",
    " 'BEAM0110/rx_processing_a5/lastmodeenergy',\n",
    " 'BEAM0110/rx_processing_a5/mean',\n",
    " 'BEAM0110/rx_processing_a5/mean_sm',\n",
    " 'BEAM0110/rx_processing_a5/min_detection_energy',\n",
    " 'BEAM0110/rx_processing_a5/min_detection_threshold',\n",
    " 'BEAM0110/rx_processing_a5/peak',\n",
    " 'BEAM0110/rx_processing_a5/pk_sm',\n",
    " 'BEAM0110/rx_processing_a5/rx_algrunflag',\n",
    " 'BEAM0110/rx_processing_a5/rx_cumulative',\n",
    " 'BEAM0110/rx_processing_a5/rx_iwaveamps',\n",
    " 'BEAM0110/rx_processing_a5/rx_modeamps',\n",
    " 'BEAM0110/rx_processing_a5/rx_modeenergytobotloc',\n",
    " 'BEAM0110/rx_processing_a5/rx_modelocalenergy',\n",
    " 'BEAM0110/rx_processing_a5/rx_modelocalenergyabovemean',\n",
    " 'BEAM0110/rx_processing_a5/rx_modelocalslope',\n",
    " 'BEAM0110/rx_processing_a5/rx_modelocs',\n",
    " 'BEAM0110/rx_processing_a5/rx_modewidths',\n",
    " 'BEAM0110/rx_processing_a5/rx_nummodes',\n",
    " 'BEAM0110/rx_processing_a5/sd_sm',\n",
    " 'BEAM0110/rx_processing_a5/search_end',\n",
    " 'BEAM0110/rx_processing_a5/search_start',\n",
    " 'BEAM0110/rx_processing_a5/selected_mode',\n",
    " 'BEAM0110/rx_processing_a5/selected_mode_flag',\n",
    " 'BEAM0110/rx_processing_a5/smoothwidth',\n",
    " 'BEAM0110/rx_processing_a5/smoothwidth_zcross',\n",
    " 'BEAM0110/rx_processing_a5/stddev',\n",
    " 'BEAM0110/rx_processing_a5/toploc',\n",
    " 'BEAM0110/rx_processing_a5/toploc_miss',\n",
    " 'BEAM0110/rx_processing_a5/zcross',\n",
    " 'BEAM0110/rx_processing_a5/zcross0',\n",
    " 'BEAM0110/rx_processing_a5/zcross_amp',\n",
    " 'BEAM0110/rx_processing_a5/zcross_localenergy',\n",
    " 'BEAM0110/rx_processing_a6/ancillary/amp_thresh',\n",
    " 'BEAM0110/rx_processing_a6/ancillary/ampval_limit2',\n",
    " 'BEAM0110/rx_processing_a6/ancillary/ampval_limit3',\n",
    " 'BEAM0110/rx_processing_a6/ancillary/botlocdist_limit1',\n",
    " 'BEAM0110/rx_processing_a6/ancillary/botlocdist_limit2',\n",
    " 'BEAM0110/rx_processing_a6/ancillary/botlocdist_limit3',\n",
    " 'BEAM0110/rx_processing_a6/ancillary/cumulative_energy_minimum',\n",
    " 'BEAM0110/rx_processing_a6/ancillary/cumulative_energy_thresh',\n",
    " 'BEAM0110/rx_processing_a6/ancillary/enable_select_mode',\n",
    " 'BEAM0110/rx_processing_a6/ancillary/energy_thresh',\n",
    " 'BEAM0110/rx_processing_a6/ancillary/preprocessor_threshold',\n",
    " 'BEAM0110/rx_processing_a6/ancillary/pulse_sep_thresh',\n",
    " 'BEAM0110/rx_processing_a6/ancillary/rx_back_threshold',\n",
    " 'BEAM0110/rx_processing_a6/ancillary/rx_front_threshold',\n",
    " 'BEAM0110/rx_processing_a6/ancillary/rx_max_mode_count',\n",
    " 'BEAM0110/rx_processing_a6/ancillary/rx_searchsize',\n",
    " 'BEAM0110/rx_processing_a6/ancillary/rx_sentinel_location',\n",
    " 'BEAM0110/rx_processing_a6/ancillary/rx_smoothing_width_locs',\n",
    " 'BEAM0110/rx_processing_a6/ancillary/rx_smoothing_width_zcross',\n",
    " 'BEAM0110/rx_processing_a6/ancillary/rx_subbin_resolution',\n",
    " 'BEAM0110/rx_processing_a6/ancillary/rx_use_fixed_thresholds',\n",
    " 'BEAM0110/rx_processing_a6/back_threshold',\n",
    " 'BEAM0110/rx_processing_a6/botloc',\n",
    " 'BEAM0110/rx_processing_a6/botloc_amp',\n",
    " 'BEAM0110/rx_processing_a6/energy_sm',\n",
    " 'BEAM0110/rx_processing_a6/front_threshold',\n",
    " 'BEAM0110/rx_processing_a6/lastmodeenergy',\n",
    " 'BEAM0110/rx_processing_a6/mean',\n",
    " 'BEAM0110/rx_processing_a6/mean_sm',\n",
    " 'BEAM0110/rx_processing_a6/min_detection_energy',\n",
    " 'BEAM0110/rx_processing_a6/min_detection_threshold',\n",
    " 'BEAM0110/rx_processing_a6/peak',\n",
    " 'BEAM0110/rx_processing_a6/pk_sm',\n",
    " 'BEAM0110/rx_processing_a6/rx_algrunflag',\n",
    " 'BEAM0110/rx_processing_a6/rx_cumulative',\n",
    " 'BEAM0110/rx_processing_a6/rx_iwaveamps',\n",
    " 'BEAM0110/rx_processing_a6/rx_modeamps',\n",
    " 'BEAM0110/rx_processing_a6/rx_modeenergytobotloc',\n",
    " 'BEAM0110/rx_processing_a6/rx_modelocalenergy',\n",
    " 'BEAM0110/rx_processing_a6/rx_modelocalenergyabovemean',\n",
    " 'BEAM0110/rx_processing_a6/rx_modelocalslope',\n",
    " 'BEAM0110/rx_processing_a6/rx_modelocs',\n",
    " 'BEAM0110/rx_processing_a6/rx_modewidths',\n",
    " 'BEAM0110/rx_processing_a6/rx_nummodes',\n",
    " 'BEAM0110/rx_processing_a6/sd_sm',\n",
    " 'BEAM0110/rx_processing_a6/search_end',\n",
    " 'BEAM0110/rx_processing_a6/search_start',\n",
    " 'BEAM0110/rx_processing_a6/selected_mode',\n",
    " 'BEAM0110/rx_processing_a6/selected_mode_flag',\n",
    " 'BEAM0110/rx_processing_a6/smoothwidth',\n",
    " 'BEAM0110/rx_processing_a6/smoothwidth_zcross',\n",
    " 'BEAM0110/rx_processing_a6/stddev',\n",
    " 'BEAM0110/rx_processing_a6/toploc',\n",
    " 'BEAM0110/rx_processing_a6/toploc_miss',\n",
    " 'BEAM0110/rx_processing_a6/zcross',\n",
    " 'BEAM0110/rx_processing_a6/zcross0',\n",
    " 'BEAM0110/rx_processing_a6/zcross_amp',\n",
    " 'BEAM0110/rx_processing_a6/zcross_localenergy',\n",
    " 'BEAM0110/selected_algorithm',\n",
    " 'BEAM0110/selected_mode',\n",
    " 'BEAM0110/selected_mode_flag',\n",
    " 'BEAM0110/sensitivity',\n",
    " 'BEAM0110/shot_number',\n",
    " 'BEAM0110/solar_azimuth',\n",
    " 'BEAM0110/solar_elevation',\n",
    " 'BEAM0110/surface_flag']"
   ]
  },
  {
   "cell_type": "code",
   "execution_count": null,
   "id": "b43144e3-a691-426d-9a63-fe52e0930340",
   "metadata": {
    "tags": []
   },
   "outputs": [],
   "source": [
    "#List of GEDI Variables\n",
    "['BEAM0110/ancillary/l2a_alg_count',\n",
    " 'BEAM0110/beam',\n",
    " 'BEAM0110/channel',\n",
    " 'BEAM0110/degrade_flag',\n",
    " 'BEAM0110/delta_time',\n",
    " 'BEAM0110/digital_elevation_model',\n",
    " 'BEAM0110/digital_elevation_model_srtm',\n",
    " 'BEAM0110/elev_highestreturn',\n",
    " 'BEAM0110/elev_lowestmode',\n",
    " 'BEAM0110/elevation_bias_flag',\n",
    " 'BEAM0110/elevation_bin0_error',\n",
    " 'BEAM0110/energy_total',\n",
    " 'BEAM0110/geolocation/elevation_1gfit',\n",
    " 'BEAM0110/geolocation/latitude_1gfit',\n",
    " 'BEAM0110/geolocation/longitude_1gfit',\n",
    " 'BEAM0110/geolocation/stale_return_flag',\n",
    " 'BEAM0110/land_cover_data/landsat_treecover',\n",
    " 'BEAM0110/land_cover_data/landsat_water_persistence',\n",
    " 'BEAM0110/land_cover_data/leaf_off_doy',\n",
    " 'BEAM0110/land_cover_data/leaf_off_flag',\n",
    " 'BEAM0110/land_cover_data/leaf_on_cycle',\n",
    " 'BEAM0110/land_cover_data/leaf_on_doy',\n",
    " 'BEAM0110/land_cover_data/modis_nonvegetated',\n",
    " 'BEAM0110/land_cover_data/modis_nonvegetated_sd',\n",
    " 'BEAM0110/land_cover_data/modis_treecover',\n",
    " 'BEAM0110/land_cover_data/modis_treecover_sd',\n",
    " 'BEAM0110/land_cover_data/pft_class',\n",
    " 'BEAM0110/land_cover_data/region_class',\n",
    " 'BEAM0110/land_cover_data/urban_focal_window_size',\n",
    " 'BEAM0110/land_cover_data/urban_proportion',\n",
    " 'BEAM0110/lat_highestreturn',\n",
    " 'BEAM0110/lat_lowestmode',\n",
    " 'BEAM0110/latitude_bin0_error',\n",
    " 'BEAM0110/lon_highestreturn',\n",
    " 'BEAM0110/lon_lowestmode',\n",
    " 'BEAM0110/longitude_bin0_error',\n",
    " 'BEAM0110/master_frac',\n",
    " 'BEAM0110/master_int',\n",
    " 'BEAM0110/mean_sea_surface',\n",
    " 'BEAM0110/num_detectedmodes',\n",
    " 'BEAM0110/quality_flag',\n",
    " 'BEAM0110/rh',\n",
    " 'BEAM0110/rx_1gaussfit/ancillary/mpfit_max_func_evals',\n",
    " 'BEAM0110/rx_1gaussfit/ancillary/mpfit_maxiters',\n",
    " 'BEAM0110/rx_1gaussfit/ancillary/mpfit_tolerance',\n",
    " 'BEAM0110/rx_1gaussfit/ancillary/rx_constraint_gamplitude_lower',\n",
    " 'BEAM0110/rx_1gaussfit/ancillary/rx_constraint_gamplitude_upper',\n",
    " 'BEAM0110/rx_1gaussfit/ancillary/rx_constraint_gloc_lower',\n",
    " 'BEAM0110/rx_1gaussfit/ancillary/rx_constraint_gloc_upper',\n",
    " 'BEAM0110/rx_1gaussfit/ancillary/rx_constraint_gwidth_lower',\n",
    " 'BEAM0110/rx_1gaussfit/ancillary/rx_constraint_gwidth_upper',\n",
    " 'BEAM0110/rx_1gaussfit/ancillary/rx_estimate_bias',\n",
    " 'BEAM0110/rx_1gaussfit/ancillary/rx_mean_noise_level',\n",
    " 'BEAM0110/rx_1gaussfit/ancillary/rx_smoothwidth',\n",
    " 'BEAM0110/rx_1gaussfit/rx_gamplitude',\n",
    " 'BEAM0110/rx_1gaussfit/rx_gamplitude_error',\n",
    " 'BEAM0110/rx_1gaussfit/rx_gbias',\n",
    " 'BEAM0110/rx_1gaussfit/rx_gbias_error',\n",
    " 'BEAM0110/rx_1gaussfit/rx_gchisq',\n",
    " 'BEAM0110/rx_1gaussfit/rx_gflag',\n",
    " 'BEAM0110/rx_1gaussfit/rx_giters',\n",
    " 'BEAM0110/rx_1gaussfit/rx_gloc',\n",
    " 'BEAM0110/rx_1gaussfit/rx_gloc_error',\n",
    " 'BEAM0110/rx_1gaussfit/rx_gwidth',\n",
    " 'BEAM0110/rx_1gaussfit/rx_gwidth_error',\n",
    " 'BEAM0110/rx_assess/ancillary/rx_ampbounds_ll',\n",
    " 'BEAM0110/rx_assess/ancillary/rx_ampbounds_ul',\n",
    " 'BEAM0110/rx_assess/ancillary/rx_clipamp',\n",
    " 'BEAM0110/rx_assess/ancillary/rx_pulsethresh',\n",
    " 'BEAM0110/rx_assess/ancillary/rx_ringthresh',\n",
    " 'BEAM0110/rx_assess/ancillary/smoothing_width_locs',\n",
    " 'BEAM0110/rx_assess/mean',\n",
    " 'BEAM0110/rx_assess/mean_64kadjusted',\n",
    " 'BEAM0110/rx_assess/ocean_calibration_shot_flag',\n",
    " 'BEAM0110/rx_assess/quality_flag',\n",
    " 'BEAM0110/rx_assess/rx_assess_flag',\n",
    " 'BEAM0110/rx_assess/rx_clipbin0',\n",
    " 'BEAM0110/rx_assess/rx_clipbin_count',\n",
    " 'BEAM0110/rx_assess/rx_energy',\n",
    " 'BEAM0110/rx_assess/rx_maxamp',\n",
    " 'BEAM0110/rx_assess/rx_maxpeakloc',\n",
    " 'BEAM0110/rx_assess/sd_corrected', \n",
    " 'BEAM0110/selected_algorithm',\n",
    " 'BEAM0110/selected_mode',\n",
    " 'BEAM0110/selected_mode_flag',\n",
    " 'BEAM0110/sensitivity',\n",
    " 'BEAM0110/shot_number',\n",
    " 'BEAM0110/solar_azimuth',\n",
    " 'BEAM0110/solar_elevation',\n",
    " 'BEAM0110/surface_flag']"
   ]
  },
  {
   "cell_type": "code",
   "execution_count": null,
   "id": "a1184266-5a75-4eab-af71-517525f71db5",
   "metadata": {},
   "outputs": [],
   "source": [
    "# noise_std = sd_corrected\n",
    "# num_detectedmodes\n",
    "# rx_maxamp\n",
    "# toploc  = /rx_processing_a1/toploc\n",
    "# botloc = /rx_processing_a1/botloc"
   ]
  },
  {
   "cell_type": "code",
   "execution_count": 6,
   "id": "aecd4a22-f2f7-41f3-955b-23a69a73247f",
   "metadata": {},
   "outputs": [
    {
     "name": "stdout",
     "output_type": "stream",
     "text": [
      "2020.11.02\n",
      "Poor Quality Data, Skip..\n",
      "2020.11.02\n"
     ]
    },
    {
     "name": "stderr",
     "output_type": "stream",
     "text": [
      "/opt/conda/envs/geolib/lib/python3.9/site-packages/pandas/core/dtypes/cast.py:127: ShapelyDeprecationWarning: The array interface is deprecated and will no longer work in Shapely 2.0. Convert the '.coords' to a numpy array instead.\n",
      "  arr = construct_1d_object_array_from_listlike(values)\n"
     ]
    },
    {
     "name": "stdout",
     "output_type": "stream",
     "text": [
      "gcs/biomass-estimation-project/vm-backup/GEDI_L2/Filter_2020-2021_train//2020.11.02_GEDI02_A_2020307163618_O10717_02_T08285_02_003_02_V002.gpkg\n"
     ]
    },
    {
     "name": "stderr",
     "output_type": "stream",
     "text": [
      "ERROR 1: PROJ: proj_create_from_database: Open of /opt/conda/envs/geolib/share/proj failed\n"
     ]
    },
    {
     "name": "stdout",
     "output_type": "stream",
     "text": [
      "2020.11.03\n",
      "Poor Quality Data, Skip..\n",
      "2020.11.03\n"
     ]
    },
    {
     "name": "stderr",
     "output_type": "stream",
     "text": [
      "/opt/conda/envs/geolib/lib/python3.9/site-packages/pandas/core/dtypes/cast.py:127: ShapelyDeprecationWarning: The array interface is deprecated and will no longer work in Shapely 2.0. Convert the '.coords' to a numpy array instead.\n",
      "  arr = construct_1d_object_array_from_listlike(values)\n"
     ]
    },
    {
     "name": "stdout",
     "output_type": "stream",
     "text": [
      "gcs/biomass-estimation-project/vm-backup/GEDI_L2/Filter_2020-2021_train//2020.11.03_GEDI02_A_2020308154929_O10732_02_T06112_02_003_02_V002.gpkg\n",
      "2020.11.04\n",
      "Poor Quality Data, Skip..\n",
      "2020.11.04\n"
     ]
    },
    {
     "name": "stderr",
     "output_type": "stream",
     "text": [
      "/opt/conda/envs/geolib/lib/python3.9/site-packages/pandas/core/dtypes/cast.py:127: ShapelyDeprecationWarning: The array interface is deprecated and will no longer work in Shapely 2.0. Convert the '.coords' to a numpy array instead.\n",
      "  arr = construct_1d_object_array_from_listlike(values)\n"
     ]
    },
    {
     "name": "stdout",
     "output_type": "stream",
     "text": [
      "gcs/biomass-estimation-project/vm-backup/GEDI_L2/Filter_2020-2021_train//2020.11.04_GEDI02_A_2020309150240_O10747_02_T11207_02_003_02_V002.gpkg\n",
      "2020.11.06\n"
     ]
    },
    {
     "ename": "KeyboardInterrupt",
     "evalue": "",
     "output_type": "error",
     "traceback": [
      "\u001b[0;31m---------------------------------------------------------------------------\u001b[0m",
      "\u001b[0;31mKeyboardInterrupt\u001b[0m                         Traceback (most recent call last)",
      "Cell \u001b[0;32mIn [6], line 5\u001b[0m\n\u001b[1;32m      3\u001b[0m gediL2A \u001b[38;5;241m=\u001b[39m h5py\u001b[38;5;241m.\u001b[39mFile(data, \u001b[38;5;124m'\u001b[39m\u001b[38;5;124mr\u001b[39m\u001b[38;5;124m'\u001b[39m)  \u001b[38;5;66;03m# Read file using h5py\u001b[39;00m\n\u001b[1;32m      4\u001b[0m gediL2A_objs \u001b[38;5;241m=\u001b[39m []\n\u001b[0;32m----> 5\u001b[0m \u001b[43mgediL2A\u001b[49m\u001b[38;5;241;43m.\u001b[39;49m\u001b[43mvisit\u001b[49m\u001b[43m(\u001b[49m\u001b[43mgediL2A_objs\u001b[49m\u001b[38;5;241;43m.\u001b[39;49m\u001b[43mappend\u001b[49m\u001b[43m)\u001b[49m                                           \u001b[38;5;66;03m# Retrieve list of datasets\u001b[39;00m\n\u001b[1;32m      6\u001b[0m gediSDS \u001b[38;5;241m=\u001b[39m [o \u001b[38;5;28;01mfor\u001b[39;00m o \u001b[38;5;129;01min\u001b[39;00m gediL2A_objs \u001b[38;5;28;01mif\u001b[39;00m \u001b[38;5;28misinstance\u001b[39m(gediL2A[o], h5py\u001b[38;5;241m.\u001b[39mDataset)]  \u001b[38;5;66;03m# Search for relevant SDS inside data file\u001b[39;00m\n\u001b[1;32m      7\u001b[0m \u001b[38;5;66;03m#rayong = gp.GeoDataFrame.from_file('GEDI-v2-Tutorial_L2/boundary_47PQQ_latlon.geojson')  # Import GeoJSON as GeoDataFrame\u001b[39;00m\n",
      "File \u001b[0;32m/opt/conda/envs/geolib/lib/python3.9/site-packages/h5py/_hl/group.py:605\u001b[0m, in \u001b[0;36mGroup.visit\u001b[0;34m(self, func)\u001b[0m\n\u001b[1;32m    603\u001b[0m     \u001b[38;5;124;03m\"\"\" Call the function with the text name, not bytes \"\"\"\u001b[39;00m\n\u001b[1;32m    604\u001b[0m     \u001b[38;5;28;01mreturn\u001b[39;00m func(\u001b[38;5;28mself\u001b[39m\u001b[38;5;241m.\u001b[39m_d(name))\n\u001b[0;32m--> 605\u001b[0m \u001b[38;5;28;01mreturn\u001b[39;00m \u001b[43mh5o\u001b[49m\u001b[38;5;241;43m.\u001b[39;49m\u001b[43mvisit\u001b[49m\u001b[43m(\u001b[49m\u001b[38;5;28;43mself\u001b[39;49m\u001b[38;5;241;43m.\u001b[39;49m\u001b[43mid\u001b[49m\u001b[43m,\u001b[49m\u001b[43m \u001b[49m\u001b[43mproxy\u001b[49m\u001b[43m)\u001b[49m\n",
      "File \u001b[0;32mh5py/_objects.pyx:54\u001b[0m, in \u001b[0;36mh5py._objects.with_phil.wrapper\u001b[0;34m()\u001b[0m\n",
      "File \u001b[0;32mh5py/_objects.pyx:55\u001b[0m, in \u001b[0;36mh5py._objects.with_phil.wrapper\u001b[0;34m()\u001b[0m\n",
      "File \u001b[0;32mh5py/h5o.pyx:355\u001b[0m, in \u001b[0;36mh5py.h5o.visit\u001b[0;34m()\u001b[0m\n",
      "File \u001b[0;32mh5py/defs.pyx:1680\u001b[0m, in \u001b[0;36mh5py.defs.H5Ovisit_by_name\u001b[0;34m()\u001b[0m\n",
      "File \u001b[0;32mh5py/_errors.pyx:152\u001b[0m, in \u001b[0;36mh5py._errors.set_exception\u001b[0;34m()\u001b[0m\n",
      "File \u001b[0;32m/opt/conda/envs/geolib/lib/python3.9/re.py:198\u001b[0m, in \u001b[0;36msearch\u001b[0;34m(pattern, string, flags)\u001b[0m\n\u001b[1;32m    194\u001b[0m     \u001b[38;5;124;03m\"\"\"Try to apply the pattern to all of the string, returning\u001b[39;00m\n\u001b[1;32m    195\u001b[0m \u001b[38;5;124;03m    a Match object, or None if no match was found.\"\"\"\u001b[39;00m\n\u001b[1;32m    196\u001b[0m     \u001b[38;5;28;01mreturn\u001b[39;00m _compile(pattern, flags)\u001b[38;5;241m.\u001b[39mfullmatch(string)\n\u001b[0;32m--> 198\u001b[0m \u001b[38;5;28;01mdef\u001b[39;00m \u001b[38;5;21msearch\u001b[39m(pattern, string, flags\u001b[38;5;241m=\u001b[39m\u001b[38;5;241m0\u001b[39m):\n\u001b[1;32m    199\u001b[0m     \u001b[38;5;124;03m\"\"\"Scan through string looking for a match to the pattern, returning\u001b[39;00m\n\u001b[1;32m    200\u001b[0m \u001b[38;5;124;03m    a Match object, or None if no match was found.\"\"\"\u001b[39;00m\n\u001b[1;32m    201\u001b[0m     \u001b[38;5;28;01mreturn\u001b[39;00m _compile(pattern, flags)\u001b[38;5;241m.\u001b[39msearch(string)\n",
      "\u001b[0;31mKeyboardInterrupt\u001b[0m: "
     ]
    }
   ],
   "source": [
    "for data in data_list:\n",
    "    print(data.split('/')[-2])\n",
    "    gediL2A = h5py.File(data, 'r')  # Read file using h5py\n",
    "    gediL2A_objs = []\n",
    "    gediL2A.visit(gediL2A_objs.append)                                           # Retrieve list of datasets\n",
    "    gediSDS = [o for o in gediL2A_objs if isinstance(gediL2A[o], h5py.Dataset)]  # Search for relevant SDS inside data file\n",
    "    #rayong = gp.GeoDataFrame.from_file('GEDI-v2-Tutorial_L2/boundary_47PQQ_latlon.geojson')  # Import GeoJSON as GeoDataFrame\n",
    "    beamNames = [g for g in gediL2A.keys() if g.startswith('BEAM')]\n",
    "    # Set up lists to store data\n",
    "    shotNum, dem, zElevation, zHigh, zLat, zLon, rh0, rh10, rh20, rh30, rh40, rh50, rh60, rh70, rh80, rh90, rh95, rh98, rh100 ,quality ,degrade, sensitivity ,beamI ,selected_algorithm, num_detectedmodes ,noise_std , max_amp , toploc_a1 , botloc_a1= ([] for i in range(29))  \n",
    "    # Loop through each beam and open the SDS needed\n",
    "    for b in beamNames:\n",
    "        [shotNum.append(h) for h in gediL2A[[g for g in gediSDS if g.endswith('/shot_number') and b in g][0]][()]]\n",
    "        [dem.append(h) for h in gediL2A[[g for g in gediSDS if g.endswith('/digital_elevation_model') and b in g][0]][()]]\n",
    "        [zElevation.append(h) for h in gediL2A[[g for g in gediSDS if g.endswith('/elev_lowestmode') and b in g][0]][()]]  \n",
    "        [zHigh.append(h) for h in gediL2A[[g for g in gediSDS if g.endswith('/elev_highestreturn') and b in g][0]][()]]  \n",
    "        [zLat.append(h) for h in gediL2A[[g for g in gediSDS if g.endswith('/lat_lowestmode') and b in g][0]][()]]  \n",
    "        [zLon.append(h) for h in gediL2A[[g for g in gediSDS if g.endswith('/lon_lowestmode') and b in g][0]][()]]\n",
    "\n",
    "        [rh0.append(h[0]) for h in gediL2A[[g for g in gediSDS if g.endswith('/rh') and b in g][0]][()]] \n",
    "        [rh10.append(h[10]) for h in gediL2A[[g for g in gediSDS if g.endswith('/rh') and b in g][0]][()]] \n",
    "        [rh20.append(h[20]) for h in gediL2A[[g for g in gediSDS if g.endswith('/rh') and b in g][0]][()]]\n",
    "        [rh30.append(h[30]) for h in gediL2A[[g for g in gediSDS if g.endswith('/rh') and b in g][0]][()]]\n",
    "        [rh40.append(h[40]) for h in gediL2A[[g for g in gediSDS if g.endswith('/rh') and b in g][0]][()]]\n",
    "        [rh50.append(h[50]) for h in gediL2A[[g for g in gediSDS if g.endswith('/rh') and b in g][0]][()]]\n",
    "        [rh60.append(h[60]) for h in gediL2A[[g for g in gediSDS if g.endswith('/rh') and b in g][0]][()]]\n",
    "        [rh70.append(h[70]) for h in gediL2A[[g for g in gediSDS if g.endswith('/rh') and b in g][0]][()]]\n",
    "        [rh80.append(h[80]) for h in gediL2A[[g for g in gediSDS if g.endswith('/rh') and b in g][0]][()]]\n",
    "        [rh90.append(h[90]) for h in gediL2A[[g for g in gediSDS if g.endswith('/rh') and b in g][0]][()]]\n",
    "        [rh95.append(h[95]) for h in gediL2A[[g for g in gediSDS if g.endswith('/rh') and b in g][0]][()]]\n",
    "        [rh98.append(h[98]) for h in gediL2A[[g for g in gediSDS if g.endswith('/rh') and b in g][0]][()]]\n",
    "        [rh100.append(h[100]) for h in gediL2A[[g for g in gediSDS if g.endswith('/rh') and b in g][0]][()]]  \n",
    "\n",
    "        [quality.append(h) for h in gediL2A[[g for g in gediSDS if g.endswith('/quality_flag') and b in g][0]][()]]  \n",
    "        [degrade.append(h) for h in gediL2A[[g for g in gediSDS if g.endswith('/degrade_flag') and b in g][0]][()]]  \n",
    "        [sensitivity.append(h) for h in gediL2A[[g for g in gediSDS if g.endswith('/sensitivity') and b in g][0]][()]]  \n",
    "        [beamI.append(h) for h in [b] * len(gediL2A[[g for g in gediSDS if g.endswith('/shot_number') and b in g][0]][()])]  \n",
    "\n",
    "        [selected_algorithm.append(h) for h in gediL2A[[g for g in gediSDS if g.endswith('/selected_algorithm') and b in g][0]][()]]\n",
    "        [num_detectedmodes.append(h) for h in gediL2A[[g for g in gediSDS if g.endswith('/num_detectedmodes') and b in g][0]][()]]\n",
    "        [noise_std.append(h) for h in gediL2A[[g for g in gediSDS if g.endswith('/sd_corrected') and b in g][0]][()]]\n",
    "        [max_amp.append(h) for h in gediL2A[[g for g in gediSDS if g.endswith('/rx_maxamp') and b in g][0]][()]]\n",
    "        [toploc_a1.append(h) for h in gediL2A[[g for g in gediSDS if g.endswith('/rx_processing_a1/toploc') and b in g][0]][()]]\n",
    "        [botloc_a1.append(h) for h in gediL2A[[g for g in gediSDS if g.endswith('/rx_processing_a1/botloc') and b in g][0]][()]]\n",
    "\n",
    "\n",
    "    # Convert lists to Pandas dataframe\n",
    "    allDF = pd.DataFrame({'Shot_Number': shotNum, 'Beam': beamI, 'Latitude': zLat, 'Longitude': zLon, 'Tandem-X DEM': dem,\n",
    "                          'Elevation': zElevation, 'CanopyElev': zHigh, 'CH(rh95)': rh95, \n",
    "                          'RH_0': rh0,'RH_10': rh10,'RH_20': rh20,'RH_30': rh30,'RH_40': rh40,'RH_50': rh50,\n",
    "                          'RH_60': rh60,'RH_70': rh70,'RH_80': rh80,'RH_90': rh90,'RH_95': rh95,'RH_98': rh98,'RH_100': rh100,\n",
    "                          'Quali_Flag': quality, 'DegradeFlag': degrade, 'Sensitivity': sensitivity,\n",
    "                          'Algorithm':selected_algorithm , 'Num_modes':num_detectedmodes , 'Noise_std':noise_std,\n",
    "                          'Max_Amp': max_amp , 'toploc_a1':toploc_a1 , 'botloc_a1':botloc_a1})\n",
    "    del shotNum, dem, zElevation, zHigh, zLat, zLon, rh0, rh10, rh20, rh30, rh40, rh50, rh60, rh70, rh80, rh90, rh95, rh98, rh100 ,quality ,degrade, sensitivity ,beamI ,selected_algorithm, num_detectedmodes ,noise_std , max_amp , toploc_a1 , botloc_a1\n",
    "    minLon, minLat, maxLon, maxLat = 97.34234783076207, 5.612772227926997, 105.63631868010533, 20.466032270006234  # Define the min/max lat/lon from the bounds\n",
    "    allDF = allDF.where(allDF['Latitude'] > minLat)\n",
    "    allDF = allDF.where(allDF['Latitude'] < maxLat)\n",
    "    allDF = allDF.where(allDF['Longitude'] > minLon)\n",
    "    allDF = allDF.where(allDF['Longitude'] < maxLon)\n",
    "    allDF = allDF.dropna()  # Drop shots outside of the ROI\n",
    "\n",
    "    allDF['NoiseRatio'] = allDF['Max_Amp'] / allDF['Noise_std']\n",
    "\n",
    "    # Set any poor quality returns to NaN\n",
    "    # Keep good value\n",
    "    allDF = allDF.where(allDF['Quali_Flag'].ne(0))\n",
    "    allDF = allDF.where(allDF['DegradeFlag'] < 1) \n",
    "    allDF = allDF.where(allDF['Sensitivity'] > 0.95)\n",
    "    allDF = allDF.where(allDF['NoiseRatio'] > 30)\n",
    "    allDF = allDF.where(pd.notnull(allDF['toploc_a1']))\n",
    "    allDF = allDF.where(pd.notnull(allDF['botloc_a1']))\n",
    "    allDF = allDF.where(pd.notnull(allDF['Num_modes']))\n",
    "    allDF = allDF.where(pd.notnull(allDF['RH_100']))\n",
    "    allDF = allDF.dropna()\n",
    "    \n",
    "    if (len(allDF) == 0):\n",
    "        print('Poor Quality Data, Skip..')\n",
    "        continue\n",
    "    \n",
    "    # Take the lat/lon dataframe and convert each lat/lon to a shapely point\n",
    "    allDF['geometry'] = allDF.apply(lambda row: Point(row.Longitude, row.Latitude), axis=1)\n",
    "    # Convert to geodataframe\n",
    "    allDF = gpd.GeoDataFrame(allDF)\n",
    "    #allDF = allDF.drop(columns=['Latitude','Longitude'])\n",
    "    outName = data.split('/')[-2]+'_'+data.split('/')[-1].replace('.h5','.gpkg')  # Create an output file name using the input file name\n",
    "    outputdir = 'gcs/biomass-estimation-project/vm-backup/GEDI_L2/Filter_2020-2021_train/'\n",
    "    if not os.path.exists(outputdir):\n",
    "        os.makedirs(outputdir)\n",
    "    print(outputdir+'/'+outName)\n",
    "    allDF.to_file(os.path.join(outputdir,outName), driver=\"GPKG\")  # Export to Geopackage\n"
   ]
  },
  {
   "cell_type": "markdown",
   "id": "7aa1307f-0d71-4781-9319-2d6827327813",
   "metadata": {},
   "source": [
    "# Create Yearly GEDI shapefile"
   ]
  },
  {
   "cell_type": "code",
   "execution_count": 15,
   "id": "79458df1-f957-4028-ab7f-2c6f77c55b6a",
   "metadata": {},
   "outputs": [],
   "source": [
    "root_path = 'gcs/biomass-estimation-project/vm-backup/GEDI_L2/Filter_2020-2021_train'"
   ]
  },
  {
   "cell_type": "code",
   "execution_count": 20,
   "id": "6363cc9c-a2b9-498c-b340-bd6c881f5bd4",
   "metadata": {},
   "outputs": [],
   "source": [
    "import shutil"
   ]
  },
  {
   "cell_type": "code",
   "execution_count": 16,
   "id": "1d948110-8037-4f49-80b9-8e06d1ef149a",
   "metadata": {},
   "outputs": [],
   "source": [
    "file_list = os.listdir(root_path)"
   ]
  },
  {
   "cell_type": "code",
   "execution_count": 7,
   "id": "ad7a6c13-5ac2-4c4c-9cbe-9b07714d287d",
   "metadata": {
    "collapsed": true,
    "jupyter": {
     "outputs_hidden": true
    },
    "tags": []
   },
   "outputs": [
    {
     "name": "stdout",
     "output_type": "stream",
     "text": [
      "2020.11.02_GEDI02_A_2020307163618_O10717_02_T08285_02_003_02_V002.json\n"
     ]
    },
    {
     "name": "stderr",
     "output_type": "stream",
     "text": [
      "ERROR 1: PROJ: proj_create_from_database: Open of /opt/conda/envs/geolib/share/proj failed\n"
     ]
    },
    {
     "name": "stdout",
     "output_type": "stream",
     "text": [
      "2020.11.03_GEDI02_A_2020308154929_O10732_02_T06112_02_003_02_V002.json\n"
     ]
    },
    {
     "name": "stderr",
     "output_type": "stream",
     "text": [
      "/tmp/ipykernel_589681/104254519.py:12: FutureWarning: The frame.append method is deprecated and will be removed from pandas in a future version. Use pandas.concat instead.\n",
      "  alldf = alldf.append(df)\n",
      "/tmp/ipykernel_589681/104254519.py:12: FutureWarning: The frame.append method is deprecated and will be removed from pandas in a future version. Use pandas.concat instead.\n",
      "  alldf = alldf.append(df)\n"
     ]
    },
    {
     "name": "stdout",
     "output_type": "stream",
     "text": [
      "2020.11.04_GEDI02_A_2020309150240_O10747_02_T11207_02_003_02_V002.json\n",
      "2020.11.06_GEDI02_A_2020311150155_O10778_02_T06862_02_003_02_V002.json\n"
     ]
    },
    {
     "name": "stderr",
     "output_type": "stream",
     "text": [
      "/tmp/ipykernel_589681/104254519.py:12: FutureWarning: The frame.append method is deprecated and will be removed from pandas in a future version. Use pandas.concat instead.\n",
      "  alldf = alldf.append(df)\n"
     ]
    },
    {
     "name": "stdout",
     "output_type": "stream",
     "text": [
      "2020.11.07_GEDI02_A_2020312141505_O10793_02_T10534_02_003_02_V002.json\n"
     ]
    },
    {
     "name": "stderr",
     "output_type": "stream",
     "text": [
      "/tmp/ipykernel_589681/104254519.py:12: FutureWarning: The frame.append method is deprecated and will be removed from pandas in a future version. Use pandas.concat instead.\n",
      "  alldf = alldf.append(df)\n"
     ]
    },
    {
     "name": "stdout",
     "output_type": "stream",
     "text": [
      "2020.11.08_GEDI02_A_2020313132816_O10808_02_T06938_02_003_02_V002.json\n"
     ]
    },
    {
     "name": "stderr",
     "output_type": "stream",
     "text": [
      "/tmp/ipykernel_589681/104254519.py:12: FutureWarning: The frame.append method is deprecated and will be removed from pandas in a future version. Use pandas.concat instead.\n",
      "  alldf = alldf.append(df)\n"
     ]
    },
    {
     "name": "stdout",
     "output_type": "stream",
     "text": [
      "2020.11.10_GEDI02_A_2020315132729_O10839_02_T08438_02_003_02_V002.json\n"
     ]
    },
    {
     "name": "stderr",
     "output_type": "stream",
     "text": [
      "/tmp/ipykernel_589681/104254519.py:12: FutureWarning: The frame.append method is deprecated and will be removed from pandas in a future version. Use pandas.concat instead.\n",
      "  alldf = alldf.append(df)\n"
     ]
    },
    {
     "name": "stdout",
     "output_type": "stream",
     "text": [
      "2020.11.11_GEDI02_A_2020316124038_O10854_02_T10687_02_003_02_V002.json\n"
     ]
    },
    {
     "name": "stderr",
     "output_type": "stream",
     "text": [
      "/tmp/ipykernel_589681/104254519.py:12: FutureWarning: The frame.append method is deprecated and will be removed from pandas in a future version. Use pandas.concat instead.\n",
      "  alldf = alldf.append(df)\n"
     ]
    },
    {
     "name": "stdout",
     "output_type": "stream",
     "text": [
      "2020.11.12_GEDI02_A_2020317115348_O10869_02_T07091_02_003_02_V002.json\n"
     ]
    },
    {
     "name": "stderr",
     "output_type": "stream",
     "text": [
      "/tmp/ipykernel_589681/104254519.py:12: FutureWarning: The frame.append method is deprecated and will be removed from pandas in a future version. Use pandas.concat instead.\n",
      "  alldf = alldf.append(df)\n"
     ]
    },
    {
     "name": "stdout",
     "output_type": "stream",
     "text": [
      "2020.11.14_GEDI02_A_2020319115335_O10900_02_T09861_02_003_02_V002.json\n"
     ]
    },
    {
     "name": "stderr",
     "output_type": "stream",
     "text": [
      "/tmp/ipykernel_589681/104254519.py:12: FutureWarning: The frame.append method is deprecated and will be removed from pandas in a future version. Use pandas.concat instead.\n",
      "  alldf = alldf.append(df)\n"
     ]
    },
    {
     "name": "stdout",
     "output_type": "stream",
     "text": [
      "2020.11.17_GEDI02_A_2020322202422_O10952_03_T06042_02_003_02_V002.json\n"
     ]
    },
    {
     "name": "stderr",
     "output_type": "stream",
     "text": [
      "/tmp/ipykernel_589681/104254519.py:12: FutureWarning: The frame.append method is deprecated and will be removed from pandas in a future version. Use pandas.concat instead.\n",
      "  alldf = alldf.append(df)\n"
     ]
    },
    {
     "name": "stdout",
     "output_type": "stream",
     "text": [
      "2020.11.18_GEDI02_A_2020323193751_O10967_03_T09561_02_003_02_V002.json\n"
     ]
    },
    {
     "name": "stderr",
     "output_type": "stream",
     "text": [
      "/tmp/ipykernel_589681/104254519.py:12: FutureWarning: The frame.append method is deprecated and will be removed from pandas in a future version. Use pandas.concat instead.\n",
      "  alldf = alldf.append(df)\n"
     ]
    },
    {
     "name": "stdout",
     "output_type": "stream",
     "text": [
      "2020.11.20_GEDI02_A_2020325084728_O10991_02_T11360_02_003_02_V002.json\n"
     ]
    },
    {
     "name": "stderr",
     "output_type": "stream",
     "text": [
      "/tmp/ipykernel_589681/104254519.py:12: FutureWarning: The frame.append method is deprecated and will be removed from pandas in a future version. Use pandas.concat instead.\n",
      "  alldf = alldf.append(df)\n",
      "/tmp/ipykernel_589681/104254519.py:12: FutureWarning: The frame.append method is deprecated and will be removed from pandas in a future version. Use pandas.concat instead.\n",
      "  alldf = alldf.append(df)\n"
     ]
    },
    {
     "name": "stdout",
     "output_type": "stream",
     "text": [
      "2020.11.21_GEDI02_A_2020326185117_O11013_03_T07465_02_003_02_V002.json\n",
      "2020.11.22_GEDI02_A_2020327084723_O11022_02_T11284_02_003_02_V002.json\n"
     ]
    },
    {
     "name": "stderr",
     "output_type": "stream",
     "text": [
      "/tmp/ipykernel_589681/104254519.py:12: FutureWarning: The frame.append method is deprecated and will be removed from pandas in a future version. Use pandas.concat instead.\n",
      "  alldf = alldf.append(df)\n"
     ]
    },
    {
     "name": "stdout",
     "output_type": "stream",
     "text": [
      "2020.11.22_GEDI02_A_2020327180447_O11028_03_T08138_02_003_02_V002.json\n"
     ]
    },
    {
     "name": "stderr",
     "output_type": "stream",
     "text": [
      "/tmp/ipykernel_589681/104254519.py:12: FutureWarning: The frame.append method is deprecated and will be removed from pandas in a future version. Use pandas.concat instead.\n",
      "  alldf = alldf.append(df)\n"
     ]
    },
    {
     "name": "stdout",
     "output_type": "stream",
     "text": [
      "2020.11.23_GEDI02_A_2020328080053_O11037_02_T06265_02_003_02_V002.json\n"
     ]
    },
    {
     "name": "stderr",
     "output_type": "stream",
     "text": [
      "/tmp/ipykernel_589681/104254519.py:12: FutureWarning: The frame.append method is deprecated and will be removed from pandas in a future version. Use pandas.concat instead.\n",
      "  alldf = alldf.append(df)\n"
     ]
    },
    {
     "name": "stdout",
     "output_type": "stream",
     "text": [
      "2020.11.23_GEDI02_A_2020328171817_O11043_03_T05965_02_003_02_V002.json\n"
     ]
    },
    {
     "name": "stderr",
     "output_type": "stream",
     "text": [
      "/tmp/ipykernel_589681/104254519.py:12: FutureWarning: The frame.append method is deprecated and will be removed from pandas in a future version. Use pandas.concat instead.\n",
      "  alldf = alldf.append(df)\n"
     ]
    },
    {
     "name": "stdout",
     "output_type": "stream",
     "text": [
      "2020.11.24_GEDI02_A_2020329071422_O11052_02_T09784_02_003_02_V002.json\n"
     ]
    },
    {
     "name": "stderr",
     "output_type": "stream",
     "text": [
      "/tmp/ipykernel_589681/104254519.py:12: FutureWarning: The frame.append method is deprecated and will be removed from pandas in a future version. Use pandas.concat instead.\n",
      "  alldf = alldf.append(df)\n"
     ]
    },
    {
     "name": "stdout",
     "output_type": "stream",
     "text": [
      "2020.11.25_GEDI02_A_2020330171806_O11074_03_T08735_02_003_02_V002.json\n"
     ]
    },
    {
     "name": "stderr",
     "output_type": "stream",
     "text": [
      "/tmp/ipykernel_589681/104254519.py:12: FutureWarning: The frame.append method is deprecated and will be removed from pandas in a future version. Use pandas.concat instead.\n",
      "  alldf = alldf.append(df)\n"
     ]
    },
    {
     "name": "stdout",
     "output_type": "stream",
     "text": [
      "2020.11.26_GEDI02_A_2020331071411_O11083_02_T09708_02_003_02_V002.json\n"
     ]
    },
    {
     "name": "stderr",
     "output_type": "stream",
     "text": [
      "/tmp/ipykernel_589681/104254519.py:12: FutureWarning: The frame.append method is deprecated and will be removed from pandas in a future version. Use pandas.concat instead.\n",
      "  alldf = alldf.append(df)\n"
     ]
    },
    {
     "name": "stdout",
     "output_type": "stream",
     "text": [
      "2020.11.27_GEDI02_A_2020332062738_O11098_02_T07688_02_003_02_V002.json\n"
     ]
    },
    {
     "name": "stderr",
     "output_type": "stream",
     "text": [
      "/tmp/ipykernel_589681/104254519.py:12: FutureWarning: The frame.append method is deprecated and will be removed from pandas in a future version. Use pandas.concat instead.\n",
      "  alldf = alldf.append(df)\n"
     ]
    },
    {
     "name": "stdout",
     "output_type": "stream",
     "text": [
      "2020.11.27_GEDI02_A_2020332154501_O11104_03_T07388_02_003_02_V002.json\n"
     ]
    },
    {
     "name": "stderr",
     "output_type": "stream",
     "text": [
      "/tmp/ipykernel_589681/104254519.py:12: FutureWarning: The frame.append method is deprecated and will be removed from pandas in a future version. Use pandas.concat instead.\n",
      "  alldf = alldf.append(df)\n"
     ]
    },
    {
     "name": "stdout",
     "output_type": "stream",
     "text": [
      "2020.11.28_GEDI02_A_2020333054107_O11113_02_T08361_02_003_02_V002.json\n"
     ]
    },
    {
     "name": "stderr",
     "output_type": "stream",
     "text": [
      "/tmp/ipykernel_589681/104254519.py:12: FutureWarning: The frame.append method is deprecated and will be removed from pandas in a future version. Use pandas.concat instead.\n",
      "  alldf = alldf.append(df)\n"
     ]
    },
    {
     "name": "stdout",
     "output_type": "stream",
     "text": [
      "2020.11.29_GEDI02_A_2020334154451_O11135_03_T05889_02_003_02_V002.json\n"
     ]
    },
    {
     "name": "stderr",
     "output_type": "stream",
     "text": [
      "/tmp/ipykernel_589681/104254519.py:12: FutureWarning: The frame.append method is deprecated and will be removed from pandas in a future version. Use pandas.concat instead.\n",
      "  alldf = alldf.append(df)\n"
     ]
    },
    {
     "name": "stdout",
     "output_type": "stream",
     "text": [
      "2020.11.30_GEDI02_A_2020335054055_O11144_02_T10014_02_003_02_V002.json\n"
     ]
    },
    {
     "name": "stderr",
     "output_type": "stream",
     "text": [
      "/tmp/ipykernel_589681/104254519.py:12: FutureWarning: The frame.append method is deprecated and will be removed from pandas in a future version. Use pandas.concat instead.\n",
      "  alldf = alldf.append(df)\n"
     ]
    },
    {
     "name": "stdout",
     "output_type": "stream",
     "text": [
      "2020.11.30_GEDI02_A_2020335145818_O11150_03_T09408_02_003_02_V002.json\n"
     ]
    },
    {
     "name": "stderr",
     "output_type": "stream",
     "text": [
      "/tmp/ipykernel_589681/104254519.py:12: FutureWarning: The frame.append method is deprecated and will be removed from pandas in a future version. Use pandas.concat instead.\n",
      "  alldf = alldf.append(df)\n"
     ]
    },
    {
     "name": "stdout",
     "output_type": "stream",
     "text": [
      "2020.12.01_GEDI02_A_2020336045419_O11159_02_T08958_02_003_02_V002.json\n"
     ]
    },
    {
     "name": "stderr",
     "output_type": "stream",
     "text": [
      "/tmp/ipykernel_589681/104254519.py:12: FutureWarning: The frame.append method is deprecated and will be removed from pandas in a future version. Use pandas.concat instead.\n",
      "  alldf = alldf.append(df)\n",
      "/tmp/ipykernel_589681/104254519.py:12: FutureWarning: The frame.append method is deprecated and will be removed from pandas in a future version. Use pandas.concat instead.\n",
      "  alldf = alldf.append(df)\n"
     ]
    },
    {
     "name": "stdout",
     "output_type": "stream",
     "text": [
      "2020.12.01_GEDI02_A_2020336141141_O11165_03_T06118_02_003_02_V002.json\n",
      "2020.12.02_GEDI02_A_2020337040742_O11174_02_T09937_02_003_02_V002.json\n"
     ]
    },
    {
     "name": "stderr",
     "output_type": "stream",
     "text": [
      "/tmp/ipykernel_589681/104254519.py:12: FutureWarning: The frame.append method is deprecated and will be removed from pandas in a future version. Use pandas.concat instead.\n",
      "  alldf = alldf.append(df)\n"
     ]
    },
    {
     "name": "stdout",
     "output_type": "stream",
     "text": [
      "2020.12.03_GEDI02_A_2020338141122_O11196_03_T10464_02_003_02_V002.json\n"
     ]
    },
    {
     "name": "stderr",
     "output_type": "stream",
     "text": [
      "/tmp/ipykernel_589681/104254519.py:12: FutureWarning: The frame.append method is deprecated and will be removed from pandas in a future version. Use pandas.concat instead.\n",
      "  alldf = alldf.append(df)\n"
     ]
    },
    {
     "name": "stdout",
     "output_type": "stream",
     "text": [
      "2020.12.04_GEDI02_A_2020339040724_O11205_02_T07168_02_003_02_V002.json\n"
     ]
    },
    {
     "name": "stderr",
     "output_type": "stream",
     "text": [
      "/tmp/ipykernel_589681/104254519.py:12: FutureWarning: The frame.append method is deprecated and will be removed from pandas in a future version. Use pandas.concat instead.\n",
      "  alldf = alldf.append(df)\n"
     ]
    },
    {
     "name": "stdout",
     "output_type": "stream",
     "text": [
      "2020.12.04_GEDI02_A_2020339132445_O11211_03_T08291_02_003_02_V002.json\n"
     ]
    },
    {
     "name": "stderr",
     "output_type": "stream",
     "text": [
      "/tmp/ipykernel_589681/104254519.py:12: FutureWarning: The frame.append method is deprecated and will be removed from pandas in a future version. Use pandas.concat instead.\n",
      "  alldf = alldf.append(df)\n"
     ]
    },
    {
     "name": "stdout",
     "output_type": "stream",
     "text": [
      "2020.12.05_GEDI02_A_2020340032047_O11220_02_T06418_02_003_02_V002.json\n"
     ]
    },
    {
     "name": "stderr",
     "output_type": "stream",
     "text": [
      "/tmp/ipykernel_589681/104254519.py:12: FutureWarning: The frame.append method is deprecated and will be removed from pandas in a future version. Use pandas.concat instead.\n",
      "  alldf = alldf.append(df)\n"
     ]
    },
    {
     "name": "stdout",
     "output_type": "stream",
     "text": [
      "2020.12.06_GEDI02_A_2020341023411_O11235_02_T10090_02_003_02_V002.json\n"
     ]
    },
    {
     "name": "stderr",
     "output_type": "stream",
     "text": [
      "/tmp/ipykernel_589681/104254519.py:12: FutureWarning: The frame.append method is deprecated and will be removed from pandas in a future version. Use pandas.concat instead.\n",
      "  alldf = alldf.append(df)\n"
     ]
    },
    {
     "name": "stdout",
     "output_type": "stream",
     "text": [
      "2020.12.08_GEDI02_A_2020343023351_O11266_02_T08438_02_003_02_V002.json\n"
     ]
    },
    {
     "name": "stderr",
     "output_type": "stream",
     "text": [
      "/tmp/ipykernel_589681/104254519.py:12: FutureWarning: The frame.append method is deprecated and will be removed from pandas in a future version. Use pandas.concat instead.\n",
      "  alldf = alldf.append(df)\n"
     ]
    },
    {
     "name": "stdout",
     "output_type": "stream",
     "text": [
      "2020.12.08_GEDI02_A_2020343115112_O11272_03_T06868_02_003_02_V002.json\n"
     ]
    },
    {
     "name": "stderr",
     "output_type": "stream",
     "text": [
      "/tmp/ipykernel_589681/104254519.py:12: FutureWarning: The frame.append method is deprecated and will be removed from pandas in a future version. Use pandas.concat instead.\n",
      "  alldf = alldf.append(df)\n"
     ]
    },
    {
     "name": "stdout",
     "output_type": "stream",
     "text": [
      "2020.12.09_GEDI02_A_2020344014713_O11281_02_T09264_02_003_02_V002.json\n"
     ]
    },
    {
     "name": "stderr",
     "output_type": "stream",
     "text": [
      "/tmp/ipykernel_589681/104254519.py:12: FutureWarning: The frame.append method is deprecated and will be removed from pandas in a future version. Use pandas.concat instead.\n",
      "  alldf = alldf.append(df)\n"
     ]
    },
    {
     "name": "stdout",
     "output_type": "stream",
     "text": [
      "2020.12.09_GEDI02_A_2020344110435_O11287_03_T05965_02_003_02_V002.json\n"
     ]
    },
    {
     "name": "stderr",
     "output_type": "stream",
     "text": [
      "/tmp/ipykernel_589681/104254519.py:12: FutureWarning: The frame.append method is deprecated and will be removed from pandas in a future version. Use pandas.concat instead.\n",
      "  alldf = alldf.append(df)\n"
     ]
    },
    {
     "name": "stdout",
     "output_type": "stream",
     "text": [
      "2020.12.10_GEDI02_A_2020345010036_O11296_02_T07244_02_003_02_V002.json\n"
     ]
    },
    {
     "name": "stderr",
     "output_type": "stream",
     "text": [
      "/tmp/ipykernel_589681/104254519.py:12: FutureWarning: The frame.append method is deprecated and will be removed from pandas in a future version. Use pandas.concat instead.\n",
      "  alldf = alldf.append(df)\n"
     ]
    },
    {
     "name": "stdout",
     "output_type": "stream",
     "text": [
      "2020.12.11_GEDI02_A_2020346110412_O11318_03_T07465_02_003_02_V002.json\n"
     ]
    },
    {
     "name": "stderr",
     "output_type": "stream",
     "text": [
      "/tmp/ipykernel_589681/104254519.py:12: FutureWarning: The frame.append method is deprecated and will be removed from pandas in a future version. Use pandas.concat instead.\n",
      "  alldf = alldf.append(df)\n"
     ]
    },
    {
     "name": "stdout",
     "output_type": "stream",
     "text": [
      "2020.12.12_GEDI02_A_2020347010014_O11327_02_T05745_02_003_02_V002.json\n"
     ]
    },
    {
     "name": "stderr",
     "output_type": "stream",
     "text": [
      "/tmp/ipykernel_589681/104254519.py:12: FutureWarning: The frame.append method is deprecated and will be removed from pandas in a future version. Use pandas.concat instead.\n",
      "  alldf = alldf.append(df)\n"
     ]
    },
    {
     "name": "stdout",
     "output_type": "stream",
     "text": [
      "2020.12.12_GEDI02_A_2020347101735_O11333_03_T09714_02_003_02_V002.json\n"
     ]
    },
    {
     "name": "stderr",
     "output_type": "stream",
     "text": [
      "/tmp/ipykernel_589681/104254519.py:12: FutureWarning: The frame.append method is deprecated and will be removed from pandas in a future version. Use pandas.concat instead.\n",
      "  alldf = alldf.append(df)\n"
     ]
    },
    {
     "name": "stdout",
     "output_type": "stream",
     "text": [
      "2020.12.13_GEDI02_A_2020348001336_O11342_02_T10840_02_003_02_V002.json\n"
     ]
    },
    {
     "name": "stderr",
     "output_type": "stream",
     "text": [
      "/tmp/ipykernel_589681/104254519.py:12: FutureWarning: The frame.append method is deprecated and will be removed from pandas in a future version. Use pandas.concat instead.\n",
      "  alldf = alldf.append(df)\n"
     ]
    },
    {
     "name": "stdout",
     "output_type": "stream",
     "text": [
      "2020.12.13_GEDI02_A_2020348093056_O11348_03_T08964_02_003_02_V002.json\n"
     ]
    },
    {
     "name": "stderr",
     "output_type": "stream",
     "text": [
      "/tmp/ipykernel_589681/104254519.py:12: FutureWarning: The frame.append method is deprecated and will be removed from pandas in a future version. Use pandas.concat instead.\n",
      "  alldf = alldf.append(df)\n"
     ]
    },
    {
     "name": "stdout",
     "output_type": "stream",
     "text": [
      "2020.12.13_GEDI02_A_2020348232657_O11357_02_T05821_02_003_02_V002.json\n"
     ]
    },
    {
     "name": "stderr",
     "output_type": "stream",
     "text": [
      "/tmp/ipykernel_589681/104254519.py:12: FutureWarning: The frame.append method is deprecated and will be removed from pandas in a future version. Use pandas.concat instead.\n",
      "  alldf = alldf.append(df)\n"
     ]
    },
    {
     "name": "stdout",
     "output_type": "stream",
     "text": [
      "2020.12.15_GEDI02_A_2020350232636_O11388_02_T08591_02_003_02_V002.json\n"
     ]
    },
    {
     "name": "stderr",
     "output_type": "stream",
     "text": [
      "/tmp/ipykernel_589681/104254519.py:12: FutureWarning: The frame.append method is deprecated and will be removed from pandas in a future version. Use pandas.concat instead.\n",
      "  alldf = alldf.append(df)\n"
     ]
    },
    {
     "name": "stdout",
     "output_type": "stream",
     "text": [
      "2020.12.16_GEDI02_A_2020351084355_O11394_03_T11290_02_003_02_V002.json\n"
     ]
    },
    {
     "name": "stderr",
     "output_type": "stream",
     "text": [
      "/tmp/ipykernel_589681/104254519.py:12: FutureWarning: The frame.append method is deprecated and will be removed from pandas in a future version. Use pandas.concat instead.\n",
      "  alldf = alldf.append(df)\n"
     ]
    },
    {
     "name": "stdout",
     "output_type": "stream",
     "text": [
      "2020.12.16_GEDI02_A_2020351223956_O11403_02_T07994_02_003_02_V002.json\n"
     ]
    },
    {
     "name": "stderr",
     "output_type": "stream",
     "text": [
      "/tmp/ipykernel_589681/104254519.py:12: FutureWarning: The frame.append method is deprecated and will be removed from pandas in a future version. Use pandas.concat instead.\n",
      "  alldf = alldf.append(df)\n"
     ]
    },
    {
     "name": "stdout",
     "output_type": "stream",
     "text": [
      "2020.12.17_GEDI02_A_2020352075717_O11409_03_T10540_02_003_02_V002.json\n"
     ]
    },
    {
     "name": "stderr",
     "output_type": "stream",
     "text": [
      "/tmp/ipykernel_589681/104254519.py:12: FutureWarning: The frame.append method is deprecated and will be removed from pandas in a future version. Use pandas.concat instead.\n",
      "  alldf = alldf.append(df)\n"
     ]
    },
    {
     "name": "stdout",
     "output_type": "stream",
     "text": [
      "2020.12.17_GEDI02_A_2020352215317_O11418_02_T08667_02_003_02_V002.json\n"
     ]
    },
    {
     "name": "stderr",
     "output_type": "stream",
     "text": [
      "/tmp/ipykernel_589681/104254519.py:12: FutureWarning: The frame.append method is deprecated and will be removed from pandas in a future version. Use pandas.concat instead.\n",
      "  alldf = alldf.append(df)\n"
     ]
    },
    {
     "name": "stdout",
     "output_type": "stream",
     "text": [
      "2020.12.19_GEDI02_A_2020354075652_O11440_03_T09041_02_003_02_V002.json\n"
     ]
    },
    {
     "name": "stderr",
     "output_type": "stream",
     "text": [
      "/tmp/ipykernel_589681/104254519.py:12: FutureWarning: The frame.append method is deprecated and will be removed from pandas in a future version. Use pandas.concat instead.\n",
      "  alldf = alldf.append(df)\n"
     ]
    },
    {
     "name": "stdout",
     "output_type": "stream",
     "text": [
      "2020.12.19_GEDI02_A_2020354215253_O11449_02_T10167_02_003_02_V002.json\n"
     ]
    },
    {
     "name": "stderr",
     "output_type": "stream",
     "text": [
      "/tmp/ipykernel_589681/104254519.py:12: FutureWarning: The frame.append method is deprecated and will be removed from pandas in a future version. Use pandas.concat instead.\n",
      "  alldf = alldf.append(df)\n"
     ]
    },
    {
     "name": "stdout",
     "output_type": "stream",
     "text": [
      "2020.12.20_GEDI02_A_2020355071013_O11455_03_T08444_02_003_02_V002.json\n"
     ]
    },
    {
     "name": "stderr",
     "output_type": "stream",
     "text": [
      "/tmp/ipykernel_589681/104254519.py:12: FutureWarning: The frame.append method is deprecated and will be removed from pandas in a future version. Use pandas.concat instead.\n",
      "  alldf = alldf.append(df)\n"
     ]
    },
    {
     "name": "stdout",
     "output_type": "stream",
     "text": [
      "2020.12.20_GEDI02_A_2020355210613_O11464_02_T06571_02_003_02_V002.json\n"
     ]
    },
    {
     "name": "stderr",
     "output_type": "stream",
     "text": [
      "/tmp/ipykernel_589681/104254519.py:12: FutureWarning: The frame.append method is deprecated and will be removed from pandas in a future version. Use pandas.concat instead.\n",
      "  alldf = alldf.append(df)\n"
     ]
    },
    {
     "name": "stdout",
     "output_type": "stream",
     "text": [
      "2020.12.21_GEDI02_A_2020356062334_O11470_03_T07694_02_003_02_V002.json\n"
     ]
    },
    {
     "name": "stderr",
     "output_type": "stream",
     "text": [
      "/tmp/ipykernel_589681/104254519.py:12: FutureWarning: The frame.append method is deprecated and will be removed from pandas in a future version. Use pandas.concat instead.\n",
      "  alldf = alldf.append(df)\n"
     ]
    },
    {
     "name": "stdout",
     "output_type": "stream",
     "text": [
      "2020.12.21_GEDI02_A_2020356201934_O11479_02_T10243_02_003_02_V002.json\n"
     ]
    },
    {
     "name": "stderr",
     "output_type": "stream",
     "text": [
      "/tmp/ipykernel_589681/104254519.py:12: FutureWarning: The frame.append method is deprecated and will be removed from pandas in a future version. Use pandas.concat instead.\n",
      "  alldf = alldf.append(df)\n"
     ]
    },
    {
     "name": "stdout",
     "output_type": "stream",
     "text": [
      "2020.12.23_GEDI02_A_2020358062307_O11501_03_T10617_02_003_02_V002.json\n"
     ]
    },
    {
     "name": "stderr",
     "output_type": "stream",
     "text": [
      "/tmp/ipykernel_589681/104254519.py:12: FutureWarning: The frame.append method is deprecated and will be removed from pandas in a future version. Use pandas.concat instead.\n",
      "  alldf = alldf.append(df)\n"
     ]
    },
    {
     "name": "stdout",
     "output_type": "stream",
     "text": [
      "2020.12.23_GEDI02_A_2020358201907_O11510_02_T07321_02_003_02_V002.json\n"
     ]
    },
    {
     "name": "stderr",
     "output_type": "stream",
     "text": [
      "/tmp/ipykernel_589681/104254519.py:12: FutureWarning: The frame.append method is deprecated and will be removed from pandas in a future version. Use pandas.concat instead.\n",
      "  alldf = alldf.append(df)\n"
     ]
    },
    {
     "name": "stdout",
     "output_type": "stream",
     "text": [
      "2020.12.24_GEDI02_A_2020359053627_O11516_03_T07021_02_003_02_V002.json\n"
     ]
    },
    {
     "name": "stderr",
     "output_type": "stream",
     "text": [
      "/tmp/ipykernel_589681/104254519.py:12: FutureWarning: The frame.append method is deprecated and will be removed from pandas in a future version. Use pandas.concat instead.\n",
      "  alldf = alldf.append(df)\n"
     ]
    },
    {
     "name": "stdout",
     "output_type": "stream",
     "text": [
      "2020.12.24_GEDI02_A_2020359193227_O11525_02_T09417_02_003_02_V002.json\n"
     ]
    },
    {
     "name": "stderr",
     "output_type": "stream",
     "text": [
      "/tmp/ipykernel_589681/104254519.py:12: FutureWarning: The frame.append method is deprecated and will be removed from pandas in a future version. Use pandas.concat instead.\n",
      "  alldf = alldf.append(df)\n"
     ]
    },
    {
     "name": "stdout",
     "output_type": "stream",
     "text": [
      "2020.12.25_GEDI02_A_2020360044947_O11531_03_T06271_02_003_02_V002.json\n"
     ]
    },
    {
     "name": "stderr",
     "output_type": "stream",
     "text": [
      "/tmp/ipykernel_589681/104254519.py:12: FutureWarning: The frame.append method is deprecated and will be removed from pandas in a future version. Use pandas.concat instead.\n",
      "  alldf = alldf.append(df)\n"
     ]
    },
    {
     "name": "stdout",
     "output_type": "stream",
     "text": [
      "2020.12.25_GEDI02_A_2020360184546_O11540_02_T07397_02_003_02_V002.json\n"
     ]
    },
    {
     "name": "stderr",
     "output_type": "stream",
     "text": [
      "/tmp/ipykernel_589681/104254519.py:12: FutureWarning: The frame.append method is deprecated and will be removed from pandas in a future version. Use pandas.concat instead.\n",
      "  alldf = alldf.append(df)\n"
     ]
    },
    {
     "name": "stdout",
     "output_type": "stream",
     "text": [
      "2020.12.27_GEDI02_A_2020362184517_O11571_02_T05898_02_003_02_V002.json\n"
     ]
    },
    {
     "name": "stderr",
     "output_type": "stream",
     "text": [
      "/tmp/ipykernel_589681/104254519.py:12: FutureWarning: The frame.append method is deprecated and will be removed from pandas in a future version. Use pandas.concat instead.\n",
      "  alldf = alldf.append(df)\n"
     ]
    },
    {
     "name": "stdout",
     "output_type": "stream",
     "text": [
      "2020.12.28_GEDI02_A_2020363040237_O11577_03_T09867_02_003_02_V002.json\n"
     ]
    },
    {
     "name": "stderr",
     "output_type": "stream",
     "text": [
      "/tmp/ipykernel_589681/104254519.py:12: FutureWarning: The frame.append method is deprecated and will be removed from pandas in a future version. Use pandas.concat instead.\n",
      "  alldf = alldf.append(df)\n"
     ]
    },
    {
     "name": "stdout",
     "output_type": "stream",
     "text": [
      "2020.12.28_GEDI02_A_2020363175836_O11586_02_T10993_02_003_02_V002.json\n"
     ]
    },
    {
     "name": "stderr",
     "output_type": "stream",
     "text": [
      "/tmp/ipykernel_589681/104254519.py:12: FutureWarning: The frame.append method is deprecated and will be removed from pandas in a future version. Use pandas.concat instead.\n",
      "  alldf = alldf.append(df)\n"
     ]
    },
    {
     "name": "stdout",
     "output_type": "stream",
     "text": [
      "2020.12.29_GEDI02_A_2020364031557_O11592_03_T09117_02_003_02_V002.json\n"
     ]
    },
    {
     "name": "stderr",
     "output_type": "stream",
     "text": [
      "/tmp/ipykernel_589681/104254519.py:12: FutureWarning: The frame.append method is deprecated and will be removed from pandas in a future version. Use pandas.concat instead.\n",
      "  alldf = alldf.append(df)\n"
     ]
    },
    {
     "name": "stdout",
     "output_type": "stream",
     "text": [
      "2020.12.29_GEDI02_A_2020364171157_O11601_02_T05974_02_003_02_V002.json\n"
     ]
    },
    {
     "name": "stderr",
     "output_type": "stream",
     "text": [
      "/tmp/ipykernel_589681/104254519.py:12: FutureWarning: The frame.append method is deprecated and will be removed from pandas in a future version. Use pandas.concat instead.\n",
      "  alldf = alldf.append(df)\n"
     ]
    },
    {
     "name": "stdout",
     "output_type": "stream",
     "text": [
      "2020.12.31_GEDI02_A_2020366031529_O11623_03_T06348_02_003_02_V002.json\n"
     ]
    },
    {
     "name": "stderr",
     "output_type": "stream",
     "text": [
      "/tmp/ipykernel_589681/104254519.py:12: FutureWarning: The frame.append method is deprecated and will be removed from pandas in a future version. Use pandas.concat instead.\n",
      "  alldf = alldf.append(df)\n"
     ]
    },
    {
     "name": "stdout",
     "output_type": "stream",
     "text": [
      "2020.12.31_GEDI02_A_2020366171128_O11632_02_T08744_02_003_02_V002.json\n"
     ]
    },
    {
     "name": "stderr",
     "output_type": "stream",
     "text": [
      "/tmp/ipykernel_589681/104254519.py:12: FutureWarning: The frame.append method is deprecated and will be removed from pandas in a future version. Use pandas.concat instead.\n",
      "  alldf = alldf.append(df)\n"
     ]
    },
    {
     "name": "stdout",
     "output_type": "stream",
     "text": [
      "2021.01.01_GEDI02_A_2021001022847_O11638_03_T10020_02_003_02_V002.json\n"
     ]
    },
    {
     "name": "stderr",
     "output_type": "stream",
     "text": [
      "/tmp/ipykernel_589681/104254519.py:12: FutureWarning: The frame.append method is deprecated and will be removed from pandas in a future version. Use pandas.concat instead.\n",
      "  alldf = alldf.append(df)\n"
     ]
    },
    {
     "name": "stdout",
     "output_type": "stream",
     "text": [
      "2021.01.01_GEDI02_A_2021001162446_O11647_02_T08147_02_003_02_V002.json\n"
     ]
    },
    {
     "name": "stderr",
     "output_type": "stream",
     "text": [
      "/tmp/ipykernel_589681/104254519.py:12: FutureWarning: The frame.append method is deprecated and will be removed from pandas in a future version. Use pandas.concat instead.\n",
      "  alldf = alldf.append(df)\n"
     ]
    },
    {
     "name": "stdout",
     "output_type": "stream",
     "text": [
      "2021.01.02_GEDI02_A_2021002014205_O11653_03_T10693_02_003_02_V002.json\n"
     ]
    },
    {
     "name": "stderr",
     "output_type": "stream",
     "text": [
      "/tmp/ipykernel_589681/104254519.py:12: FutureWarning: The frame.append method is deprecated and will be removed from pandas in a future version. Use pandas.concat instead.\n",
      "  alldf = alldf.append(df)\n"
     ]
    },
    {
     "name": "stdout",
     "output_type": "stream",
     "text": [
      "2021.01.04_GEDI02_A_2021004014133_O11684_03_T09194_02_003_02_V002.json\n"
     ]
    },
    {
     "name": "stderr",
     "output_type": "stream",
     "text": [
      "/tmp/ipykernel_589681/104254519.py:12: FutureWarning: The frame.append method is deprecated and will be removed from pandas in a future version. Use pandas.concat instead.\n",
      "  alldf = alldf.append(df)\n"
     ]
    },
    {
     "name": "stdout",
     "output_type": "stream",
     "text": [
      "2021.01.04_GEDI02_A_2021004153731_O11693_02_T10320_02_003_02_V002.json\n"
     ]
    },
    {
     "name": "stderr",
     "output_type": "stream",
     "text": [
      "/tmp/ipykernel_589681/104254519.py:12: FutureWarning: The frame.append method is deprecated and will be removed from pandas in a future version. Use pandas.concat instead.\n",
      "  alldf = alldf.append(df)\n"
     ]
    },
    {
     "name": "stdout",
     "output_type": "stream",
     "text": [
      "2021.01.05_GEDI02_A_2021005005453_O11699_03_T07174_02_003_02_V002.json\n"
     ]
    },
    {
     "name": "stderr",
     "output_type": "stream",
     "text": [
      "/tmp/ipykernel_589681/104254519.py:12: FutureWarning: The frame.append method is deprecated and will be removed from pandas in a future version. Use pandas.concat instead.\n",
      "  alldf = alldf.append(df)\n"
     ]
    },
    {
     "name": "stdout",
     "output_type": "stream",
     "text": [
      "2021.01.05_GEDI02_A_2021005145051_O11708_02_T06724_02_003_02_V002.json\n"
     ]
    },
    {
     "name": "stderr",
     "output_type": "stream",
     "text": [
      "/tmp/ipykernel_589681/104254519.py:12: FutureWarning: The frame.append method is deprecated and will be removed from pandas in a future version. Use pandas.concat instead.\n",
      "  alldf = alldf.append(df)\n"
     ]
    },
    {
     "name": "stdout",
     "output_type": "stream",
     "text": [
      "2021.01.08_GEDI02_A_2021008000740_O11745_03_T10770_02_003_02_V002.json\n"
     ]
    },
    {
     "name": "stderr",
     "output_type": "stream",
     "text": [
      "/tmp/ipykernel_589681/104254519.py:12: FutureWarning: The frame.append method is deprecated and will be removed from pandas in a future version. Use pandas.concat instead.\n",
      "  alldf = alldf.append(df)\n"
     ]
    },
    {
     "name": "stdout",
     "output_type": "stream",
     "text": [
      "2021.01.08_GEDI02_A_2021008140338_O11754_02_T07474_02_003_02_V002.json\n"
     ]
    },
    {
     "name": "stderr",
     "output_type": "stream",
     "text": [
      "/tmp/ipykernel_589681/104254519.py:12: FutureWarning: The frame.append method is deprecated and will be removed from pandas in a future version. Use pandas.concat instead.\n",
      "  alldf = alldf.append(df)\n"
     ]
    },
    {
     "name": "stdout",
     "output_type": "stream",
     "text": [
      "2021.01.08_GEDI02_A_2021008232057_O11760_03_T05751_02_003_02_V002.json\n"
     ]
    },
    {
     "name": "stderr",
     "output_type": "stream",
     "text": [
      "/tmp/ipykernel_589681/104254519.py:12: FutureWarning: The frame.append method is deprecated and will be removed from pandas in a future version. Use pandas.concat instead.\n",
      "  alldf = alldf.append(df)\n"
     ]
    },
    {
     "name": "stdout",
     "output_type": "stream",
     "text": [
      "2021.01.09_GEDI02_A_2021009131656_O11769_02_T04031_02_003_02_V002.json\n"
     ]
    },
    {
     "name": "stderr",
     "output_type": "stream",
     "text": [
      "/tmp/ipykernel_589681/104254519.py:12: FutureWarning: The frame.append method is deprecated and will be removed from pandas in a future version. Use pandas.concat instead.\n",
      "  alldf = alldf.append(df)\n"
     ]
    },
    {
     "name": "stdout",
     "output_type": "stream",
     "text": [
      "2021.01.11_GEDI02_A_2021011223342_O11806_03_T09347_02_003_02_V002.json\n"
     ]
    },
    {
     "name": "stderr",
     "output_type": "stream",
     "text": [
      "/tmp/ipykernel_589681/104254519.py:12: FutureWarning: The frame.append method is deprecated and will be removed from pandas in a future version. Use pandas.concat instead.\n",
      "  alldf = alldf.append(df)\n"
     ]
    },
    {
     "name": "stdout",
     "output_type": "stream",
     "text": [
      "2021.01.12_GEDI02_A_2021012214657_O11821_03_T07327_02_003_02_V002.json\n"
     ]
    },
    {
     "name": "stderr",
     "output_type": "stream",
     "text": [
      "/tmp/ipykernel_589681/104254519.py:12: FutureWarning: The frame.append method is deprecated and will be removed from pandas in a future version. Use pandas.concat instead.\n",
      "  alldf = alldf.append(df)\n"
     ]
    },
    {
     "name": "stdout",
     "output_type": "stream",
     "text": [
      "2021.01.13_GEDI02_A_2021013114255_O11830_02_T02761_02_003_02_V002.json\n"
     ]
    },
    {
     "name": "stderr",
     "output_type": "stream",
     "text": [
      "/tmp/ipykernel_589681/104254519.py:12: FutureWarning: The frame.append method is deprecated and will be removed from pandas in a future version. Use pandas.concat instead.\n",
      "  alldf = alldf.append(df)\n"
     ]
    },
    {
     "name": "stdout",
     "output_type": "stream",
     "text": [
      "2021.01.13_GEDI02_A_2021013210014_O11836_03_T03884_02_003_02_V002.json\n"
     ]
    },
    {
     "name": "stderr",
     "output_type": "stream",
     "text": [
      "/tmp/ipykernel_589681/104254519.py:12: FutureWarning: The frame.append method is deprecated and will be removed from pandas in a future version. Use pandas.concat instead.\n",
      "  alldf = alldf.append(df)\n"
     ]
    },
    {
     "name": "stdout",
     "output_type": "stream",
     "text": [
      "2021.01.15_GEDI02_A_2021015205938_O11867_03_T08077_02_003_02_V002.json\n"
     ]
    },
    {
     "name": "stderr",
     "output_type": "stream",
     "text": [
      "/tmp/ipykernel_589681/104254519.py:12: FutureWarning: The frame.append method is deprecated and will be removed from pandas in a future version. Use pandas.concat instead.\n",
      "  alldf = alldf.append(df)\n"
     ]
    },
    {
     "name": "stdout",
     "output_type": "stream",
     "text": [
      "2021.01.16_GEDI02_A_2021016105535_O11876_02_T06204_02_003_02_V002.json\n"
     ]
    },
    {
     "name": "stderr",
     "output_type": "stream",
     "text": [
      "/tmp/ipykernel_589681/104254519.py:12: FutureWarning: The frame.append method is deprecated and will be removed from pandas in a future version. Use pandas.concat instead.\n",
      "  alldf = alldf.append(df)\n"
     ]
    },
    {
     "name": "stdout",
     "output_type": "stream",
     "text": [
      "2021.01.16_GEDI02_A_2021016201253_O11882_03_T08750_02_003_02_V002.json\n"
     ]
    },
    {
     "name": "stderr",
     "output_type": "stream",
     "text": [
      "/tmp/ipykernel_589681/104254519.py:12: FutureWarning: The frame.append method is deprecated and will be removed from pandas in a future version. Use pandas.concat instead.\n",
      "  alldf = alldf.append(df)\n"
     ]
    },
    {
     "name": "stdout",
     "output_type": "stream",
     "text": [
      "2021.01.17_GEDI02_A_2021017100850_O11891_02_T11299_02_003_02_V002.json\n"
     ]
    },
    {
     "name": "stderr",
     "output_type": "stream",
     "text": [
      "/tmp/ipykernel_589681/104254519.py:12: FutureWarning: The frame.append method is deprecated and will be removed from pandas in a future version. Use pandas.concat instead.\n",
      "  alldf = alldf.append(df)\n"
     ]
    },
    {
     "name": "stdout",
     "output_type": "stream",
     "text": [
      "2021.01.17_GEDI02_A_2021017192608_O11897_03_T02614_02_003_02_V002.json\n"
     ]
    },
    {
     "name": "stderr",
     "output_type": "stream",
     "text": [
      "/tmp/ipykernel_589681/104254519.py:12: FutureWarning: The frame.append method is deprecated and will be removed from pandas in a future version. Use pandas.concat instead.\n",
      "  alldf = alldf.append(df)\n"
     ]
    },
    {
     "name": "stdout",
     "output_type": "stream",
     "text": [
      "2021.01.18_GEDI02_A_2021018092205_O11906_02_T00741_02_003_02_V002.json\n"
     ]
    },
    {
     "name": "stderr",
     "output_type": "stream",
     "text": [
      "/tmp/ipykernel_589681/104254519.py:12: FutureWarning: The frame.append method is deprecated and will be removed from pandas in a future version. Use pandas.concat instead.\n",
      "  alldf = alldf.append(df)\n"
     ]
    },
    {
     "name": "stdout",
     "output_type": "stream",
     "text": [
      "2021.01.19_GEDI02_A_2021019192533_O11928_03_T11076_02_003_02_V002.json\n"
     ]
    },
    {
     "name": "stderr",
     "output_type": "stream",
     "text": [
      "/tmp/ipykernel_589681/104254519.py:12: FutureWarning: The frame.append method is deprecated and will be removed from pandas in a future version. Use pandas.concat instead.\n",
      "  alldf = alldf.append(df)\n"
     ]
    },
    {
     "name": "stdout",
     "output_type": "stream",
     "text": [
      "2021.01.20_GEDI02_A_2021020183849_O11943_03_T06057_02_003_02_V002.json\n"
     ]
    },
    {
     "name": "stderr",
     "output_type": "stream",
     "text": [
      "/tmp/ipykernel_589681/104254519.py:12: FutureWarning: The frame.append method is deprecated and will be removed from pandas in a future version. Use pandas.concat instead.\n",
      "  alldf = alldf.append(df)\n"
     ]
    },
    {
     "name": "stdout",
     "output_type": "stream",
     "text": [
      "2021.01.21_GEDI02_A_2021021083446_O11952_02_T09876_02_003_02_V002.json\n"
     ]
    },
    {
     "name": "stderr",
     "output_type": "stream",
     "text": [
      "/tmp/ipykernel_589681/104254519.py:12: FutureWarning: The frame.append method is deprecated and will be removed from pandas in a future version. Use pandas.concat instead.\n",
      "  alldf = alldf.append(df)\n"
     ]
    },
    {
     "name": "stdout",
     "output_type": "stream",
     "text": [
      "2021.01.22_GEDI02_A_2021022074817_O11967_02_T05010_02_003_02_V002.json\n"
     ]
    },
    {
     "name": "stderr",
     "output_type": "stream",
     "text": [
      "/tmp/ipykernel_589681/104254519.py:12: FutureWarning: The frame.append method is deprecated and will be removed from pandas in a future version. Use pandas.concat instead.\n",
      "  alldf = alldf.append(df)\n"
     ]
    },
    {
     "name": "stdout",
     "output_type": "stream",
     "text": [
      "2021.01.22_GEDI02_A_2021022183838_O11974_03_T00442_02_003_02_V002.json\n"
     ]
    },
    {
     "name": "stderr",
     "output_type": "stream",
     "text": [
      "/tmp/ipykernel_589681/104254519.py:12: FutureWarning: The frame.append method is deprecated and will be removed from pandas in a future version. Use pandas.concat instead.\n",
      "  alldf = alldf.append(df)\n"
     ]
    },
    {
     "name": "stdout",
     "output_type": "stream",
     "text": [
      "2021.01.23_GEDI02_A_2021023175216_O11989_03_T09500_02_003_02_V002.json\n"
     ]
    },
    {
     "name": "stderr",
     "output_type": "stream",
     "text": [
      "/tmp/ipykernel_589681/104254519.py:12: FutureWarning: The frame.append method is deprecated and will be removed from pandas in a future version. Use pandas.concat instead.\n",
      "  alldf = alldf.append(df)\n"
     ]
    },
    {
     "name": "stdout",
     "output_type": "stream",
     "text": [
      "2021.01.24_GEDI02_A_2021024074827_O11998_02_T10626_02_003_02_V002.json\n"
     ]
    },
    {
     "name": "stderr",
     "output_type": "stream",
     "text": [
      "/tmp/ipykernel_589681/104254519.py:12: FutureWarning: The frame.append method is deprecated and will be removed from pandas in a future version. Use pandas.concat instead.\n",
      "  alldf = alldf.append(df)\n"
     ]
    },
    {
     "name": "stdout",
     "output_type": "stream",
     "text": [
      "2021.01.24_GEDI02_A_2021024170554_O12004_03_T10326_02_003_02_V002.json\n"
     ]
    },
    {
     "name": "stderr",
     "output_type": "stream",
     "text": [
      "/tmp/ipykernel_589681/104254519.py:12: FutureWarning: The frame.append method is deprecated and will be removed from pandas in a future version. Use pandas.concat instead.\n",
      "  alldf = alldf.append(df)\n"
     ]
    },
    {
     "name": "stdout",
     "output_type": "stream",
     "text": [
      "2021.01.25_GEDI02_A_2021025070205_O12013_02_T08453_02_003_02_V002.json\n"
     ]
    },
    {
     "name": "stderr",
     "output_type": "stream",
     "text": [
      "/tmp/ipykernel_589681/104254519.py:12: FutureWarning: The frame.append method is deprecated and will be removed from pandas in a future version. Use pandas.concat instead.\n",
      "  alldf = alldf.append(df)\n"
     ]
    },
    {
     "name": "stdout",
     "output_type": "stream",
     "text": [
      "2021.01.25_GEDI02_A_2021025161932_O12019_03_T10999_02_003_02_V002.json\n"
     ]
    },
    {
     "name": "stderr",
     "output_type": "stream",
     "text": [
      "/tmp/ipykernel_589681/104254519.py:12: FutureWarning: The frame.append method is deprecated and will be removed from pandas in a future version. Use pandas.concat instead.\n",
      "  alldf = alldf.append(df)\n"
     ]
    },
    {
     "name": "stdout",
     "output_type": "stream",
     "text": [
      "2021.01.29_GEDI02_A_2021029144655_O12080_03_T06577_02_003_02_V002.json\n"
     ]
    },
    {
     "name": "stderr",
     "output_type": "stream",
     "text": [
      "/tmp/ipykernel_589681/104254519.py:12: FutureWarning: The frame.append method is deprecated and will be removed from pandas in a future version. Use pandas.concat instead.\n",
      "  alldf = alldf.append(df)\n"
     ]
    },
    {
     "name": "stdout",
     "output_type": "stream",
     "text": [
      "2021.02.02_GEDI02_A_2021033131410_O12141_03_T09270_02_003_02_V002.json\n"
     ]
    },
    {
     "name": "stderr",
     "output_type": "stream",
     "text": [
      "/tmp/ipykernel_589681/104254519.py:12: FutureWarning: The frame.append method is deprecated and will be removed from pandas in a future version. Use pandas.concat instead.\n",
      "  alldf = alldf.append(df)\n"
     ]
    },
    {
     "name": "stdout",
     "output_type": "stream",
     "text": [
      "2021.02.03_GEDI02_A_2021034031020_O12150_02_T08973_02_003_02_V002.json\n"
     ]
    },
    {
     "name": "stderr",
     "output_type": "stream",
     "text": [
      "/tmp/ipykernel_589681/104254519.py:12: FutureWarning: The frame.append method is deprecated and will be removed from pandas in a future version. Use pandas.concat instead.\n",
      "  alldf = alldf.append(df)\n"
     ]
    },
    {
     "name": "stdout",
     "output_type": "stream",
     "text": [
      "2021.02.04_GEDI02_A_2021035131416_O12172_03_T07924_02_003_02_V002.json\n"
     ]
    },
    {
     "name": "stderr",
     "output_type": "stream",
     "text": [
      "/tmp/ipykernel_589681/104254519.py:12: FutureWarning: The frame.append method is deprecated and will be removed from pandas in a future version. Use pandas.concat instead.\n",
      "  alldf = alldf.append(df)\n"
     ]
    },
    {
     "name": "stdout",
     "output_type": "stream",
     "text": [
      "2021.02.05_GEDI02_A_2021036031025_O12181_02_T08897_02_003_02_V002.json\n"
     ]
    },
    {
     "name": "stderr",
     "output_type": "stream",
     "text": [
      "/tmp/ipykernel_589681/104254519.py:12: FutureWarning: The frame.append method is deprecated and will be removed from pandas in a future version. Use pandas.concat instead.\n",
      "  alldf = alldf.append(df)\n"
     ]
    },
    {
     "name": "stdout",
     "output_type": "stream",
     "text": [
      "2021.02.05_GEDI02_A_2021036122751_O12187_03_T10020_02_003_02_V002.json\n"
     ]
    },
    {
     "name": "stderr",
     "output_type": "stream",
     "text": [
      "/tmp/ipykernel_589681/104254519.py:12: FutureWarning: The frame.append method is deprecated and will be removed from pandas in a future version. Use pandas.concat instead.\n",
      "  alldf = alldf.append(df)\n"
     ]
    },
    {
     "name": "stdout",
     "output_type": "stream",
     "text": [
      "2021.02.06_GEDI02_A_2021037022359_O12196_02_T11146_02_003_02_V002.json\n"
     ]
    },
    {
     "name": "stderr",
     "output_type": "stream",
     "text": [
      "/tmp/ipykernel_589681/104254519.py:12: FutureWarning: The frame.append method is deprecated and will be removed from pandas in a future version. Use pandas.concat instead.\n",
      "  alldf = alldf.append(df)\n"
     ]
    },
    {
     "name": "stdout",
     "output_type": "stream",
     "text": [
      "2021.02.07_GEDI02_A_2021038013734_O12211_02_T07397_02_003_02_V002.json\n"
     ]
    },
    {
     "name": "stderr",
     "output_type": "stream",
     "text": [
      "/tmp/ipykernel_589681/104254519.py:12: FutureWarning: The frame.append method is deprecated and will be removed from pandas in a future version. Use pandas.concat instead.\n",
      "  alldf = alldf.append(df)\n"
     ]
    },
    {
     "name": "stdout",
     "output_type": "stream",
     "text": [
      "2021.02.08_GEDI02_A_2021039114129_O12233_03_T07771_02_003_02_V002.json\n"
     ]
    },
    {
     "name": "stderr",
     "output_type": "stream",
     "text": [
      "/tmp/ipykernel_589681/104254519.py:12: FutureWarning: The frame.append method is deprecated and will be removed from pandas in a future version. Use pandas.concat instead.\n",
      "  alldf = alldf.append(df)\n"
     ]
    },
    {
     "name": "stdout",
     "output_type": "stream",
     "text": [
      "2021.02.10_GEDI02_A_2021041005115_O12257_02_T06571_02_003_02_V002.json\n"
     ]
    },
    {
     "name": "stderr",
     "output_type": "stream",
     "text": [
      "/tmp/ipykernel_589681/104254519.py:12: FutureWarning: The frame.append method is deprecated and will be removed from pandas in a future version. Use pandas.concat instead.\n",
      "  alldf = alldf.append(df)\n"
     ]
    },
    {
     "name": "stdout",
     "output_type": "stream",
     "text": [
      "2021.02.10_GEDI02_A_2021041100841_O12263_03_T07694_02_003_02_V002.json\n"
     ]
    },
    {
     "name": "stderr",
     "output_type": "stream",
     "text": [
      "/tmp/ipykernel_589681/104254519.py:12: FutureWarning: The frame.append method is deprecated and will be removed from pandas in a future version. Use pandas.concat instead.\n",
      "  alldf = alldf.append(df)\n"
     ]
    },
    {
     "name": "stdout",
     "output_type": "stream",
     "text": [
      "2021.02.11_GEDI02_A_2021042000449_O12272_02_T05821_02_003_02_V002.json\n"
     ]
    },
    {
     "name": "stderr",
     "output_type": "stream",
     "text": [
      "/tmp/ipykernel_589681/104254519.py:12: FutureWarning: The frame.append method is deprecated and will be removed from pandas in a future version. Use pandas.concat instead.\n",
      "  alldf = alldf.append(df)\n"
     ]
    },
    {
     "name": "stdout",
     "output_type": "stream",
     "text": [
      "2021.02.12_GEDI02_A_2021043100842_O12294_03_T06195_02_003_02_V002.json\n"
     ]
    },
    {
     "name": "stderr",
     "output_type": "stream",
     "text": [
      "/tmp/ipykernel_589681/104254519.py:12: FutureWarning: The frame.append method is deprecated and will be removed from pandas in a future version. Use pandas.concat instead.\n",
      "  alldf = alldf.append(df)\n"
     ]
    },
    {
     "name": "stdout",
     "output_type": "stream",
     "text": [
      "2021.02.13_GEDI02_A_2021044000450_O12303_02_T08591_02_003_02_V002.json\n"
     ]
    },
    {
     "name": "stderr",
     "output_type": "stream",
     "text": [
      "/tmp/ipykernel_589681/104254519.py:12: FutureWarning: The frame.append method is deprecated and will be removed from pandas in a future version. Use pandas.concat instead.\n",
      "  alldf = alldf.append(df)\n"
     ]
    },
    {
     "name": "stdout",
     "output_type": "stream",
     "text": [
      "2021.02.13_GEDI02_A_2021044092216_O12309_03_T09714_02_003_02_V002.json\n"
     ]
    },
    {
     "name": "stderr",
     "output_type": "stream",
     "text": [
      "/tmp/ipykernel_589681/104254519.py:12: FutureWarning: The frame.append method is deprecated and will be removed from pandas in a future version. Use pandas.concat instead.\n",
      "  alldf = alldf.append(df)\n"
     ]
    },
    {
     "name": "stdout",
     "output_type": "stream",
     "text": [
      "2021.02.13_GEDI02_A_2021044231824_O12318_02_T10840_02_003_02_V002.json\n"
     ]
    },
    {
     "name": "stderr",
     "output_type": "stream",
     "text": [
      "/tmp/ipykernel_589681/104254519.py:12: FutureWarning: The frame.append method is deprecated and will be removed from pandas in a future version. Use pandas.concat instead.\n",
      "  alldf = alldf.append(df)\n"
     ]
    },
    {
     "name": "stdout",
     "output_type": "stream",
     "text": [
      "2021.02.14_GEDI02_A_2021045083550_O12324_03_T10540_02_003_02_V002.json\n"
     ]
    },
    {
     "name": "stderr",
     "output_type": "stream",
     "text": [
      "/tmp/ipykernel_589681/104254519.py:12: FutureWarning: The frame.append method is deprecated and will be removed from pandas in a future version. Use pandas.concat instead.\n",
      "  alldf = alldf.append(df)\n"
     ]
    },
    {
     "name": "stdout",
     "output_type": "stream",
     "text": [
      "2021.02.14_GEDI02_A_2021045223158_O12333_02_T10090_02_003_02_V002.json\n"
     ]
    },
    {
     "name": "stderr",
     "output_type": "stream",
     "text": [
      "/tmp/ipykernel_589681/104254519.py:12: FutureWarning: The frame.append method is deprecated and will be removed from pandas in a future version. Use pandas.concat instead.\n",
      "  alldf = alldf.append(df)\n"
     ]
    },
    {
     "name": "stdout",
     "output_type": "stream",
     "text": [
      "2021.02.17_GEDI02_A_2021048214533_O12379_02_T06418_02_003_02_V002.json\n"
     ]
    },
    {
     "name": "stderr",
     "output_type": "stream",
     "text": [
      "/tmp/ipykernel_589681/104254519.py:12: FutureWarning: The frame.append method is deprecated and will be removed from pandas in a future version. Use pandas.concat instead.\n",
      "  alldf = alldf.append(df)\n"
     ]
    },
    {
     "name": "stdout",
     "output_type": "stream",
     "text": [
      "2021.02.18_GEDI02_A_2021049070259_O12385_03_T06118_02_003_02_V002.json\n"
     ]
    },
    {
     "name": "stderr",
     "output_type": "stream",
     "text": [
      "/tmp/ipykernel_589681/104254519.py:12: FutureWarning: The frame.append method is deprecated and will be removed from pandas in a future version. Use pandas.concat instead.\n",
      "  alldf = alldf.append(df)\n"
     ]
    },
    {
     "name": "stdout",
     "output_type": "stream",
     "text": [
      "2021.02.20_GEDI02_A_2021051070258_O12416_03_T06042_02_003_02_V002.json\n"
     ]
    },
    {
     "name": "stderr",
     "output_type": "stream",
     "text": [
      "/tmp/ipykernel_589681/104254519.py:12: FutureWarning: The frame.append method is deprecated and will be removed from pandas in a future version. Use pandas.concat instead.\n",
      "  alldf = alldf.append(df)\n"
     ]
    },
    {
     "name": "stdout",
     "output_type": "stream",
     "text": [
      "2021.02.20_GEDI02_A_2021051205906_O12425_02_T09861_02_003_02_V002.json\n"
     ]
    },
    {
     "name": "stderr",
     "output_type": "stream",
     "text": [
      "/tmp/ipykernel_589681/104254519.py:12: FutureWarning: The frame.append method is deprecated and will be removed from pandas in a future version. Use pandas.concat instead.\n",
      "  alldf = alldf.append(df)\n"
     ]
    },
    {
     "name": "stdout",
     "output_type": "stream",
     "text": [
      "2021.02.21_GEDI02_A_2021052061631_O12431_03_T03716_02_003_02_V002.json\n"
     ]
    },
    {
     "name": "stderr",
     "output_type": "stream",
     "text": [
      "/tmp/ipykernel_589681/104254519.py:12: FutureWarning: The frame.append method is deprecated and will be removed from pandas in a future version. Use pandas.concat instead.\n",
      "  alldf = alldf.append(df)\n"
     ]
    },
    {
     "name": "stdout",
     "output_type": "stream",
     "text": [
      "2021.02.21_GEDI02_A_2021052201238_O12440_02_T10687_02_003_02_V002.json\n"
     ]
    },
    {
     "name": "stderr",
     "output_type": "stream",
     "text": [
      "/tmp/ipykernel_589681/104254519.py:12: FutureWarning: The frame.append method is deprecated and will be removed from pandas in a future version. Use pandas.concat instead.\n",
      "  alldf = alldf.append(df)\n"
     ]
    },
    {
     "name": "stdout",
     "output_type": "stream",
     "text": [
      "2021.02.22_GEDI02_A_2021053192611_O12455_02_T08514_02_003_02_V002.json\n"
     ]
    },
    {
     "name": "stderr",
     "output_type": "stream",
     "text": [
      "/tmp/ipykernel_589681/104254519.py:12: FutureWarning: The frame.append method is deprecated and will be removed from pandas in a future version. Use pandas.concat instead.\n",
      "  alldf = alldf.append(df)\n"
     ]
    },
    {
     "name": "stdout",
     "output_type": "stream",
     "text": [
      "2021.02.24_GEDI02_A_2021055192609_O12486_02_T07015_02_003_02_V002.json\n"
     ]
    },
    {
     "name": "stderr",
     "output_type": "stream",
     "text": [
      "/tmp/ipykernel_589681/104254519.py:12: FutureWarning: The frame.append method is deprecated and will be removed from pandas in a future version. Use pandas.concat instead.\n",
      "  alldf = alldf.append(df)\n"
     ]
    },
    {
     "name": "stdout",
     "output_type": "stream",
     "text": [
      "2021.02.25_GEDI02_A_2021056183941_O12501_02_T06265_02_003_02_V002.json\n"
     ]
    },
    {
     "name": "stderr",
     "output_type": "stream",
     "text": [
      "/tmp/ipykernel_589681/104254519.py:12: FutureWarning: The frame.append method is deprecated and will be removed from pandas in a future version. Use pandas.concat instead.\n",
      "  alldf = alldf.append(df)\n"
     ]
    },
    {
     "name": "stdout",
     "output_type": "stream",
     "text": [
      "2021.02.26_GEDI02_A_2021057175310_O12516_02_T09784_02_003_02_V002.json\n"
     ]
    },
    {
     "name": "stderr",
     "output_type": "stream",
     "text": [
      "/tmp/ipykernel_589681/104254519.py:12: FutureWarning: The frame.append method is deprecated and will be removed from pandas in a future version. Use pandas.concat instead.\n",
      "  alldf = alldf.append(df)\n"
     ]
    },
    {
     "name": "stdout",
     "output_type": "stream",
     "text": [
      "2021.02.28_GEDI02_A_2021059175305_O12547_02_T11284_02_003_02_V002.json\n"
     ]
    },
    {
     "name": "stderr",
     "output_type": "stream",
     "text": [
      "/tmp/ipykernel_589681/104254519.py:12: FutureWarning: The frame.append method is deprecated and will be removed from pandas in a future version. Use pandas.concat instead.\n",
      "  alldf = alldf.append(df)\n"
     ]
    },
    {
     "name": "stdout",
     "output_type": "stream",
     "text": [
      "2021.03.01_GEDI02_A_2021060170634_O12562_02_T07688_02_003_02_V002.json\n"
     ]
    },
    {
     "name": "stderr",
     "output_type": "stream",
     "text": [
      "/tmp/ipykernel_589681/104254519.py:12: FutureWarning: The frame.append method is deprecated and will be removed from pandas in a future version. Use pandas.concat instead.\n",
      "  alldf = alldf.append(df)\n"
     ]
    },
    {
     "name": "stdout",
     "output_type": "stream",
     "text": [
      "2021.03.02_GEDI02_A_2021061162006_O12577_02_T06938_02_003_02_V002.json\n"
     ]
    },
    {
     "name": "stderr",
     "output_type": "stream",
     "text": [
      "/tmp/ipykernel_589681/104254519.py:12: FutureWarning: The frame.append method is deprecated and will be removed from pandas in a future version. Use pandas.concat instead.\n",
      "  alldf = alldf.append(df)\n"
     ]
    },
    {
     "name": "stdout",
     "output_type": "stream",
     "text": [
      "2021.03.04_GEDI02_A_2021063022356_O12599_03_T05889_02_003_02_V002.json\n"
     ]
    },
    {
     "name": "stderr",
     "output_type": "stream",
     "text": [
      "/tmp/ipykernel_589681/104254519.py:12: FutureWarning: The frame.append method is deprecated and will be removed from pandas in a future version. Use pandas.concat instead.\n",
      "  alldf = alldf.append(df)\n"
     ]
    },
    {
     "name": "stdout",
     "output_type": "stream",
     "text": [
      "2021.03.04_GEDI02_A_2021063162002_O12608_02_T09708_02_003_02_V002.json\n"
     ]
    },
    {
     "name": "stderr",
     "output_type": "stream",
     "text": [
      "/tmp/ipykernel_589681/104254519.py:12: FutureWarning: The frame.append method is deprecated and will be removed from pandas in a future version. Use pandas.concat instead.\n",
      "  alldf = alldf.append(df)\n"
     ]
    },
    {
     "name": "stdout",
     "output_type": "stream",
     "text": [
      "2021.03.05_GEDI02_A_2021064013724_O12614_03_T09408_02_003_02_V002.json\n"
     ]
    },
    {
     "name": "stderr",
     "output_type": "stream",
     "text": [
      "/tmp/ipykernel_589681/104254519.py:12: FutureWarning: The frame.append method is deprecated and will be removed from pandas in a future version. Use pandas.concat instead.\n",
      "  alldf = alldf.append(df)\n"
     ]
    },
    {
     "name": "stdout",
     "output_type": "stream",
     "text": [
      "2021.03.05_GEDI02_A_2021064153330_O12623_02_T10534_02_003_02_V002.json\n"
     ]
    },
    {
     "name": "stderr",
     "output_type": "stream",
     "text": [
      "/tmp/ipykernel_589681/104254519.py:12: FutureWarning: The frame.append method is deprecated and will be removed from pandas in a future version. Use pandas.concat instead.\n",
      "  alldf = alldf.append(df)\n"
     ]
    },
    {
     "name": "stdout",
     "output_type": "stream",
     "text": [
      "2021.03.06_GEDI02_A_2021065005054_O12629_03_T08658_02_003_02_V002.json\n"
     ]
    },
    {
     "name": "stderr",
     "output_type": "stream",
     "text": [
      "/tmp/ipykernel_589681/104254519.py:12: FutureWarning: The frame.append method is deprecated and will be removed from pandas in a future version. Use pandas.concat instead.\n",
      "  alldf = alldf.append(df)\n"
     ]
    },
    {
     "name": "stdout",
     "output_type": "stream",
     "text": [
      "2021.03.06_GEDI02_A_2021065144659_O12638_02_T08361_02_003_02_V002.json\n"
     ]
    },
    {
     "name": "stderr",
     "output_type": "stream",
     "text": [
      "/tmp/ipykernel_589681/104254519.py:12: FutureWarning: The frame.append method is deprecated and will be removed from pandas in a future version. Use pandas.concat instead.\n",
      "  alldf = alldf.append(df)\n"
     ]
    },
    {
     "name": "stdout",
     "output_type": "stream",
     "text": [
      "2021.03.08_GEDI02_A_2021067005045_O12660_03_T07312_02_003_02_V002.json\n"
     ]
    },
    {
     "name": "stderr",
     "output_type": "stream",
     "text": [
      "/tmp/ipykernel_589681/104254519.py:12: FutureWarning: The frame.append method is deprecated and will be removed from pandas in a future version. Use pandas.concat instead.\n",
      "  alldf = alldf.append(df)\n"
     ]
    },
    {
     "name": "stdout",
     "output_type": "stream",
     "text": [
      "2021.03.08_GEDI02_A_2021067144650_O12669_02_T06862_02_003_02_V002.json\n"
     ]
    },
    {
     "name": "stderr",
     "output_type": "stream",
     "text": [
      "/tmp/ipykernel_589681/104254519.py:12: FutureWarning: The frame.append method is deprecated and will be removed from pandas in a future version. Use pandas.concat instead.\n",
      "  alldf = alldf.append(df)\n"
     ]
    },
    {
     "name": "stdout",
     "output_type": "stream",
     "text": [
      "2021.03.09_GEDI02_A_2021068000415_O12675_03_T06562_02_003_02_V002.json\n"
     ]
    },
    {
     "name": "stderr",
     "output_type": "stream",
     "text": [
      "/tmp/ipykernel_589681/104254519.py:12: FutureWarning: The frame.append method is deprecated and will be removed from pandas in a future version. Use pandas.concat instead.\n",
      "  alldf = alldf.append(df)\n"
     ]
    },
    {
     "name": "stdout",
     "output_type": "stream",
     "text": [
      "2021.03.09_GEDI02_A_2021068231744_O12690_03_T05812_02_003_02_V002.json\n"
     ]
    },
    {
     "name": "stderr",
     "output_type": "stream",
     "text": [
      "/tmp/ipykernel_589681/104254519.py:12: FutureWarning: The frame.append method is deprecated and will be removed from pandas in a future version. Use pandas.concat instead.\n",
      "  alldf = alldf.append(df)\n"
     ]
    },
    {
     "name": "stdout",
     "output_type": "stream",
     "text": [
      "2021.03.10_GEDI02_A_2021069131350_O12699_02_T11207_02_003_02_V002.json\n"
     ]
    },
    {
     "name": "stderr",
     "output_type": "stream",
     "text": [
      "/tmp/ipykernel_589681/104254519.py:12: FutureWarning: The frame.append method is deprecated and will be removed from pandas in a future version. Use pandas.concat instead.\n",
      "  alldf = alldf.append(df)\n"
     ]
    },
    {
     "name": "stdout",
     "output_type": "stream",
     "text": [
      "2021.03.11_GEDI02_A_2021070231737_O12721_03_T10158_02_003_02_V002.json\n"
     ]
    },
    {
     "name": "stderr",
     "output_type": "stream",
     "text": [
      "/tmp/ipykernel_589681/104254519.py:12: FutureWarning: The frame.append method is deprecated and will be removed from pandas in a future version. Use pandas.concat instead.\n",
      "  alldf = alldf.append(df)\n"
     ]
    },
    {
     "name": "stdout",
     "output_type": "stream",
     "text": [
      "2021.03.12_GEDI02_A_2021071131343_O12730_02_T08285_02_003_02_V002.json\n"
     ]
    },
    {
     "name": "stderr",
     "output_type": "stream",
     "text": [
      "/tmp/ipykernel_589681/104254519.py:12: FutureWarning: The frame.append method is deprecated and will be removed from pandas in a future version. Use pandas.concat instead.\n",
      "  alldf = alldf.append(df)\n"
     ]
    },
    {
     "name": "stdout",
     "output_type": "stream",
     "text": [
      "2021.03.12_GEDI02_A_2021071223107_O12736_03_T07985_02_003_02_V002.json\n"
     ]
    },
    {
     "name": "stderr",
     "output_type": "stream",
     "text": [
      "/tmp/ipykernel_589681/104254519.py:12: FutureWarning: The frame.append method is deprecated and will be removed from pandas in a future version. Use pandas.concat instead.\n",
      "  alldf = alldf.append(df)\n"
     ]
    },
    {
     "name": "stdout",
     "output_type": "stream",
     "text": [
      "2021.03.13_GEDI02_A_2021072122718_O12745_02_T07535_02_003_02_V002.json\n"
     ]
    },
    {
     "name": "stderr",
     "output_type": "stream",
     "text": [
      "/tmp/ipykernel_589681/104254519.py:12: FutureWarning: The frame.append method is deprecated and will be removed from pandas in a future version. Use pandas.concat instead.\n",
      "  alldf = alldf.append(df)\n"
     ]
    },
    {
     "name": "stdout",
     "output_type": "stream",
     "text": [
      "2021.03.13_GEDI02_A_2021072214445_O12751_03_T07235_02_003_02_V002.json\n"
     ]
    },
    {
     "name": "stderr",
     "output_type": "stream",
     "text": [
      "/tmp/ipykernel_589681/104254519.py:12: FutureWarning: The frame.append method is deprecated and will be removed from pandas in a future version. Use pandas.concat instead.\n",
      "  alldf = alldf.append(df)\n"
     ]
    },
    {
     "name": "stdout",
     "output_type": "stream",
     "text": [
      "2021.03.14_GEDI02_A_2021073114055_O12760_02_T06785_02_003_02_V002.json\n"
     ]
    },
    {
     "name": "stderr",
     "output_type": "stream",
     "text": [
      "/tmp/ipykernel_589681/104254519.py:12: FutureWarning: The frame.append method is deprecated and will be removed from pandas in a future version. Use pandas.concat instead.\n",
      "  alldf = alldf.append(df)\n"
     ]
    },
    {
     "name": "stdout",
     "output_type": "stream",
     "text": [
      "2021.03.15_GEDI02_A_2021074214453_O12782_03_T05736_02_003_02_V002.json\n"
     ]
    },
    {
     "name": "stderr",
     "output_type": "stream",
     "text": [
      "/tmp/ipykernel_589681/104254519.py:12: FutureWarning: The frame.append method is deprecated and will be removed from pandas in a future version. Use pandas.concat instead.\n",
      "  alldf = alldf.append(df)\n"
     ]
    },
    {
     "name": "stdout",
     "output_type": "stream",
     "text": [
      "2021.03.16_GEDI02_A_2021075114103_O12791_02_T06709_02_003_02_V002.json\n"
     ]
    },
    {
     "name": "stderr",
     "output_type": "stream",
     "text": [
      "/tmp/ipykernel_589681/104254519.py:12: FutureWarning: The frame.append method is deprecated and will be removed from pandas in a future version. Use pandas.concat instead.\n",
      "  alldf = alldf.append(df)\n"
     ]
    },
    {
     "name": "stdout",
     "output_type": "stream",
     "text": [
      "2021.03.16_GEDI02_A_2021075205830_O12797_03_T06409_02_003_02_V002.json\n"
     ]
    },
    {
     "name": "stderr",
     "output_type": "stream",
     "text": [
      "/tmp/ipykernel_589681/104254519.py:12: FutureWarning: The frame.append method is deprecated and will be removed from pandas in a future version. Use pandas.concat instead.\n",
      "  alldf = alldf.append(df)\n"
     ]
    },
    {
     "name": "stdout",
     "output_type": "stream",
     "text": [
      "2021.03.17_GEDI02_A_2021076105438_O12806_02_T08805_02_003_02_V002.json\n"
     ]
    },
    {
     "name": "stderr",
     "output_type": "stream",
     "text": [
      "/tmp/ipykernel_589681/104254519.py:12: FutureWarning: The frame.append method is deprecated and will be removed from pandas in a future version. Use pandas.concat instead.\n",
      "  alldf = alldf.append(df)\n"
     ]
    },
    {
     "name": "stdout",
     "output_type": "stream",
     "text": [
      "2021.03.17_GEDI02_A_2021076201205_O12812_03_T09928_02_003_02_V002.json\n"
     ]
    },
    {
     "name": "stderr",
     "output_type": "stream",
     "text": [
      "/tmp/ipykernel_589681/104254519.py:12: FutureWarning: The frame.append method is deprecated and will be removed from pandas in a future version. Use pandas.concat instead.\n",
      "  alldf = alldf.append(df)\n"
     ]
    },
    {
     "name": "stdout",
     "output_type": "stream",
     "text": [
      "2021.03.18_GEDI02_A_2021077100815_O12821_02_T09478_02_003_02_V002.json\n"
     ]
    },
    {
     "name": "stderr",
     "output_type": "stream",
     "text": [
      "/tmp/ipykernel_589681/104254519.py:12: FutureWarning: The frame.append method is deprecated and will be removed from pandas in a future version. Use pandas.concat instead.\n",
      "  alldf = alldf.append(df)\n"
     ]
    },
    {
     "name": "stdout",
     "output_type": "stream",
     "text": [
      "2021.03.19_GEDI02_A_2021078201212_O12843_03_T06853_02_003_02_V002.json\n"
     ]
    },
    {
     "name": "stderr",
     "output_type": "stream",
     "text": [
      "/tmp/ipykernel_589681/104254519.py:12: FutureWarning: The frame.append method is deprecated and will be removed from pandas in a future version. Use pandas.concat instead.\n",
      "  alldf = alldf.append(df)\n"
     ]
    },
    {
     "name": "stdout",
     "output_type": "stream",
     "text": [
      "2021.03.20_GEDI02_A_2021079100822_O12852_02_T10825_02_003_02_V002.json\n"
     ]
    },
    {
     "name": "stderr",
     "output_type": "stream",
     "text": [
      "/tmp/ipykernel_589681/104254519.py:12: FutureWarning: The frame.append method is deprecated and will be removed from pandas in a future version. Use pandas.concat instead.\n",
      "  alldf = alldf.append(df)\n"
     ]
    },
    {
     "name": "stdout",
     "output_type": "stream",
     "text": [
      "2021.03.20_GEDI02_A_2021079192548_O12858_03_T09102_02_003_02_V002.json\n"
     ]
    },
    {
     "name": "stderr",
     "output_type": "stream",
     "text": [
      "/tmp/ipykernel_589681/104254519.py:12: FutureWarning: The frame.append method is deprecated and will be removed from pandas in a future version. Use pandas.concat instead.\n",
      "  alldf = alldf.append(df)\n"
     ]
    },
    {
     "name": "stdout",
     "output_type": "stream",
     "text": [
      "2021.03.21_GEDI02_A_2021080092158_O12867_02_T10228_02_003_02_V002.json\n"
     ]
    },
    {
     "name": "stderr",
     "output_type": "stream",
     "text": [
      "/tmp/ipykernel_589681/104254519.py:12: FutureWarning: The frame.append method is deprecated and will be removed from pandas in a future version. Use pandas.concat instead.\n",
      "  alldf = alldf.append(df)\n"
     ]
    },
    {
     "name": "stdout",
     "output_type": "stream",
     "text": [
      "2021.03.21_GEDI02_A_2021080183924_O12873_03_T11198_02_003_02_V002.json\n"
     ]
    },
    {
     "name": "stderr",
     "output_type": "stream",
     "text": [
      "/tmp/ipykernel_589681/104254519.py:12: FutureWarning: The frame.append method is deprecated and will be removed from pandas in a future version. Use pandas.concat instead.\n",
      "  alldf = alldf.append(df)\n"
     ]
    },
    {
     "name": "stdout",
     "output_type": "stream",
     "text": [
      "2021.03.22_GEDI02_A_2021081083534_O12882_02_T06479_02_003_02_V002.json\n"
     ]
    },
    {
     "name": "stderr",
     "output_type": "stream",
     "text": [
      "/tmp/ipykernel_589681/104254519.py:12: FutureWarning: The frame.append method is deprecated and will be removed from pandas in a future version. Use pandas.concat instead.\n",
      "  alldf = alldf.append(df)\n"
     ]
    },
    {
     "name": "stdout",
     "output_type": "stream",
     "text": [
      "2021.03.23_GEDI02_A_2021082183932_O12904_03_T11122_02_003_02_V002.json\n"
     ]
    },
    {
     "name": "stderr",
     "output_type": "stream",
     "text": [
      "/tmp/ipykernel_589681/104254519.py:12: FutureWarning: The frame.append method is deprecated and will be removed from pandas in a future version. Use pandas.concat instead.\n",
      "  alldf = alldf.append(df)\n"
     ]
    },
    {
     "name": "stdout",
     "output_type": "stream",
     "text": [
      "2021.03.24_GEDI02_A_2021083175304_O12919_03_T06103_02_003_02_V002.json\n"
     ]
    },
    {
     "name": "stderr",
     "output_type": "stream",
     "text": [
      "/tmp/ipykernel_589681/104254519.py:12: FutureWarning: The frame.append method is deprecated and will be removed from pandas in a future version. Use pandas.concat instead.\n",
      "  alldf = alldf.append(df)\n"
     ]
    },
    {
     "name": "stdout",
     "output_type": "stream",
     "text": [
      "2021.03.25_GEDI02_A_2021084074913_O12928_02_T09922_02_003_02_V002.json\n"
     ]
    },
    {
     "name": "stderr",
     "output_type": "stream",
     "text": [
      "/tmp/ipykernel_589681/104254519.py:12: FutureWarning: The frame.append method is deprecated and will be removed from pandas in a future version. Use pandas.concat instead.\n",
      "  alldf = alldf.append(df)\n"
     ]
    },
    {
     "name": "stdout",
     "output_type": "stream",
     "text": [
      "2021.03.25_GEDI02_A_2021084170639_O12934_03_T09622_02_003_02_V002.json\n"
     ]
    },
    {
     "name": "stderr",
     "output_type": "stream",
     "text": [
      "/tmp/ipykernel_589681/104254519.py:12: FutureWarning: The frame.append method is deprecated and will be removed from pandas in a future version. Use pandas.concat instead.\n",
      "  alldf = alldf.append(df)\n"
     ]
    },
    {
     "name": "stdout",
     "output_type": "stream",
     "text": [
      "2021.03.27_GEDI02_A_2021086170643_O12965_03_T06853_02_003_02_V002.json\n"
     ]
    },
    {
     "name": "stderr",
     "output_type": "stream",
     "text": [
      "/tmp/ipykernel_589681/104254519.py:12: FutureWarning: The frame.append method is deprecated and will be removed from pandas in a future version. Use pandas.concat instead.\n",
      "  alldf = alldf.append(df)\n"
     ]
    },
    {
     "name": "stdout",
     "output_type": "stream",
     "text": [
      "2021.03.28_GEDI02_A_2021087162018_O12980_03_T07526_02_003_02_V002.json\n"
     ]
    },
    {
     "name": "stderr",
     "output_type": "stream",
     "text": [
      "/tmp/ipykernel_589681/104254519.py:12: FutureWarning: The frame.append method is deprecated and will be removed from pandas in a future version. Use pandas.concat instead.\n",
      "  alldf = alldf.append(df)\n"
     ]
    },
    {
     "name": "stdout",
     "output_type": "stream",
     "text": [
      "2021.03.29_GEDI02_A_2021088153353_O12995_03_T08199_02_003_02_V002.json\n"
     ]
    },
    {
     "name": "stderr",
     "output_type": "stream",
     "text": [
      "/tmp/ipykernel_589681/104254519.py:12: FutureWarning: The frame.append method is deprecated and will be removed from pandas in a future version. Use pandas.concat instead.\n",
      "  alldf = alldf.append(df)\n"
     ]
    },
    {
     "name": "stdout",
     "output_type": "stream",
     "text": [
      "2021.03.31_GEDI02_A_2021090153352_O13026_03_T08123_02_003_02_V002.json\n"
     ]
    },
    {
     "name": "stderr",
     "output_type": "stream",
     "text": [
      "/tmp/ipykernel_589681/104254519.py:12: FutureWarning: The frame.append method is deprecated and will be removed from pandas in a future version. Use pandas.concat instead.\n",
      "  alldf = alldf.append(df)\n"
     ]
    },
    {
     "name": "stdout",
     "output_type": "stream",
     "text": [
      "2021.04.01_GEDI02_A_2021091144725_O13041_03_T05950_02_003_02_V002.json\n"
     ]
    },
    {
     "name": "stderr",
     "output_type": "stream",
     "text": [
      "/tmp/ipykernel_589681/104254519.py:12: FutureWarning: The frame.append method is deprecated and will be removed from pandas in a future version. Use pandas.concat instead.\n",
      "  alldf = alldf.append(df)\n"
     ]
    },
    {
     "name": "stdout",
     "output_type": "stream",
     "text": [
      "2021.04.02_GEDI02_A_2021092140059_O13056_03_T06623_02_003_02_V002.json\n"
     ]
    },
    {
     "name": "stderr",
     "output_type": "stream",
     "text": [
      "/tmp/ipykernel_589681/104254519.py:12: FutureWarning: The frame.append method is deprecated and will be removed from pandas in a future version. Use pandas.concat instead.\n",
      "  alldf = alldf.append(df)\n"
     ]
    },
    {
     "name": "stdout",
     "output_type": "stream",
     "text": [
      "2021.04.04_GEDI02_A_2021094140114_O13087_03_T10969_02_003_02_V002.json\n"
     ]
    },
    {
     "name": "stderr",
     "output_type": "stream",
     "text": [
      "/tmp/ipykernel_589681/104254519.py:12: FutureWarning: The frame.append method is deprecated and will be removed from pandas in a future version. Use pandas.concat instead.\n",
      "  alldf = alldf.append(df)\n"
     ]
    },
    {
     "name": "stdout",
     "output_type": "stream",
     "text": [
      "2021.04.05_GEDI02_A_2021095131453_O13102_03_T10219_02_003_02_V002.json\n"
     ]
    },
    {
     "name": "stderr",
     "output_type": "stream",
     "text": [
      "/tmp/ipykernel_589681/104254519.py:12: FutureWarning: The frame.append method is deprecated and will be removed from pandas in a future version. Use pandas.concat instead.\n",
      "  alldf = alldf.append(df)\n"
     ]
    },
    {
     "name": "stdout",
     "output_type": "stream",
     "text": [
      "2021.04.06_GEDI02_A_2021096122832_O13117_03_T10892_02_003_02_V002.json\n"
     ]
    },
    {
     "name": "stderr",
     "output_type": "stream",
     "text": [
      "/tmp/ipykernel_589681/104254519.py:12: FutureWarning: The frame.append method is deprecated and will be removed from pandas in a future version. Use pandas.concat instead.\n",
      "  alldf = alldf.append(df)\n"
     ]
    },
    {
     "name": "stdout",
     "output_type": "stream",
     "text": [
      "2021.04.08_GEDI02_A_2021098122844_O13148_03_T10816_02_003_02_V002.json\n"
     ]
    },
    {
     "name": "stderr",
     "output_type": "stream",
     "text": [
      "/tmp/ipykernel_589681/104254519.py:12: FutureWarning: The frame.append method is deprecated and will be removed from pandas in a future version. Use pandas.concat instead.\n",
      "  alldf = alldf.append(df)\n"
     ]
    },
    {
     "name": "stdout",
     "output_type": "stream",
     "text": [
      "2021.04.09_GEDI02_A_2021099022455_O13157_02_T05944_02_003_02_V002.json\n"
     ]
    },
    {
     "name": "stderr",
     "output_type": "stream",
     "text": [
      "/tmp/ipykernel_589681/104254519.py:12: FutureWarning: The frame.append method is deprecated and will be removed from pandas in a future version. Use pandas.concat instead.\n",
      "  alldf = alldf.append(df)\n"
     ]
    },
    {
     "name": "stdout",
     "output_type": "stream",
     "text": [
      "2021.04.10_GEDI02_A_2021100013833_O13172_02_T06770_02_003_02_V002.json\n"
     ]
    },
    {
     "name": "stderr",
     "output_type": "stream",
     "text": [
      "/tmp/ipykernel_589681/104254519.py:12: FutureWarning: The frame.append method is deprecated and will be removed from pandas in a future version. Use pandas.concat instead.\n",
      "  alldf = alldf.append(df)\n"
     ]
    },
    {
     "name": "stdout",
     "output_type": "stream",
     "text": [
      "2021.04.10_GEDI02_A_2021100105601_O13178_03_T07893_02_003_02_V002.json\n"
     ]
    },
    {
     "name": "stderr",
     "output_type": "stream",
     "text": [
      "/tmp/ipykernel_589681/104254519.py:12: FutureWarning: The frame.append method is deprecated and will be removed from pandas in a future version. Use pandas.concat instead.\n",
      "  alldf = alldf.append(df)\n"
     ]
    },
    {
     "name": "stdout",
     "output_type": "stream",
     "text": [
      "2021.04.11_GEDI02_A_2021101005211_O13187_02_T06020_02_003_02_V002.json\n"
     ]
    },
    {
     "name": "stderr",
     "output_type": "stream",
     "text": [
      "/tmp/ipykernel_589681/104254519.py:12: FutureWarning: The frame.append method is deprecated and will be removed from pandas in a future version. Use pandas.concat instead.\n",
      "  alldf = alldf.append(df)\n"
     ]
    },
    {
     "name": "stdout",
     "output_type": "stream",
     "text": [
      "2021.04.12_GEDI02_A_2021102105611_O13209_03_T09240_02_003_02_V002.json\n"
     ]
    },
    {
     "name": "stderr",
     "output_type": "stream",
     "text": [
      "/tmp/ipykernel_589681/104254519.py:12: FutureWarning: The frame.append method is deprecated and will be removed from pandas in a future version. Use pandas.concat instead.\n",
      "  alldf = alldf.append(df)\n"
     ]
    },
    {
     "name": "stdout",
     "output_type": "stream",
     "text": [
      "2021.04.13_GEDI02_A_2021103005223_O13218_02_T07367_02_003_02_V002.json\n"
     ]
    },
    {
     "name": "stderr",
     "output_type": "stream",
     "text": [
      "/tmp/ipykernel_589681/104254519.py:12: FutureWarning: The frame.append method is deprecated and will be removed from pandas in a future version. Use pandas.concat instead.\n",
      "  alldf = alldf.append(df)\n"
     ]
    },
    {
     "name": "stdout",
     "output_type": "stream",
     "text": [
      "2021.04.14_GEDI02_A_2021104000601_O13233_02_T06617_02_003_02_V002.json\n"
     ]
    },
    {
     "name": "stderr",
     "output_type": "stream",
     "text": [
      "/tmp/ipykernel_589681/104254519.py:12: FutureWarning: The frame.append method is deprecated and will be removed from pandas in a future version. Use pandas.concat instead.\n",
      "  alldf = alldf.append(df)\n"
     ]
    },
    {
     "name": "stdout",
     "output_type": "stream",
     "text": [
      "2021.04.14_GEDI02_A_2021104092328_O13239_03_T06317_02_003_02_V002.json\n"
     ]
    },
    {
     "name": "stderr",
     "output_type": "stream",
     "text": [
      "/tmp/ipykernel_589681/104254519.py:12: FutureWarning: The frame.append method is deprecated and will be removed from pandas in a future version. Use pandas.concat instead.\n",
      "  alldf = alldf.append(df)\n"
     ]
    },
    {
     "name": "stdout",
     "output_type": "stream",
     "text": [
      "2021.04.14_GEDI02_A_2021104231939_O13248_02_T08713_02_003_02_V002.json\n"
     ]
    },
    {
     "name": "stderr",
     "output_type": "stream",
     "text": [
      "/tmp/ipykernel_589681/104254519.py:12: FutureWarning: The frame.append method is deprecated and will be removed from pandas in a future version. Use pandas.concat instead.\n",
      "  alldf = alldf.append(df)\n"
     ]
    },
    {
     "name": "stdout",
     "output_type": "stream",
     "text": [
      "2021.04.16_GEDI02_A_2021106092338_O13270_03_T09087_02_003_04_V002.json\n"
     ]
    },
    {
     "name": "stderr",
     "output_type": "stream",
     "text": [
      "/tmp/ipykernel_589681/104254519.py:12: FutureWarning: The frame.append method is deprecated and will be removed from pandas in a future version. Use pandas.concat instead.\n",
      "  alldf = alldf.append(df)\n"
     ]
    },
    {
     "name": "stdout",
     "output_type": "stream",
     "text": [
      "2021.04.17_GEDI02_A_2021107083716_O13285_03_T02645_02_003_02_V002.json\n"
     ]
    },
    {
     "name": "stderr",
     "output_type": "stream",
     "text": [
      "/tmp/ipykernel_589681/104254519.py:12: FutureWarning: The frame.append method is deprecated and will be removed from pandas in a future version. Use pandas.concat instead.\n",
      "  alldf = alldf.append(df)\n"
     ]
    },
    {
     "name": "stdout",
     "output_type": "stream",
     "text": [
      "2021.04.17_GEDI02_A_2021107223326_O13294_02_T00772_02_003_02_V002.json\n"
     ]
    },
    {
     "name": "stderr",
     "output_type": "stream",
     "text": [
      "/tmp/ipykernel_589681/104254519.py:12: FutureWarning: The frame.append method is deprecated and will be removed from pandas in a future version. Use pandas.concat instead.\n",
      "  alldf = alldf.append(df)\n"
     ]
    },
    {
     "name": "stdout",
     "output_type": "stream",
     "text": [
      "2021.04.18_GEDI02_A_2021108075054_O13300_03_T02048_02_003_02_V002.json\n"
     ]
    },
    {
     "name": "stderr",
     "output_type": "stream",
     "text": [
      "/tmp/ipykernel_589681/104254519.py:12: FutureWarning: The frame.append method is deprecated and will be removed from pandas in a future version. Use pandas.concat instead.\n",
      "  alldf = alldf.append(df)\n"
     ]
    },
    {
     "name": "stdout",
     "output_type": "stream",
     "text": [
      "2021.04.18_GEDI02_A_2021108214704_O13309_02_T10136_02_003_02_V002.json\n"
     ]
    },
    {
     "name": "stderr",
     "output_type": "stream",
     "text": [
      "/tmp/ipykernel_589681/104254519.py:12: FutureWarning: The frame.append method is deprecated and will be removed from pandas in a future version. Use pandas.concat instead.\n",
      "  alldf = alldf.append(df)\n"
     ]
    },
    {
     "name": "stdout",
     "output_type": "stream",
     "text": [
      "2021.04.20_GEDI02_A_2021110075103_O13331_03_T10510_02_003_02_V002.json\n"
     ]
    },
    {
     "name": "stderr",
     "output_type": "stream",
     "text": [
      "/tmp/ipykernel_589681/104254519.py:12: FutureWarning: The frame.append method is deprecated and will be removed from pandas in a future version. Use pandas.concat instead.\n",
      "  alldf = alldf.append(df)\n"
     ]
    },
    {
     "name": "stdout",
     "output_type": "stream",
     "text": [
      "2021.04.22_GEDI02_A_2021112201424_O13370_02_T07137_02_003_02_V002.json\n"
     ]
    },
    {
     "name": "stderr",
     "output_type": "stream",
     "text": [
      "/tmp/ipykernel_589681/104254519.py:12: FutureWarning: The frame.append method is deprecated and will be removed from pandas in a future version. Use pandas.concat instead.\n",
      "  alldf = alldf.append(df)\n"
     ]
    },
    {
     "name": "stdout",
     "output_type": "stream",
     "text": [
      "2021.04.24_GEDI02_A_2021114201430_O13401_02_T08484_02_003_02_V002.json\n"
     ]
    },
    {
     "name": "stderr",
     "output_type": "stream",
     "text": [
      "/tmp/ipykernel_589681/104254519.py:12: FutureWarning: The frame.append method is deprecated and will be removed from pandas in a future version. Use pandas.concat instead.\n",
      "  alldf = alldf.append(df)\n"
     ]
    },
    {
     "name": "stdout",
     "output_type": "stream",
     "text": [
      "2021.04.25_GEDI02_A_2021115192806_O13416_02_T06311_02_003_02_V002.json\n"
     ]
    },
    {
     "name": "stderr",
     "output_type": "stream",
     "text": [
      "/tmp/ipykernel_589681/104254519.py:12: FutureWarning: The frame.append method is deprecated and will be removed from pandas in a future version. Use pandas.concat instead.\n",
      "  alldf = alldf.append(df)\n"
     ]
    },
    {
     "name": "stdout",
     "output_type": "stream",
     "text": [
      "2021.04.26_GEDI02_A_2021116184141_O13431_02_T09830_02_003_02_V002.json\n"
     ]
    },
    {
     "name": "stderr",
     "output_type": "stream",
     "text": [
      "/tmp/ipykernel_589681/104254519.py:12: FutureWarning: The frame.append method is deprecated and will be removed from pandas in a future version. Use pandas.concat instead.\n",
      "  alldf = alldf.append(df)\n"
     ]
    },
    {
     "name": "stdout",
     "output_type": "stream",
     "text": [
      "2021.04.27_GEDI02_A_2021117175515_O13446_02_T10656_02_003_02_V002.json\n"
     ]
    },
    {
     "name": "stderr",
     "output_type": "stream",
     "text": [
      "/tmp/ipykernel_589681/104254519.py:12: FutureWarning: The frame.append method is deprecated and will be removed from pandas in a future version. Use pandas.concat instead.\n",
      "  alldf = alldf.append(df)\n"
     ]
    },
    {
     "name": "stdout",
     "output_type": "stream",
     "text": [
      "2021.04.29_GEDI02_A_2021119175516_O13477_02_T10580_02_003_02_V002.json\n"
     ]
    },
    {
     "name": "stderr",
     "output_type": "stream",
     "text": [
      "/tmp/ipykernel_589681/104254519.py:12: FutureWarning: The frame.append method is deprecated and will be removed from pandas in a future version. Use pandas.concat instead.\n",
      "  alldf = alldf.append(df)\n"
     ]
    }
   ],
   "source": [
    "start = True\n",
    "for filename  in file_list:\n",
    "    print(filename)\n",
    "    filepath = os.path.join(root_path,filename)\n",
    "    if start:\n",
    "        alldf = gpd.read_file(filepath)\n",
    "        alldf.to_crs(32647)\n",
    "        start = False\n",
    "    else:\n",
    "        df = gpd.read_file(filepath)\n",
    "        df.to_crs(32647)\n",
    "        alldf = alldf.append(df)"
   ]
  },
  {
   "cell_type": "code",
   "execution_count": 8,
   "id": "3fcd3568-14da-4cad-b909-e2482c71e4fd",
   "metadata": {},
   "outputs": [],
   "source": [
    "alldf = alldf.reset_index(drop=True)"
   ]
  },
  {
   "cell_type": "code",
   "execution_count": 9,
   "id": "6b8ca899-0748-451c-ab08-b10e24e51b76",
   "metadata": {},
   "outputs": [],
   "source": [
    "alldf.to_file(\"Thailand_GEDI_2021-2022.gpkg\", driver=\"GPKG\")"
   ]
  },
  {
   "cell_type": "code",
   "execution_count": 22,
   "id": "8c7764f1-09c6-4011-b977-89aabce290df",
   "metadata": {},
   "outputs": [
    {
     "data": {
      "text/plain": [
       "'/home/jupyter/Thailand_GEDI_2021-2022.zip.zip'"
      ]
     },
     "execution_count": 22,
     "metadata": {},
     "output_type": "execute_result"
    }
   ],
   "source": [
    "import shutil\n",
    "shutil.make_archive('Thailand_GEDI_2021-2022.zip', 'zip', 'gcs/biomass-estimation-project/vm-backup/GEDI_L2/Filter_2020-2021_gpkg')"
   ]
  }
 ],
 "metadata": {
  "environment": {
   "kernel": "geolib",
   "name": "pytorch-gpu.1-12.m97",
   "type": "gcloud",
   "uri": "gcr.io/deeplearning-platform-release/pytorch-gpu.1-12:m97"
  },
  "kernelspec": {
   "display_name": "geolib",
   "language": "python",
   "name": "geolib"
  },
  "language_info": {
   "codemirror_mode": {
    "name": "ipython",
    "version": 3
   },
   "file_extension": ".py",
   "mimetype": "text/x-python",
   "name": "python",
   "nbconvert_exporter": "python",
   "pygments_lexer": "ipython3",
   "version": "3.9.15"
  }
 },
 "nbformat": 4,
 "nbformat_minor": 5
}
